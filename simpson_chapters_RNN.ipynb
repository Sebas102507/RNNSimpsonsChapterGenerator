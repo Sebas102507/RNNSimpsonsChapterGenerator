{
  "nbformat": 4,
  "nbformat_minor": 0,
  "metadata": {
    "colab": {
      "provenance": [],
      "machine_shape": "hm"
    },
    "kernelspec": {
      "name": "python3",
      "display_name": "Python 3"
    },
    "language_info": {
      "name": "python"
    },
    "accelerator": "GPU",
    "gpuClass": "standard"
  },
  "cells": [
    {
      "cell_type": "markdown",
      "source": [
        "# Laboratorio RNN"
      ],
      "metadata": {
        "id": "cbnYrtWTmCZI"
      }
    },
    {
      "cell_type": "markdown",
      "source": [
        "## Autores:\n",
        "\n",
        "- Juan Sebastián Vargas"
      ],
      "metadata": {
        "id": "F3rghfEi9Jx3"
      }
    },
    {
      "cell_type": "markdown",
      "source": [
        "## Test"
      ],
      "metadata": {
        "id": "QXOHrkQJ3Ga4"
      }
    },
    {
      "cell_type": "code",
      "source": [
        "from keras.preprocessing.text import Tokenizer\n",
        "samples = ['The cat sat on the mat.', 'The dog ate my homework.']\n",
        "tokenizer = Tokenizer(num_words=1000)\n",
        "tokenizer.fit_on_texts(samples)\n",
        "sequences = tokenizer.texts_to_sequences(samples)\n",
        "one_hot_results = tokenizer.texts_to_matrix(samples, mode='binary')\n",
        "word_index = tokenizer.word_index\n",
        "print('Found %s unique tokens.' % len(word_index))"
      ],
      "metadata": {
        "colab": {
          "base_uri": "https://localhost:8080/"
        },
        "id": "R7mh7o0o3IRO",
        "outputId": "1f4504b6-24c3-471b-b6f3-d3d9b3667f90"
      },
      "execution_count": null,
      "outputs": [
        {
          "output_type": "stream",
          "name": "stdout",
          "text": [
            "Found 9 unique tokens.\n"
          ]
        }
      ]
    },
    {
      "cell_type": "markdown",
      "source": [
        "## Imports"
      ],
      "metadata": {
        "id": "x3M3WBYqmFSi"
      }
    },
    {
      "cell_type": "code",
      "execution_count": null,
      "metadata": {
        "id": "cGkstBGhl7vF"
      },
      "outputs": [],
      "source": [
        "from tensorflow import keras\n",
        "from tensorflow.keras import layers\n",
        "from tensorflow.keras.optimizers import Adam\n",
        "import tensorflow as tf\n",
        "import numpy as np\n",
        "import os\n",
        "import time\n",
        "import matplotlib.pyplot as plt\n",
        "import re\n",
        "from tensorflow.keras.layers.experimental.preprocessing import TextVectorization\n",
        "from tensorflow.keras.callbacks import EarlyStopping, ModelCheckpoint"
      ]
    },
    {
      "cell_type": "markdown",
      "source": [
        "## Reading Data"
      ],
      "metadata": {
        "id": "oC2pOzVlnE47"
      }
    },
    {
      "cell_type": "code",
      "source": [
        "# Leemos el archivo a una variable texto\n",
        "simpsons_text = open(\"/content/summary.txt\", 'rb').read().decode(encoding='utf-8')\n",
        "# La longitud del string nos dice el número de caracteres\n",
        "print(f'Length of text: {len(simpsons_text)} characters')"
      ],
      "metadata": {
        "colab": {
          "base_uri": "https://localhost:8080/"
        },
        "id": "bggPYzQLmSjy",
        "outputId": "395a7ed2-06a7-451e-f1b9-af86b15c54cc"
      },
      "execution_count": null,
      "outputs": [
        {
          "output_type": "stream",
          "name": "stdout",
          "text": [
            "Length of text: 1465471 characters\n"
          ]
        }
      ]
    },
    {
      "cell_type": "code",
      "source": [
        "print(simpsons_text[:5000])"
      ],
      "metadata": {
        "colab": {
          "base_uri": "https://localhost:8080/"
        },
        "id": "dxUIkRRfmV84",
        "outputId": "f13ab209-cf28-468b-a4c0-b9c7e85c2e16"
      },
      "execution_count": null,
      "outputs": [
        {
          "output_type": "stream",
          "name": "stdout",
          "text": [
            "\n",
            "> Quotes and Scene Summary\n",
            "===============================================================================\n",
            "% [Syndication cuts are marked in curly braces \"{}\" and are courtesy of\n",
            "% Ricardo Lafaurie and Frederic Briere.]\n",
            "%\n",
            "% It's another lazy day at the Springfield Nuclear Power Plant.  Homer\n",
            "% sits snoring at his desk, his old, faithful dog snoozing in a chair\n",
            "% next to him.  Lenny has craftily constructed a hammock for himself in\n",
            "% another room.\n",
            "%\n",
            "% In his sleep, Homer rests his head on the control panel in front of\n",
            "% him -- directly on the \"PLANT DESTRUCT: PLEASE DO NOT PUSH\" button.\n",
            "% The control room becomes awash in the red glow of emergency lights,\n",
            "% and the automated female voice says, \"Core meltdown in ten seconds...\n",
            "% nine...\" Homer's dog wakes up, hears the voice, and pulls the reset\n",
            "% lever with his mouth.  The voice announces, \"Meltdown averted...good\n",
            "% boy.\"\n",
            "%\n",
            "% Mr. Burns, too, is asleep in his chair, its back to his wall of\n",
            "% monitors.  Yes, even the people on the monitors are asleep too.\n",
            "% Smithers sleeps, curled up beside Burns' chair.  His leg twitches, and\n",
            "% he moans softly in his sleep.\n",
            "%\n",
            "% Outside, in the parking lot, the Nuclear Inspection Van recreational\n",
            "% vehicle pulls up.  Three white hard-hatted, lab-jacketed inspectors\n",
            "% jump out and press the buzzer at the entrance to the plant.\n",
            "\n",
            "Agent 1: [presses the buzzer]\n",
            "  Burns: [awakening, over the intercom] Mmm...hmm...what?  How dare you\n",
            "         disturb me during nap time.\n",
            "Agent 1: We're from the Nuclear Regulatory Commission.  This is a\n",
            "         surprise test of worker competence.\n",
            "  Burns: There must be some mistake.  We, er, we make cookies here: Mr.\n",
            "         Burns' Olde-Fashioned Good-Time Extra-Chewy --\n",
            "Agent 2: [to Agent 3] Get the axe.\n",
            "-- We've done this before, \"Homer Goes to College\"\n",
            "\n",
            "% Smithers and Burns watch from the window as the inspectors lead some\n",
            "% plant employees into their vehicle.\n",
            "\n",
            "   Burns: The watchdog of public safety...is there any lower form of\n",
            "          life?\n",
            "Smithers: Don't worry sir, I rounded up our less gifted employees and\n",
            "          led them into the basement.\n",
            "           [Shot of the basement with Homer and two other guys]\n",
            "  Bernie: Duh, Homer, why are we down here?\n",
            "   Homer: Aw, geez.  I told you, Bernie: to guard the bee!\n",
            "     Man: [whining] But why?\n",
            "   Homer: Aw, you guys are pathetic.  No wonder Smithers made me head\n",
            "          bee-guy.\n",
            "           [Homer kicks the jar accidentally, smashing it, and the bee\n",
            "          escapes]\n",
            "  Bernie: Duh, he's gettin' away.\n",
            "     Man: Oh, we did bad!\n",
            "-- No recess for you, \"Homer Goes to College\"\n",
            "\n",
            "% The inspectors want to test Homer's competence next, but Smithers\n",
            "% apologizes for him, saying, \"He couldn't _bee_ here.\"  Burns fobs them\n",
            "% off with some excuse about Homer chairing a conference on nuclear\n",
            "% fission in Geneva.  Unfortunately, Homer jumps up through a manhole\n",
            "% cover just then, exclaiming, \"The bee bit my bottom!  Now my bottom's\n",
            "% big!\"\n",
            "%\n",
            "% The inspectors put Homer in the van.\n",
            "\n",
            "Agent 2: Homer, this is an exact replica of your work station.\n",
            "  Homer: [moans]\n",
            "Agent 2: Now we're going to simulate a power surge in core sector eight.\n",
            "  Homer: What the hell are you talking about?\n",
            "-- This won't look good on a resume, \"Homer Goes to College\"\n",
            "\n",
            "% Homer is despondent.\n",
            "\n",
            "  Homer: What do I do?  What do I do?  In the name of God you've got to\n",
            "         tell me!  [sobbing]\n",
            "Agent 2: Relax, it's just a simulator.  Nothing can go wrong.\n",
            "  Homer: [sotto voce] Just poke blindly at the controls until they let\n",
            "         you go.\n",
            "-- It's worked before, \"Homer Goes to College\"\n",
            "\n",
            "% Homer begins doing just that, but something goes horribly wrong.\n",
            "% \"This can't be happening!\" exclaims one of the inspectors, as the van\n",
            "% begins to glow green and sink into the ground.  Panic ensues at the\n",
            "% plant.  Burns decides to try to get away in his escape pod.  He\n",
            "% activates the entrance to the pod, jumps in, and slams the door shut.\n",
            "% Smithers implores, \"For the love of God, sir, there are two seats!\"\n",
            "% but Burns likes to put his feet up.  The pod takes off, but doesn't\n",
            "% even come close to reaching escape velocity.  Instead, it crashes into\n",
            "% the street and continues bouncing down it in a crumpled ball.\n",
            "%\n",
            "% A glowing green Homer rises out of the hole left where the van used to\n",
            "% be, growling and fearsome.  \"Must destroy mankind,\" he intones, but\n",
            "% the alarm on his watch goes off, reminding him that it's lunch time.\n",
            "% He shakes off his radioactivity and bounds off to eat.\n",
            "%\n",
            "% The agents watch the detox team spray the hole in the parking lot with\n",
            "% a foamy sealant.\n",
            "\n",
            "Agent 2: I'm still not sure how he caused the meltdown.  There wasn't\n",
            "         any nuclear material in the truck!\n",
            "  Burns: Oh, very well, it's time for your bribe.\n",
            "         Now, you can either have the washer and dryer where the lovely\n",
            "         Smithers is standing, or you can trade it all in for what's in\n",
            "         this box.\n",
            "-- I can't decide, Monty, \"Homer Goes to College\"\n",
            "\n",
            "% One inspector wants the box, but the other inspector remembers \n"
          ]
        }
      ]
    },
    {
      "cell_type": "code",
      "source": [
        "print(len(simpsons_text))"
      ],
      "metadata": {
        "colab": {
          "base_uri": "https://localhost:8080/"
        },
        "id": "yfFWuvWDiArZ",
        "outputId": "894adfe4-3ccb-449a-d54f-3186a868f660"
      },
      "execution_count": null,
      "outputs": [
        {
          "output_type": "stream",
          "name": "stdout",
          "text": [
            "1465471\n"
          ]
        }
      ]
    },
    {
      "cell_type": "markdown",
      "source": [
        "## Creating vocabulary"
      ],
      "metadata": {
        "id": "zCWS75-OnOan"
      }
    },
    {
      "cell_type": "code",
      "source": [
        "def extract_words(string):\n",
        "    # Define a regular expression to match any sequence of one or more characters\n",
        "    pattern = re.compile(r'\\S+')\n",
        "    # Use the findall() method to extract all words from the string and return them as a set\n",
        "    return sorted(set(pattern.findall(string)))\n"
      ],
      "metadata": {
        "id": "g-kgoE8ipgrT"
      },
      "execution_count": null,
      "outputs": []
    },
    {
      "cell_type": "code",
      "source": [
        "#vocab = extract_words(simpsons_text)\n",
        "vocab = simpsons_text.split(' ')"
      ],
      "metadata": {
        "id": "HC6hIvGktCwk"
      },
      "execution_count": null,
      "outputs": []
    },
    {
      "cell_type": "code",
      "source": [
        "vocab[:5]"
      ],
      "metadata": {
        "id": "ne7bFBHxq5sG",
        "colab": {
          "base_uri": "https://localhost:8080/"
        },
        "outputId": "f0bff962-476a-493d-f93c-de69896454ec"
      },
      "execution_count": null,
      "outputs": [
        {
          "output_type": "execute_result",
          "data": {
            "text/plain": [
              "['\\n>',\n",
              " 'Quotes',\n",
              " 'and',\n",
              " 'Scene',\n",
              " 'Summary\\n===============================================================================\\n%']"
            ]
          },
          "metadata": {},
          "execution_count": 8
        }
      ]
    },
    {
      "cell_type": "code",
      "source": [
        "simpson_vocab = vocab\n",
        "print(f'{len(simpson_vocab)} unique words')"
      ],
      "metadata": {
        "colab": {
          "base_uri": "https://localhost:8080/"
        },
        "id": "SzNB9LN1m-Ho",
        "outputId": "19c687be-183a-4be2-b356-974cd65e4a47"
      },
      "execution_count": null,
      "outputs": [
        {
          "output_type": "stream",
          "name": "stdout",
          "text": [
            "317132 unique words\n"
          ]
        }
      ]
    },
    {
      "cell_type": "code",
      "source": [
        "vectorize_layer = tf.keras.layers.TextVectorization(\n",
        "    standardize=None,\n",
        "    split=None,\n",
        "    output_mode='int',\n",
        "    encoding='utf-8'\n",
        ")"
      ],
      "metadata": {
        "id": "Vg72ASVj0zEP"
      },
      "execution_count": null,
      "outputs": []
    },
    {
      "cell_type": "code",
      "source": [
        "vectorize_layer.adapt(simpsons_text.split(' '))"
      ],
      "metadata": {
        "id": "vGAAXJjdEYZW"
      },
      "execution_count": null,
      "outputs": []
    },
    {
      "cell_type": "code",
      "source": [
        "vectorize_data= vectorize_layer(simpsons_text)"
      ],
      "metadata": {
        "id": "uC1S7Y46_Ubf"
      },
      "execution_count": null,
      "outputs": []
    },
    {
      "cell_type": "code",
      "source": [
        "vectorize_data"
      ],
      "metadata": {
        "colab": {
          "base_uri": "https://localhost:8080/"
        },
        "id": "lAfoQ4RTC1eM",
        "outputId": "b237533b-d072-4289-8434-5dfa1be905a6"
      },
      "execution_count": null,
      "outputs": [
        {
          "output_type": "execute_result",
          "data": {
            "text/plain": [
              "<tf.Tensor: shape=(), dtype=int64, numpy=1>"
            ]
          },
          "metadata": {},
          "execution_count": 13
        }
      ]
    },
    {
      "cell_type": "code",
      "source": [
        "vocabulary = vectorize_layer.get_vocabulary()"
      ],
      "metadata": {
        "id": "U84KES-V1wEL"
      },
      "execution_count": null,
      "outputs": []
    },
    {
      "cell_type": "code",
      "source": [
        "vocabulary"
      ],
      "metadata": {
        "colab": {
          "base_uri": "https://localhost:8080/"
        },
        "id": "hlJk0MhzodLh",
        "outputId": "6183aa63-eda3-4ab9-a812-0e7ab3970fa5"
      },
      "execution_count": null,
      "outputs": [
        {
          "output_type": "execute_result",
          "data": {
            "text/plain": [
              "['',\n",
              " '[UNK]',\n",
              " 'the',\n",
              " 'a',\n",
              " 'to',\n",
              " 'and',\n",
              " 'of',\n",
              " 'I',\n",
              " 'in',\n",
              " 'you',\n",
              " 'on',\n",
              " 'is',\n",
              " 'with',\n",
              " 'his',\n",
              " 'for',\n",
              " 'at',\n",
              " 'it',\n",
              " 'that',\n",
              " 'The',\n",
              " 'Homer',\n",
              " 'Bart:',\n",
              " 'my',\n",
              " 'your',\n",
              " 'have',\n",
              " \"I'm\",\n",
              " 'Bart',\n",
              " 'he',\n",
              " 'out',\n",
              " 'Homer:',\n",
              " 'be',\n",
              " 'this',\n",
              " 'are',\n",
              " 'Lisa:',\n",
              " 'all',\n",
              " 'but',\n",
              " 'as',\n",
              " 'Oh,',\n",
              " '--',\n",
              " 'up',\n",
              " 'just',\n",
              " 'from',\n",
              " 'like',\n",
              " 'we',\n",
              " 'was',\n",
              " 'You',\n",
              " \"don't\",\n",
              " 'into',\n",
              " 'me',\n",
              " 'get',\n",
              " 'an',\n",
              " 'one',\n",
              " 'can',\n",
              " 'not',\n",
              " 'Marge',\n",
              " 'do',\n",
              " 'going',\n",
              " \"it's\",\n",
              " 'by',\n",
              " 'Well,',\n",
              " 'He',\n",
              " 'they',\n",
              " 'And',\n",
              " 'some',\n",
              " 'her',\n",
              " 'Lisa',\n",
              " 'Mr.',\n",
              " 'him',\n",
              " 'what',\n",
              " 'about',\n",
              " 'got',\n",
              " 'A',\n",
              " 'has',\n",
              " 'so',\n",
              " '\"Homer',\n",
              " 'back',\n",
              " \"It's\",\n",
              " 'But',\n",
              " 'off',\n",
              " \"I'll\",\n",
              " 'down',\n",
              " 'walks',\n",
              " 'go',\n",
              " 'Marge:',\n",
              " 'over',\n",
              " 'the\\n',\n",
              " 'their',\n",
              " 'our',\n",
              " 'want',\n",
              " 'little',\n",
              " 'no',\n",
              " 'the\\n%',\n",
              " 'know',\n",
              " \"you're\",\n",
              " 'then',\n",
              " '--\\n',\n",
              " 'think',\n",
              " 'if',\n",
              " 'Homer,',\n",
              " 'will',\n",
              " \"can't\",\n",
              " '\"The',\n",
              " 'who',\n",
              " \"That's\",\n",
              " 'At',\n",
              " 'What',\n",
              " 'see',\n",
              " 'man',\n",
              " 'only',\n",
              " 'she',\n",
              " 'It',\n",
              " 'Bart,',\n",
              " 'been',\n",
              " 'them',\n",
              " 'it,',\n",
              " 'when',\n",
              " 'take',\n",
              " 'a\\n',\n",
              " 'two',\n",
              " 'Hey,',\n",
              " \"I've\",\n",
              " 'next',\n",
              " 'looks',\n",
              " 'through',\n",
              " \"that's\",\n",
              " 'you,',\n",
              " 'time',\n",
              " 'Burns:',\n",
              " 'Abe:',\n",
              " 'more',\n",
              " 'This',\n",
              " 'new',\n",
              " 'make',\n",
              " 'We',\n",
              " 'Moe:',\n",
              " 'come',\n",
              " 'around',\n",
              " 'Springfield',\n",
              " 'Burns',\n",
              " 'other',\n",
              " 'never',\n",
              " 'All',\n",
              " '\"Bart',\n",
              " 'could',\n",
              " '[End',\n",
              " 'In',\n",
              " 'Marge,',\n",
              " 'Ned:',\n",
              " 'Time:',\n",
              " 'Act',\n",
              " 'They',\n",
              " 'good',\n",
              " 'front',\n",
              " 'family',\n",
              " 'where',\n",
              " 'look',\n",
              " \"Homer's\",\n",
              " 'right',\n",
              " 'would',\n",
              " 'how',\n",
              " 'a\\n%',\n",
              " 'were',\n",
              " 'something',\n",
              " 'right,',\n",
              " '[the',\n",
              " 'really',\n",
              " 'need',\n",
              " 'way',\n",
              " 'or',\n",
              " 'had',\n",
              " 'gets',\n",
              " 'Now',\n",
              " 'to\\n',\n",
              " \"didn't\",\n",
              " 'That',\n",
              " 'old',\n",
              " \"You're\",\n",
              " 'vs.',\n",
              " 'people',\n",
              " 'here',\n",
              " 'there',\n",
              " '[Bart',\n",
              " 'another',\n",
              " 'OK,',\n",
              " 'No',\n",
              " \"he's\",\n",
              " 'No,',\n",
              " 'very',\n",
              " 'give',\n",
              " 'any',\n",
              " 'now',\n",
              " 'So',\n",
              " \"Don't\",\n",
              " 'us',\n",
              " 'did',\n",
              " '[Homer',\n",
              " 'should',\n",
              " 'Horror',\n",
              " '[a',\n",
              " 'If',\n",
              " '\"Treehouse',\n",
              " '\"Bart\\'s',\n",
              " 'and\\n%',\n",
              " 'Man:',\n",
              " 'says',\n",
              " 'tell',\n",
              " 'runs',\n",
              " 'it.',\n",
              " 'know,',\n",
              " 'Just',\n",
              " 'and\\n',\n",
              " \"Bart's\",\n",
              " 'kids',\n",
              " 'head',\n",
              " 'Uh,',\n",
              " 'say',\n",
              " 'Simpson',\n",
              " 'My',\n",
              " 'first',\n",
              " 'Aw,',\n",
              " 'Oh',\n",
              " 'too',\n",
              " 'these',\n",
              " 'of\\n',\n",
              " 'me,',\n",
              " 'How',\n",
              " 'still',\n",
              " 'of\\n%',\n",
              " 'children',\n",
              " 'let',\n",
              " \"we're\",\n",
              " 'than',\n",
              " 'goes',\n",
              " 'Who',\n",
              " 'Lisa,',\n",
              " 'walk',\n",
              " 'love',\n",
              " \"there's\",\n",
              " 'while',\n",
              " 'thing',\n",
              " 'him,',\n",
              " 'Scratchy',\n",
              " 'takes',\n",
              " 'pulls',\n",
              " 'Not',\n",
              " 'which',\n",
              " 'those',\n",
              " 'am',\n",
              " 'sees',\n",
              " 'everyone',\n",
              " 'even',\n",
              " 'day',\n",
              " 'Maggie',\n",
              " 'Krusty',\n",
              " 'does',\n",
              " 'Yeah,',\n",
              " 'door',\n",
              " '[everyone',\n",
              " 'Homer\"\\n\\n%',\n",
              " 'last',\n",
              " 'Dad,',\n",
              " 'Apu:',\n",
              " 'turns',\n",
              " 'starts',\n",
              " 'on,',\n",
              " 'much',\n",
              " 'big',\n",
              " \"I'd\",\n",
              " 'I\\n',\n",
              " 'ever',\n",
              " '[they',\n",
              " 'stop',\n",
              " 'car',\n",
              " 'being',\n",
              " \"He's\",\n",
              " 'its',\n",
              " 'behind',\n",
              " 'away',\n",
              " 'When',\n",
              " '\"I',\n",
              " 'shows',\n",
              " 'must',\n",
              " 'watch',\n",
              " \"they're\",\n",
              " 'says,',\n",
              " 'made',\n",
              " \"let's\",\n",
              " \"There's\",\n",
              " 'up,',\n",
              " 'put',\n",
              " '\"Marge',\n",
              " 'you\\n',\n",
              " \"won't\",\n",
              " 'under',\n",
              " 'sure',\n",
              " 'because',\n",
              " 'out,',\n",
              " 'comes',\n",
              " 'before',\n",
              " 'to\\n%',\n",
              " 'sits',\n",
              " 'after',\n",
              " '[gasps]',\n",
              " 'Skinner',\n",
              " 'She',\n",
              " 'As',\n",
              " 'tries',\n",
              " 'Simpson,',\n",
              " 'Ned',\n",
              " 'always',\n",
              " 'TV',\n",
              " 'Milhouse',\n",
              " \"Let's\",\n",
              " 'Itchy',\n",
              " 'better',\n",
              " 'Yes,',\n",
              " 'Bad',\n",
              " 'three',\n",
              " 'each',\n",
              " \"doesn't\",\n",
              " 'Skinner:',\n",
              " \"What's\",\n",
              " 'Gets',\n",
              " 'Come',\n",
              " 'why',\n",
              " 'said',\n",
              " 'own',\n",
              " 'every',\n",
              " 'Edna:',\n",
              " 'keep',\n",
              " 'house',\n",
              " 'call',\n",
              " 'Now,',\n",
              " 'thought',\n",
              " 'you.',\n",
              " 'school',\n",
              " '2:',\n",
              " 'makes',\n",
              " 'getting',\n",
              " 'find',\n",
              " '\"Lisa\\'s',\n",
              " '\"Lisa',\n",
              " \"you've\",\n",
              " 'home',\n",
              " '[walks',\n",
              " \"We're\",\n",
              " 'opens',\n",
              " \"isn't\",\n",
              " 'help',\n",
              " 'believe',\n",
              " 'One',\n",
              " 'Bob',\n",
              " \"what's\",\n",
              " \"we'll\",\n",
              " '[to',\n",
              " 'work',\n",
              " 'Why',\n",
              " 'Man\"\\n\\n%',\n",
              " 'Get',\n",
              " '\"Who',\n",
              " \"you'll\",\n",
              " 'stands',\n",
              " 'room',\n",
              " 'play',\n",
              " 'kind',\n",
              " 'in\\n',\n",
              " 'feel',\n",
              " 'doing',\n",
              " '[in',\n",
              " 'Mrs.',\n",
              " 'Flanders',\n",
              " '1:',\n",
              " 'show',\n",
              " 'long',\n",
              " 'His',\n",
              " 'Burns?',\n",
              " 'Bart.',\n",
              " 'whole',\n",
              " 'start',\n",
              " 'my\\n',\n",
              " 'run',\n",
              " 'now,',\n",
              " 'lot',\n",
              " 'Shot',\n",
              " 'looking',\n",
              " \"Burns'\",\n",
              " 'well,',\n",
              " 'towards',\n",
              " 'On',\n",
              " 'Mom,',\n",
              " 'Malibu',\n",
              " 'Good',\n",
              " 'your\\n',\n",
              " 'turn',\n",
              " 'things',\n",
              " 'men',\n",
              " 'Your',\n",
              " 'puts',\n",
              " 'name',\n",
              " 'uh,',\n",
              " 'town',\n",
              " 'no,',\n",
              " 'home,',\n",
              " 'grabs',\n",
              " 'bad',\n",
              " 'Part',\n",
              " 'Hello,',\n",
              " '\"Two',\n",
              " 'that,',\n",
              " 'sign',\n",
              " 'place',\n",
              " 'onto',\n",
              " 'many',\n",
              " 'left',\n",
              " 'eat',\n",
              " 'calls',\n",
              " 'Well',\n",
              " 'Aah!',\n",
              " 'here,',\n",
              " 'gotta',\n",
              " 'falls',\n",
              " 'Apu',\n",
              " 'use',\n",
              " 'Smithers',\n",
              " 'Dr.',\n",
              " '\"Homer\\'s',\n",
              " 'same',\n",
              " 'it]\\n',\n",
              " 'Heh',\n",
              " 'guess',\n",
              " 'er,',\n",
              " '[walking',\n",
              " 'Triple',\n",
              " 'Thank',\n",
              " 'Hey!',\n",
              " 'Do',\n",
              " 'real',\n",
              " 'great',\n",
              " 'end',\n",
              " 'cuts',\n",
              " '[he',\n",
              " 'Two.',\n",
              " 'Simpsons',\n",
              " 'Inner',\n",
              " 'Abe',\n",
              " 'playing',\n",
              " 'off]\\n',\n",
              " 'nice',\n",
              " 'me.',\n",
              " 'in\\n%',\n",
              " 'Three.',\n",
              " 'Scene',\n",
              " 'Quotes',\n",
              " 'Patty',\n",
              " 'Ooh,',\n",
              " 'One.',\n",
              " 'Is',\n",
              " 'young',\n",
              " 'try',\n",
              " 'plays',\n",
              " 'night,',\n",
              " 'money',\n",
              " 'drives',\n",
              " 'begins',\n",
              " 'appears',\n",
              " 'Summary\\n===============================================================================\\n%',\n",
              " 'Last',\n",
              " 'Be',\n",
              " 'that\\n',\n",
              " 'someone',\n",
              " 'open',\n",
              " 'music',\n",
              " 'might',\n",
              " 'inside',\n",
              " 'hear',\n",
              " 'found',\n",
              " 'face',\n",
              " 'both',\n",
              " 'Look',\n",
              " 'Everyone',\n",
              " 'Are',\n",
              " 'window',\n",
              " 'nothing',\n",
              " 'may',\n",
              " 'giant',\n",
              " 'full',\n",
              " 'free',\n",
              " '[pulls',\n",
              " 'There',\n",
              " 'without',\n",
              " 'wearing',\n",
              " 'talk',\n",
              " 'outside',\n",
              " 'most',\n",
              " 'it!',\n",
              " 'him]\\n',\n",
              " 'he\\n%',\n",
              " 'hands',\n",
              " 'best',\n",
              " '[on',\n",
              " 'Hey',\n",
              " '\"$pringfield\"\\n\\n%',\n",
              " 'you.\\n',\n",
              " 'shot',\n",
              " 'him.',\n",
              " 'for\\n',\n",
              " 'courtesy',\n",
              " 'camera',\n",
              " 'IV\"\\n\\n%',\n",
              " 'Can',\n",
              " 'Boy',\n",
              " 'watches',\n",
              " 'trying',\n",
              " 'sit',\n",
              " 'rest',\n",
              " 'past',\n",
              " 'part',\n",
              " 'marked',\n",
              " 'it.\\n',\n",
              " 'in]',\n",
              " '[pause]',\n",
              " 'Wiggum:',\n",
              " 'until',\n",
              " 'seems',\n",
              " 'scene',\n",
              " 'remember',\n",
              " 'it]',\n",
              " 'called',\n",
              " '[Marge',\n",
              " 'Wiggum',\n",
              " \"They're\",\n",
              " 'Then',\n",
              " 'Temptation',\n",
              " \"Skinner's\",\n",
              " 'Kent:',\n",
              " 'told',\n",
              " 'kill',\n",
              " 'dog',\n",
              " 'curly',\n",
              " 'braces',\n",
              " 'anything',\n",
              " 'along',\n",
              " '[Syndication',\n",
              " 'Too',\n",
              " 'Look,',\n",
              " 'Lam\"\\n\\n%',\n",
              " 'Kent',\n",
              " 'Ah,',\n",
              " '\"{}\"',\n",
              " 'large',\n",
              " 'his\\n%',\n",
              " 'be\\n',\n",
              " '[laughs]',\n",
              " 'Moe',\n",
              " 'Man',\n",
              " \"Lisa's\",\n",
              " 'Er,',\n",
              " '\"And',\n",
              " 'stupid',\n",
              " 'police',\n",
              " 'on\\n',\n",
              " 'off,',\n",
              " 'mean,',\n",
              " 'mean',\n",
              " 'heh',\n",
              " 'done',\n",
              " 'day,',\n",
              " 'coming',\n",
              " 'Marge.',\n",
              " 'Goes',\n",
              " 'Frederic',\n",
              " '&',\n",
              " 'then,',\n",
              " 'stay',\n",
              " 'saying',\n",
              " 'right.',\n",
              " 'life',\n",
              " 'leave',\n",
              " 'hot',\n",
              " 'already',\n",
              " 'again,',\n",
              " 'Seymour',\n",
              " '\"Sideshow',\n",
              " '\"Itchy',\n",
              " \"we've\",\n",
              " 'there,',\n",
              " 'such',\n",
              " 'stand',\n",
              " 'reads',\n",
              " 'phone',\n",
              " 'out]\\n',\n",
              " 'laughs',\n",
              " 'few',\n",
              " 'drive',\n",
              " 'continues',\n",
              " '[holds',\n",
              " 'Sweet',\n",
              " '--\\nHomer:',\n",
              " 'years',\n",
              " 'thinks',\n",
              " 'talking',\n",
              " 'night',\n",
              " 'in,',\n",
              " 'holds',\n",
              " 'heh,',\n",
              " '[runs',\n",
              " 'Quimby',\n",
              " 'For',\n",
              " 'Child\"\\n\\n%',\n",
              " 'Barney',\n",
              " '\"A',\n",
              " 'woman',\n",
              " 'used',\n",
              " 'red',\n",
              " 'making',\n",
              " 'living',\n",
              " 'job',\n",
              " 'hand',\n",
              " 'five',\n",
              " 'eating',\n",
              " '[sighs]',\n",
              " 'Space',\n",
              " 'Did',\n",
              " 'Briere.]\\n%\\n%',\n",
              " 'Apu\"\\n\\n%',\n",
              " '\"Radioactive',\n",
              " '\"Boy',\n",
              " 'water',\n",
              " \"wasn't\",\n",
              " 'wait',\n",
              " 'taking',\n",
              " 'special',\n",
              " 'since',\n",
              " 'parents',\n",
              " 'one,',\n",
              " 'movie',\n",
              " 'maybe',\n",
              " 'house,',\n",
              " 'heard',\n",
              " 'having',\n",
              " 'down,',\n",
              " 'cut',\n",
              " 'against',\n",
              " '[Lisa',\n",
              " 'Willy',\n",
              " 'So,',\n",
              " \"Here's\",\n",
              " 'Carl:',\n",
              " \"'N\",\n",
              " 'watching',\n",
              " 'up]',\n",
              " 'this\\n',\n",
              " 'soul',\n",
              " 'sorry,',\n",
              " 'seen',\n",
              " 'power',\n",
              " 'himself',\n",
              " 'ball',\n",
              " \"aren't\",\n",
              " '_you_',\n",
              " '[laughs',\n",
              " 'With',\n",
              " 'V\"\\n\\n%',\n",
              " 'Scoutz',\n",
              " 'Maybe',\n",
              " 'Land\"\\n\\n%',\n",
              " 'Homer.',\n",
              " 'Bypass\"\\n\\n%',\n",
              " '\"Home',\n",
              " 'worry,',\n",
              " 'well',\n",
              " 'up.',\n",
              " 'top',\n",
              " 'side',\n",
              " 'is,',\n",
              " 'change',\n",
              " 'boy',\n",
              " 'back,',\n",
              " 'baby',\n",
              " 'ask',\n",
              " '[grabs',\n",
              " 'Willy:',\n",
              " 'PTA',\n",
              " 'Mmm,',\n",
              " 'College\"\\n\\n%',\n",
              " 'sounds',\n",
              " 'ride',\n",
              " 'point',\n",
              " 'out.',\n",
              " 'once',\n",
              " 'mother',\n",
              " 'man,',\n",
              " 'live',\n",
              " 'finally',\n",
              " 'class',\n",
              " 'care',\n",
              " 'asks',\n",
              " 'also',\n",
              " \"We've\",\n",
              " 'Wait',\n",
              " 'Uh',\n",
              " 'Roberts\"\\n\\n%',\n",
              " \"I'm\\n\",\n",
              " 'Here',\n",
              " '\"Fear',\n",
              " 'wish',\n",
              " 'walking',\n",
              " 'table',\n",
              " 'pull',\n",
              " 'line',\n",
              " 'fire',\n",
              " 'eyes',\n",
              " 'check',\n",
              " 'bed',\n",
              " 'across',\n",
              " '[looks',\n",
              " 'Rival\"\\n\\n%',\n",
              " 'Principal',\n",
              " 'Martin',\n",
              " 'Lover\"\\n\\n%',\n",
              " 'Back',\n",
              " '\"Lady',\n",
              " '\"Deep',\n",
              " 'yeah,',\n",
              " 'time,',\n",
              " 'throws',\n",
              " 'thank',\n",
              " 'piece',\n",
              " 'pay',\n",
              " 'hope',\n",
              " 'hard',\n",
              " 'gun',\n",
              " 'four',\n",
              " 'everything',\n",
              " 'door,',\n",
              " 'decides',\n",
              " 'crowd',\n",
              " 'almost',\n",
              " 'To',\n",
              " 'Star',\n",
              " 'OK.',\n",
              " 'Loves',\n",
              " 'Knew',\n",
              " 'Carl',\n",
              " \"Bouvier's\",\n",
              " '\"Lemon',\n",
              " 'sorry',\n",
              " 'running',\n",
              " 'read',\n",
              " 'least',\n",
              " 'it\\n',\n",
              " 'is\\n',\n",
              " 'holding',\n",
              " 'hold',\n",
              " 'hits',\n",
              " 'his\\n',\n",
              " 'here.\\n',\n",
              " 'here.',\n",
              " 'gives',\n",
              " 'game',\n",
              " 'dressed',\n",
              " 'breaks',\n",
              " 'again.',\n",
              " 'Moe,',\n",
              " 'Krusty:',\n",
              " 'Hmm.',\n",
              " 'He\\n%',\n",
              " 'Bart!',\n",
              " '\"Sweet',\n",
              " '\"Oh,',\n",
              " \"you'd\",\n",
              " 'way,',\n",
              " 'school,',\n",
              " 'pretty',\n",
              " 'oh,',\n",
              " 'now.',\n",
              " 'learned',\n",
              " 'in.',\n",
              " 'hair',\n",
              " 'guy',\n",
              " 'close',\n",
              " 'came',\n",
              " 'box',\n",
              " 'answers',\n",
              " 'Stacy\"\\n\\n%',\n",
              " 'Oh.',\n",
              " \"Moe's\",\n",
              " 'Famous\"\\n\\n%',\n",
              " 'Burns,',\n",
              " 'Brockman',\n",
              " 'Bart\\n%',\n",
              " '\"Team',\n",
              " '\"Grampa',\n",
              " '\"Burns\\'',\n",
              " 'yes,',\n",
              " 'wants',\n",
              " 'this,',\n",
              " 'them,',\n",
              " 'tells',\n",
              " 'stops',\n",
              " 'sound',\n",
              " \"she's\",\n",
              " 'set',\n",
              " 'picture',\n",
              " 'on\\n%',\n",
              " 'me.\\n',\n",
              " 'machine',\n",
              " 'lands',\n",
              " 'kitchen',\n",
              " 'course',\n",
              " 'book',\n",
              " 'beer',\n",
              " '[shot',\n",
              " '[opens',\n",
              " \"We'll\",\n",
              " 'VI\"\\n\\n%',\n",
              " 'Sir,',\n",
              " 'Proud\"\\n\\n%',\n",
              " 'Neighbors\"\\n\\n%',\n",
              " 'Much\"\\n\\n%',\n",
              " 'Makes',\n",
              " 'Little',\n",
              " 'Lenny',\n",
              " 'Inadequacy\"\\n\\n%',\n",
              " 'Ice\"\\n\\n%',\n",
              " 'Hood\"\\n\\n%',\n",
              " '\"Mother',\n",
              " 'wrong',\n",
              " 'with\\n%',\n",
              " 'voice]',\n",
              " 'sitting',\n",
              " 'room,',\n",
              " 'probably',\n",
              " 'number',\n",
              " 'happy',\n",
              " 'guys',\n",
              " 'gonna',\n",
              " 'forget',\n",
              " 'except',\n",
              " 'couple',\n",
              " '[turns',\n",
              " 'Woman:',\n",
              " 'Vigilante\"\\n\\n%',\n",
              " 'Stop',\n",
              " 'Simpson.',\n",
              " 'Selma\"\\n\\n%',\n",
              " 'Ralph:',\n",
              " 'Homer!',\n",
              " 'Heir\"\\n\\n%',\n",
              " 'Girlfriend\"\\n\\n%',\n",
              " 'Flanders\"\\n\\n%',\n",
              " '\"Secrets',\n",
              " '\"\\'Round',\n",
              " 'wanted',\n",
              " 'took',\n",
              " 'slowly',\n",
              " 'see,',\n",
              " 'quite',\n",
              " 'points',\n",
              " 'please',\n",
              " 'miss',\n",
              " 'hell',\n",
              " \"haven't\",\n",
              " 'glass',\n",
              " 'fly',\n",
              " 'car,',\n",
              " 'candy',\n",
              " 'Nelson:',\n",
              " 'God',\n",
              " 'George:',\n",
              " 'Darkness\"\\n\\n%',\n",
              " 'them.',\n",
              " 'supposed',\n",
              " 'standing',\n",
              " 'son',\n",
              " 'reading',\n",
              " 'pushes',\n",
              " 'off.',\n",
              " 'needs',\n",
              " 'jumps',\n",
              " 'it!\\n',\n",
              " 'is\\n%',\n",
              " \"here's\",\n",
              " 'door]\\n',\n",
              " 'class,',\n",
              " '[sees',\n",
              " '[puts',\n",
              " '[chuckles]',\n",
              " 'Where',\n",
              " 'Wedding\"\\n\\n%',\n",
              " 'Troy\"\\n\\n%',\n",
              " 'Stacy',\n",
              " 'Some',\n",
              " 'Sexual',\n",
              " 'Ow!',\n",
              " 'Ehh,',\n",
              " 'Disbands\"\\n\\n%',\n",
              " 'word',\n",
              " 'up]\\n',\n",
              " 'true',\n",
              " 'toward',\n",
              " 'too,',\n",
              " 'time.',\n",
              " 'throw',\n",
              " 'store',\n",
              " 'no!',\n",
              " 'news',\n",
              " 'me!',\n",
              " 'man.',\n",
              " 'lost',\n",
              " 'laugh',\n",
              " 'heart',\n",
              " 'flies',\n",
              " 'bring',\n",
              " 'become',\n",
              " 'an\\n',\n",
              " 'afraid',\n",
              " '[at',\n",
              " 'Wow,',\n",
              " 'Woo',\n",
              " 'Two\"\\n\\n%',\n",
              " 'Sorry,',\n",
              " 'Song\"\\n\\n%',\n",
              " 'Ricardo',\n",
              " 'Me',\n",
              " 'Marriage\"\\n\\n%',\n",
              " \"Marge's\",\n",
              " 'Jimbo:',\n",
              " 'Jay:',\n",
              " 'Hi,',\n",
              " 'Flying\"\\n\\n%',\n",
              " 'Fallout',\n",
              " 'Australia\"\\n\\n%',\n",
              " 'An',\n",
              " 'together',\n",
              " 'telling',\n",
              " 'small',\n",
              " 'sir,',\n",
              " 'pool',\n",
              " 'huh?',\n",
              " 'eats',\n",
              " 'dinner',\n",
              " \"couldn't\",\n",
              " 'bus',\n",
              " 'boys',\n",
              " 'air',\n",
              " \"You've\",\n",
              " 'What?',\n",
              " 'Um,',\n",
              " 'Those',\n",
              " 'Springfield,',\n",
              " 'Sells',\n",
              " 'No!',\n",
              " 'Lovejoy:',\n",
              " 'Kid:',\n",
              " 'Hugh:',\n",
              " 'Homer\\n%',\n",
              " 'Elephant\"\\n\\n%',\n",
              " \"wouldn't\",\n",
              " 'with\\n',\n",
              " 'tosses',\n",
              " 'ten',\n",
              " 'photo',\n",
              " 'notices',\n",
              " 'meet',\n",
              " 'in]\\n',\n",
              " 'huge',\n",
              " 'good,',\n",
              " 'feet',\n",
              " 'enough',\n",
              " 'driving',\n",
              " 'between',\n",
              " 'back.',\n",
              " 'away,',\n",
              " 'at\\n',\n",
              " 'as\\n%',\n",
              " '[looking',\n",
              " 'Take',\n",
              " 'Successful',\n",
              " 'Smithers,',\n",
              " \"She's\",\n",
              " 'Ruth',\n",
              " 'Martin:',\n",
              " 'Let',\n",
              " 'Clown\"\\n\\n%',\n",
              " \"'em\",\n",
              " 'you?',\n",
              " 'write',\n",
              " 'world',\n",
              " 'wedding',\n",
              " 'was\\n',\n",
              " 'uses',\n",
              " 'tree',\n",
              " 'theme',\n",
              " 'sweet',\n",
              " 'street',\n",
              " 'seem',\n",
              " 'second',\n",
              " 'say,',\n",
              " 'save',\n",
              " 'reaches',\n",
              " ...]"
            ]
          },
          "metadata": {},
          "execution_count": 15
        }
      ]
    },
    {
      "cell_type": "code",
      "source": [
        "def words_from_ids(id):\n",
        "  try:\n",
        "    return(vocabulary[id.numpy()])\n",
        "  except:\n",
        "    return(vocabulary[id])"
      ],
      "metadata": {
        "id": "LN-lTstomboZ"
      },
      "execution_count": null,
      "outputs": []
    },
    {
      "cell_type": "code",
      "source": [
        "vectorize_layer([\"Summary\\n===============================================================================\\n%\"]).numpy()"
      ],
      "metadata": {
        "colab": {
          "base_uri": "https://localhost:8080/"
        },
        "id": "JoMdBYHNQSpu",
        "outputId": "6e6ef307-4dab-4a0f-fdf8-2f59d332e4ea"
      },
      "execution_count": null,
      "outputs": [
        {
          "output_type": "execute_result",
          "data": {
            "text/plain": [
              "array([464])"
            ]
          },
          "metadata": {},
          "execution_count": 17
        }
      ]
    },
    {
      "cell_type": "code",
      "source": [
        "vectorize_layer(\"Bart:\")"
      ],
      "metadata": {
        "colab": {
          "base_uri": "https://localhost:8080/"
        },
        "id": "q14XalrNV-eW",
        "outputId": "9cbeccd7-f7a7-4b03-c204-3b9a8f74a1bc"
      },
      "execution_count": null,
      "outputs": [
        {
          "output_type": "execute_result",
          "data": {
            "text/plain": [
              "<tf.Tensor: shape=(), dtype=int64, numpy=20>"
            ]
          },
          "metadata": {},
          "execution_count": 18
        }
      ]
    },
    {
      "cell_type": "code",
      "source": [
        "vectorize_layer([\"[UNK]\"])[:, None]"
      ],
      "metadata": {
        "colab": {
          "base_uri": "https://localhost:8080/"
        },
        "id": "GSBYNuRSCQCL",
        "outputId": "04f7d848-910b-436b-a1e9-a109025311c0"
      },
      "execution_count": null,
      "outputs": [
        {
          "output_type": "execute_result",
          "data": {
            "text/plain": [
              "<tf.Tensor: shape=(1, 1), dtype=int64, numpy=array([[1]])>"
            ]
          },
          "metadata": {},
          "execution_count": 19
        }
      ]
    },
    {
      "cell_type": "code",
      "source": [
        "words_from_ids(12337)"
      ],
      "metadata": {
        "colab": {
          "base_uri": "https://localhost:8080/",
          "height": 35
        },
        "id": "knR3d2w_nn34",
        "outputId": "3cfb4c1b-24c0-468b-8e3a-2559149c253b"
      },
      "execution_count": null,
      "outputs": [
        {
          "output_type": "execute_result",
          "data": {
            "text/plain": [
              "'Yeah.\\n--'"
            ],
            "application/vnd.google.colaboratory.intrinsic+json": {
              "type": "string"
            }
          },
          "metadata": {},
          "execution_count": 20
        }
      ]
    },
    {
      "cell_type": "code",
      "source": [
        "words_from_ids(11)"
      ],
      "metadata": {
        "colab": {
          "base_uri": "https://localhost:8080/",
          "height": 35
        },
        "id": "zw2N28J9WT6m",
        "outputId": "882cbb99-96a2-4dd7-ca97-b5c74bfbf316"
      },
      "execution_count": null,
      "outputs": [
        {
          "output_type": "execute_result",
          "data": {
            "text/plain": [
              "'is'"
            ],
            "application/vnd.google.colaboratory.intrinsic+json": {
              "type": "string"
            }
          },
          "metadata": {},
          "execution_count": 21
        }
      ]
    },
    {
      "cell_type": "code",
      "source": [
        "def text_from_ids(sequence):\n",
        "  text = []\n",
        "  for i in sequence:\n",
        "    text.append(words_from_ids(i))\n",
        "  return tf.strings.reduce_join(text, axis=-1, separator=' ')"
      ],
      "metadata": {
        "id": "U1L2WZbVnuj1"
      },
      "execution_count": null,
      "outputs": []
    },
    {
      "cell_type": "code",
      "source": [
        "all_ids = vectorize_layer(simpsons_text.split(' '))\n",
        "all_ids"
      ],
      "metadata": {
        "colab": {
          "base_uri": "https://localhost:8080/"
        },
        "id": "VGEqRoXbDdM7",
        "outputId": "37841fda-9516-48c8-8d3d-0b2bf05392d8"
      },
      "execution_count": null,
      "outputs": [
        {
          "output_type": "execute_result",
          "data": {
            "text/plain": [
              "<tf.Tensor: shape=(317132,), dtype=int64, numpy=array([44602,   451,     5, ...,     0,   147, 43147])>"
            ]
          },
          "metadata": {},
          "execution_count": 23
        }
      ]
    },
    {
      "cell_type": "code",
      "source": [
        "ids_dataset = tf.data.Dataset.from_tensor_slices(all_ids)"
      ],
      "metadata": {
        "id": "KS2sdsuylc9I"
      },
      "execution_count": null,
      "outputs": []
    },
    {
      "cell_type": "code",
      "source": [
        "ids_dataset"
      ],
      "metadata": {
        "colab": {
          "base_uri": "https://localhost:8080/"
        },
        "id": "RgZvGVx_6fDz",
        "outputId": "c7f36144-640b-43ad-ad61-e27979ac1e55"
      },
      "execution_count": null,
      "outputs": [
        {
          "output_type": "execute_result",
          "data": {
            "text/plain": [
              "<TensorSliceDataset element_spec=TensorSpec(shape=(), dtype=tf.int64, name=None)>"
            ]
          },
          "metadata": {},
          "execution_count": 25
        }
      ]
    },
    {
      "cell_type": "code",
      "source": [
        "seq_length = 100\n",
        "sequences = ids_dataset.batch(seq_length+1, drop_remainder=True)"
      ],
      "metadata": {
        "id": "DBOEfyQkkXLk"
      },
      "execution_count": null,
      "outputs": []
    },
    {
      "cell_type": "code",
      "source": [
        "for seq in sequences.take(5):\n",
        "  print(seq)\n",
        "  print(text_from_ids(seq))\n",
        "  print(\"-\"*50)"
      ],
      "metadata": {
        "colab": {
          "base_uri": "https://localhost:8080/"
        },
        "id": "lfz-jUXGMBrM",
        "outputId": "a1854eed-6523-442d-d92c-13edad6e3f41"
      },
      "execution_count": null,
      "outputs": [
        {
          "output_type": "stream",
          "name": "stdout",
          "text": [
            "tf.Tensor(\n",
            "[44602   451     5   450   464   541   438    31   516     8   537   538\n",
            "   547     5    31   505   226   922  1149     5   569   622    75   181\n",
            "  6815   250    15     2   136  2154  4650 12631     0   955   299 17969\n",
            "    15    13 11174    13  3111  7094   536 17971     8     3 32029   120\n",
            "     4   503     0   821    71 30835 31129     3  6963    14   655   448\n",
            "   181  6461   144    13  4972    19  6483    13   212    10     2  1127\n",
            "  5130     8   151   226    66    37  3707    10     2 44042 41546 38502\n",
            " 13149 38873 38498 32495    18  1127   361  1429 33980     8     2   612\n",
            "  7000     6  2288 24266     5], shape=(101,), dtype=int64)\n",
            "tf.Tensor(b'\\n> Quotes and Scene Summary\\n===============================================================================\\n% [Syndication cuts are marked in curly braces \"{}\" and are courtesy of\\n% Ricardo Lafaurie and Frederic Briere.]\\n%\\n% It\\'s another lazy day at the Springfield Nuclear Power Plant.  Homer\\n% sits snoring at his desk, his old, faithful dog snoozing in a chair\\n% next to him.  Lenny has craftily constructed a hammock for himself in\\n% another room.\\n%\\n% In his sleep, Homer rests his head on the control panel in front of\\n% him -- directly on the \"PLANT DESTRUCT: PLEASE DO NOT PUSH\" button.\\n% The control room becomes awash in the red glow of emergency lights,\\n% and', shape=(), dtype=string)\n",
            "--------------------------------------------------\n",
            "tf.Tensor(\n",
            "[    2 34010  2820  1117   283 44435  9955     8   960 18895  9791   155\n",
            "   536  1641   287  1238     2  3992     5   242     2 19761 10105    12\n",
            "    13  2757     0    18  1117  1974 44136 33999 11682    65   787   900\n",
            "    11  2127     8    13  3259   274    74     4    13  1863   226 23140\n",
            "     0   314   249     2   177    10     2  5190    31  2127 15858   422\n",
            " 18154 11257    38  7451   384  7355     0   373  2254 15360   201    26\n",
            "  4211 17905     8    13 18160  2357     8     2  1000  2248     2  2154\n",
            " 40019  1060 19985  8419   242   670     0  1367  1216 26590 24695 25325\n",
            "  1494    27     5  1559     2], shape=(101,), dtype=int64)\n",
            "tf.Tensor(b'the automated female voice says, \"Core meltdown in ten seconds...\\n% nine...\" Homer\\'s dog wakes up, hears the voice, and pulls the reset\\n% lever with his mouth.  The voice announces, \"Meltdown averted...good\\n% boy.\"\\n%\\n% Mr. Burns, too, is asleep in his chair, its back to his wall of\\n% monitors.  Yes, even the people on the monitors are asleep too.\\n% Smithers sleeps, curled up beside Burns\\' chair.  His leg twitches, and\\n% he moans softly in his sleep.\\n%\\n% Outside, in the parking lot, the Nuclear Inspection Van recreational\\n% vehicle pulls up.  Three white hard-hatted, lab-jacketed inspectors\\n% jump out and press the', shape=(), dtype=string)\n",
            "--------------------------------------------------\n",
            "tf.Tensor(\n",
            "[ 4475    15     2  1944     4     2 21112   370  4562     2 11624     0\n",
            "   126 36089    83     2  3615 39042     0   224  4429   290     0     0\n",
            "     0     0     0     0     0     0 29839    47  1801  6699 16051   370\n",
            "   344    40     2  2154 38095 13167     0   129    11   116     0     0\n",
            "     0     0     0     0     0     0  1878  1877     6  8274 31299     0\n",
            "   126   487   280    29    62  5196     0 36620   429    42   131  3247\n",
            "  3173  1255     0     0     0     0     0     0     0     0   384 38596\n",
            " 40675 41096 13389   335   353  2386 43022   357     2 33938   697   564\n",
            "    30  2571    73   568     4], shape=(101,), dtype=int64)\n",
            "tf.Tensor(b'buzzer at the entrance to the plant.\\n\\nAgent 1: [presses the buzzer]\\n  Burns: [awakening, over the intercom] Mmm...hmm...what?  How dare you\\n         disturb me during nap time.\\nAgent 1: We\\'re from the Nuclear Regulatory Commission.  This is a\\n         surprise test of worker competence.\\n  Burns: There must be some mistake.  We, er, we make cookies here: Mr.\\n         Burns\\' Olde-Fashioned Good-Time Extra-Chewy --\\nAgent 2: [to Agent 3] Get the axe.\\n-- We\\'ve done this before, \"Homer Goes to', shape=(), dtype=string)\n",
            "--------------------------------------------------\n",
            "tf.Tensor(\n",
            "[  683   422     5   137   281    40     2   480    35     2  4273  1678\n",
            "  3048  1226  7134    46    85 14932     0     0   126    18 14641     6\n",
            "  1078 19285   179   188  3143  1797   222     0     0     0     0     0\n",
            "     0     0     0     0 24299   191  1858   936     7 19384    38    86\n",
            "  1235 27411  7134   209     0     0     0     0     0     0     0     0\n",
            "     0  1919   112    46     2 33691     0     0     0     0     0     0\n",
            "     0     0     0     0  5743     6     2  3759    12    19     5   117\n",
            "   138 26798     0  8074  3912    97   323    31    42    79  1683     0\n",
            "     0    28   218 27480     0], shape=(101,), dtype=int64)\n",
            "tf.Tensor(b'College\"\\n\\n% Smithers and Burns watch from the window as the inspectors lead some\\n% plant employees into their vehicle.\\n\\n   Burns: The watchdog of public safety...is there any lower form of\\n          life?\\nSmithers: Don\\'t worry sir, I rounded up our less gifted employees and\\n          led them into the basement.\\n           [Shot of the basement with Homer and two other guys]\\n  Bernie: Duh, Homer, why are we down here?\\n   Homer: Aw, geez. ', shape=(), dtype=string)\n",
            "--------------------------------------------------\n",
            "tf.Tensor(\n",
            "[    7   534   124  8074     4  1685     2 33536     0     0     0     0\n",
            "   202  2132    76  8306     0     0    28   218     9   834    31  9614\n",
            "     0   183  1860   422   284    47  4303     0     0     0     0     0\n",
            "     0     0     0     0 33534     0     0     0     0     0     0     0\n",
            "     0     0     0   194  1493     2  5270 12061  2709   113     5     2\n",
            " 33537     0     0     0     0     0     0     0     0     0 28944     0\n",
            "  8074  3912   184  4334  4514     0     0     0     0   202    36    42\n",
            "   193 11851   183  6506    14   124    73   568     4   683    18  4273\n",
            "    87     4  1877   155 31300], shape=(101,), dtype=int64)\n",
            "tf.Tensor(b'I told you, Bernie: to guard the bee!\\n     Man: [whining] But why?\\n   Homer: Aw, you guys are pathetic.  No wonder Smithers made me head\\n          bee-guy.\\n           [Homer kicks the jar accidentally, smashing it, and the bee\\n          escapes]\\n  Bernie: Duh, he\\'s gettin\\' away.\\n     Man: Oh, we did bad!\\n-- No recess for you, \"Homer Goes to College\"\\n\\n% The inspectors want to test Homer\\'s competence', shape=(), dtype=string)\n",
            "--------------------------------------------------\n"
          ]
        }
      ]
    },
    {
      "cell_type": "code",
      "source": [
        "def split_input_target(sequence):\n",
        "    input_text = sequence[:-1]\n",
        "    target_text = sequence[1:]\n",
        "    return input_text, target_text"
      ],
      "metadata": {
        "id": "37j60KSDltie"
      },
      "execution_count": null,
      "outputs": []
    },
    {
      "cell_type": "code",
      "source": [
        "dataset = sequences.map(split_input_target)"
      ],
      "metadata": {
        "id": "I5Mkt3rClufD"
      },
      "execution_count": null,
      "outputs": []
    },
    {
      "cell_type": "code",
      "source": [
        "for input_example, target_example in dataset.take(2):\n",
        "  print(\"Input :\", text_from_ids(input_example).numpy())\n",
        "  print(\"Target:\", text_from_ids(target_example).numpy())"
      ],
      "metadata": {
        "colab": {
          "base_uri": "https://localhost:8080/"
        },
        "id": "pWliZtromKcY",
        "outputId": "e6c38bdd-989f-4daf-f6ef-2ff9ca9ed58b"
      },
      "execution_count": null,
      "outputs": [
        {
          "output_type": "stream",
          "name": "stdout",
          "text": [
            "Input : b'\\n> Quotes and Scene Summary\\n===============================================================================\\n% [Syndication cuts are marked in curly braces \"{}\" and are courtesy of\\n% Ricardo Lafaurie and Frederic Briere.]\\n%\\n% It\\'s another lazy day at the Springfield Nuclear Power Plant.  Homer\\n% sits snoring at his desk, his old, faithful dog snoozing in a chair\\n% next to him.  Lenny has craftily constructed a hammock for himself in\\n% another room.\\n%\\n% In his sleep, Homer rests his head on the control panel in front of\\n% him -- directly on the \"PLANT DESTRUCT: PLEASE DO NOT PUSH\" button.\\n% The control room becomes awash in the red glow of emergency lights,\\n%'\n",
            "Target: b'Quotes and Scene Summary\\n===============================================================================\\n% [Syndication cuts are marked in curly braces \"{}\" and are courtesy of\\n% Ricardo Lafaurie and Frederic Briere.]\\n%\\n% It\\'s another lazy day at the Springfield Nuclear Power Plant.  Homer\\n% sits snoring at his desk, his old, faithful dog snoozing in a chair\\n% next to him.  Lenny has craftily constructed a hammock for himself in\\n% another room.\\n%\\n% In his sleep, Homer rests his head on the control panel in front of\\n% him -- directly on the \"PLANT DESTRUCT: PLEASE DO NOT PUSH\" button.\\n% The control room becomes awash in the red glow of emergency lights,\\n% and'\n",
            "Input : b'the automated female voice says, \"Core meltdown in ten seconds...\\n% nine...\" Homer\\'s dog wakes up, hears the voice, and pulls the reset\\n% lever with his mouth.  The voice announces, \"Meltdown averted...good\\n% boy.\"\\n%\\n% Mr. Burns, too, is asleep in his chair, its back to his wall of\\n% monitors.  Yes, even the people on the monitors are asleep too.\\n% Smithers sleeps, curled up beside Burns\\' chair.  His leg twitches, and\\n% he moans softly in his sleep.\\n%\\n% Outside, in the parking lot, the Nuclear Inspection Van recreational\\n% vehicle pulls up.  Three white hard-hatted, lab-jacketed inspectors\\n% jump out and press'\n",
            "Target: b'automated female voice says, \"Core meltdown in ten seconds...\\n% nine...\" Homer\\'s dog wakes up, hears the voice, and pulls the reset\\n% lever with his mouth.  The voice announces, \"Meltdown averted...good\\n% boy.\"\\n%\\n% Mr. Burns, too, is asleep in his chair, its back to his wall of\\n% monitors.  Yes, even the people on the monitors are asleep too.\\n% Smithers sleeps, curled up beside Burns\\' chair.  His leg twitches, and\\n% he moans softly in his sleep.\\n%\\n% Outside, in the parking lot, the Nuclear Inspection Van recreational\\n% vehicle pulls up.  Three white hard-hatted, lab-jacketed inspectors\\n% jump out and press the'\n"
          ]
        }
      ]
    },
    {
      "cell_type": "code",
      "source": [
        "# Batch size\n",
        "BATCH_SIZE = 32\n",
        "\n",
        "# Buffer size to shuffle the dataset\n",
        "# (TF data is designed to work with possibly infinite sequences,\n",
        "# so it doesn't attempt to shuffle the entire sequence in memory. Instead,\n",
        "# it maintains a buffer in which it shuffles elements).\n",
        "BUFFER_SIZE = 10000\n",
        "\n",
        "dataset = (\n",
        "    dataset\n",
        "    .shuffle(BUFFER_SIZE)\n",
        "    .batch(BATCH_SIZE, drop_remainder=True)\n",
        "    .prefetch(tf.data.experimental.AUTOTUNE))\n",
        "\n",
        "dataset"
      ],
      "metadata": {
        "colab": {
          "base_uri": "https://localhost:8080/"
        },
        "id": "o-AHm2pJpBhA",
        "outputId": "aa517aff-e34b-4807-d9ea-1b552f6cfd0f"
      },
      "execution_count": null,
      "outputs": [
        {
          "output_type": "execute_result",
          "data": {
            "text/plain": [
              "<PrefetchDataset element_spec=(TensorSpec(shape=(32, 100), dtype=tf.int64, name=None), TensorSpec(shape=(32, 100), dtype=tf.int64, name=None))>"
            ]
          },
          "metadata": {},
          "execution_count": 31
        }
      ]
    },
    {
      "cell_type": "markdown",
      "source": [
        "## Training"
      ],
      "metadata": {
        "id": "-A_9ULaAqsTf"
      }
    },
    {
      "cell_type": "code",
      "source": [
        "# Length of the vocabulary in StringLookup Layer\n",
        "vocab_size = len(vectorize_layer.get_vocabulary())\n",
        "\n",
        "# The embedding dimension\n",
        "embedding_dim = 256\n",
        "\n",
        "# Number of RNN units\n",
        "rnn_units = 1024"
      ],
      "metadata": {
        "id": "Hlr4FoZIrY9u"
      },
      "execution_count": null,
      "outputs": []
    },
    {
      "cell_type": "code",
      "source": [
        "model = keras.Sequential()\n",
        "\n",
        "model.add(layers.Embedding(input_dim=vocab_size, output_dim=embedding_dim))\n",
        "\n",
        "model.add(tf.keras.layers.LSTM(rnn_units,\n",
        "                                   return_sequences=True))\n",
        "\n",
        "model.add(tf.keras.layers.Dense(vocab_size))\n",
        "\n",
        "model.summary()"
      ],
      "metadata": {
        "colab": {
          "base_uri": "https://localhost:8080/"
        },
        "id": "3o0-KRBxrS1r",
        "outputId": "bce31c31-40a6-4a8f-ad1f-9d244580128e"
      },
      "execution_count": null,
      "outputs": [
        {
          "output_type": "stream",
          "name": "stdout",
          "text": [
            "Model: \"sequential\"\n",
            "_________________________________________________________________\n",
            " Layer (type)                Output Shape              Param #   \n",
            "=================================================================\n",
            " embedding (Embedding)       (None, None, 256)         11418368  \n",
            "                                                                 \n",
            " lstm (LSTM)                 (None, None, 1024)        5246976   \n",
            "                                                                 \n",
            " dense (Dense)               (None, None, 44603)       45718075  \n",
            "                                                                 \n",
            "=================================================================\n",
            "Total params: 62,383,419\n",
            "Trainable params: 62,383,419\n",
            "Non-trainable params: 0\n",
            "_________________________________________________________________\n"
          ]
        }
      ]
    },
    {
      "cell_type": "code",
      "source": [
        "loss = tf.losses.SparseCategoricalCrossentropy(from_logits=True)"
      ],
      "metadata": {
        "id": "Db45fnf_WT5c"
      },
      "execution_count": null,
      "outputs": []
    },
    {
      "cell_type": "code",
      "source": [
        "model.compile(optimizer= Adam(), loss=loss)"
      ],
      "metadata": {
        "id": "cj6QdMBgq7qf"
      },
      "execution_count": null,
      "outputs": []
    },
    {
      "cell_type": "code",
      "source": [
        "EPOCHS = 100"
      ],
      "metadata": {
        "id": "XjaWeWQuruTF"
      },
      "execution_count": null,
      "outputs": []
    },
    {
      "cell_type": "code",
      "source": [
        "# Declaración callback de EarlyStopping (si pasan más de 10 épocas y no mejora el error de validación, se para la ejecución)\n",
        "callback_early = EarlyStopping(monitor='loss', mode='min', patience=5)\n",
        "# Declaración callback checkpoint ( se guarda en el directorio /tmp/checkpoints el modelo con el menor error)\n",
        "callback_checkpoint= ModelCheckpoint(filepath='/tmp/checkpoints',monitor='loss', mode='min',save_best_only=True)"
      ],
      "metadata": {
        "id": "YWZV-IjMrkyo"
      },
      "execution_count": null,
      "outputs": []
    },
    {
      "cell_type": "code",
      "source": [
        "history = model.fit(dataset, epochs=EPOCHS, callbacks=[callback_early, callback_checkpoint])"
      ],
      "metadata": {
        "colab": {
          "base_uri": "https://localhost:8080/"
        },
        "id": "AOS80u0frv4F",
        "outputId": "b736b2fe-9ad5-4557-9165-130ece602e6a"
      },
      "execution_count": null,
      "outputs": [
        {
          "output_type": "stream",
          "name": "stdout",
          "text": [
            "Epoch 1/100\n",
            "98/98 [==============================] - ETA: 0s - loss: 7.5457"
          ]
        },
        {
          "output_type": "stream",
          "name": "stderr",
          "text": [
            "WARNING:absl:Found untraced functions such as lstm_cell_layer_call_fn, lstm_cell_layer_call_and_return_conditional_losses while saving (showing 2 of 2). These functions will not be directly callable after loading.\n"
          ]
        },
        {
          "output_type": "stream",
          "name": "stdout",
          "text": [
            "\b\b\b\b\b\b\b\b\b\b\b\b\b\b\b\b\b\b\b\b\b\b\b\b\b\b\b\b\b\b\b\b\b\b\b\b\b\b\b\b\b\b\b\b\b\b\b\b\b\b\b\b\b\b\b\b\b\b\b\b\b\b\b\r98/98 [==============================] - 46s 396ms/step - loss: 7.5457\n",
            "Epoch 2/100\n",
            "98/98 [==============================] - ETA: 0s - loss: 6.9268"
          ]
        },
        {
          "output_type": "stream",
          "name": "stderr",
          "text": [
            "WARNING:absl:Found untraced functions such as lstm_cell_layer_call_fn, lstm_cell_layer_call_and_return_conditional_losses while saving (showing 2 of 2). These functions will not be directly callable after loading.\n"
          ]
        },
        {
          "output_type": "stream",
          "name": "stdout",
          "text": [
            "\b\b\b\b\b\b\b\b\b\b\b\b\b\b\b\b\b\b\b\b\b\b\b\b\b\b\b\b\b\b\b\b\b\b\b\b\b\b\b\b\b\b\b\b\b\b\b\b\b\b\b\b\b\b\b\b\b\b\b\b\b\b\b\r98/98 [==============================] - 38s 382ms/step - loss: 6.9268\n",
            "Epoch 3/100\n",
            "98/98 [==============================] - ETA: 0s - loss: 6.5807"
          ]
        },
        {
          "output_type": "stream",
          "name": "stderr",
          "text": [
            "WARNING:absl:Found untraced functions such as lstm_cell_layer_call_fn, lstm_cell_layer_call_and_return_conditional_losses while saving (showing 2 of 2). These functions will not be directly callable after loading.\n"
          ]
        },
        {
          "output_type": "stream",
          "name": "stdout",
          "text": [
            "\b\b\b\b\b\b\b\b\b\b\b\b\b\b\b\b\b\b\b\b\b\b\b\b\b\b\b\b\b\b\b\b\b\b\b\b\b\b\b\b\b\b\b\b\b\b\b\b\b\b\b\b\b\b\b\b\b\b\b\b\b\b\b\r98/98 [==============================] - 38s 386ms/step - loss: 6.5807\n",
            "Epoch 4/100\n",
            "98/98 [==============================] - ETA: 0s - loss: 6.2112"
          ]
        },
        {
          "output_type": "stream",
          "name": "stderr",
          "text": [
            "WARNING:absl:Found untraced functions such as lstm_cell_layer_call_fn, lstm_cell_layer_call_and_return_conditional_losses while saving (showing 2 of 2). These functions will not be directly callable after loading.\n"
          ]
        },
        {
          "output_type": "stream",
          "name": "stdout",
          "text": [
            "\b\b\b\b\b\b\b\b\b\b\b\b\b\b\b\b\b\b\b\b\b\b\b\b\b\b\b\b\b\b\b\b\b\b\b\b\b\b\b\b\b\b\b\b\b\b\b\b\b\b\b\b\b\b\b\b\b\b\b\b\b\b\b\r98/98 [==============================] - 39s 390ms/step - loss: 6.2112\n",
            "Epoch 5/100\n",
            "98/98 [==============================] - ETA: 0s - loss: 5.8390"
          ]
        },
        {
          "output_type": "stream",
          "name": "stderr",
          "text": [
            "WARNING:absl:Found untraced functions such as lstm_cell_layer_call_fn, lstm_cell_layer_call_and_return_conditional_losses while saving (showing 2 of 2). These functions will not be directly callable after loading.\n"
          ]
        },
        {
          "output_type": "stream",
          "name": "stdout",
          "text": [
            "\b\b\b\b\b\b\b\b\b\b\b\b\b\b\b\b\b\b\b\b\b\b\b\b\b\b\b\b\b\b\b\b\b\b\b\b\b\b\b\b\b\b\b\b\b\b\b\b\b\b\b\b\b\b\b\b\b\b\b\b\b\b\b\r98/98 [==============================] - 39s 391ms/step - loss: 5.8390\n",
            "Epoch 6/100\n",
            "98/98 [==============================] - ETA: 0s - loss: 5.5229"
          ]
        },
        {
          "output_type": "stream",
          "name": "stderr",
          "text": [
            "WARNING:absl:Found untraced functions such as lstm_cell_layer_call_fn, lstm_cell_layer_call_and_return_conditional_losses while saving (showing 2 of 2). These functions will not be directly callable after loading.\n"
          ]
        },
        {
          "output_type": "stream",
          "name": "stdout",
          "text": [
            "\b\b\b\b\b\b\b\b\b\b\b\b\b\b\b\b\b\b\b\b\b\b\b\b\b\b\b\b\b\b\b\b\b\b\b\b\b\b\b\b\b\b\b\b\b\b\b\b\b\b\b\b\b\b\b\b\b\b\b\b\b\b\b\r98/98 [==============================] - 38s 387ms/step - loss: 5.5229\n",
            "Epoch 7/100\n",
            "98/98 [==============================] - ETA: 0s - loss: 5.2368"
          ]
        },
        {
          "output_type": "stream",
          "name": "stderr",
          "text": [
            "WARNING:absl:Found untraced functions such as lstm_cell_layer_call_fn, lstm_cell_layer_call_and_return_conditional_losses while saving (showing 2 of 2). These functions will not be directly callable after loading.\n"
          ]
        },
        {
          "output_type": "stream",
          "name": "stdout",
          "text": [
            "\b\b\b\b\b\b\b\b\b\b\b\b\b\b\b\b\b\b\b\b\b\b\b\b\b\b\b\b\b\b\b\b\b\b\b\b\b\b\b\b\b\b\b\b\b\b\b\b\b\b\b\b\b\b\b\b\b\b\b\b\b\b\b\r98/98 [==============================] - 39s 390ms/step - loss: 5.2368\n",
            "Epoch 8/100\n",
            "98/98 [==============================] - ETA: 0s - loss: 4.9896"
          ]
        },
        {
          "output_type": "stream",
          "name": "stderr",
          "text": [
            "WARNING:absl:Found untraced functions such as lstm_cell_layer_call_fn, lstm_cell_layer_call_and_return_conditional_losses while saving (showing 2 of 2). These functions will not be directly callable after loading.\n"
          ]
        },
        {
          "output_type": "stream",
          "name": "stdout",
          "text": [
            "\b\b\b\b\b\b\b\b\b\b\b\b\b\b\b\b\b\b\b\b\b\b\b\b\b\b\b\b\b\b\b\b\b\b\b\b\b\b\b\b\b\b\b\b\b\b\b\b\b\b\b\b\b\b\b\b\b\b\b\b\b\b\b\r98/98 [==============================] - 38s 385ms/step - loss: 4.9896\n",
            "Epoch 9/100\n",
            "98/98 [==============================] - ETA: 0s - loss: 4.7699"
          ]
        },
        {
          "output_type": "stream",
          "name": "stderr",
          "text": [
            "WARNING:absl:Found untraced functions such as lstm_cell_layer_call_fn, lstm_cell_layer_call_and_return_conditional_losses while saving (showing 2 of 2). These functions will not be directly callable after loading.\n"
          ]
        },
        {
          "output_type": "stream",
          "name": "stdout",
          "text": [
            "\b\b\b\b\b\b\b\b\b\b\b\b\b\b\b\b\b\b\b\b\b\b\b\b\b\b\b\b\b\b\b\b\b\b\b\b\b\b\b\b\b\b\b\b\b\b\b\b\b\b\b\b\b\b\b\b\b\b\b\b\b\b\b\r98/98 [==============================] - 39s 393ms/step - loss: 4.7699\n",
            "Epoch 10/100\n",
            "98/98 [==============================] - ETA: 0s - loss: 4.5608"
          ]
        },
        {
          "output_type": "stream",
          "name": "stderr",
          "text": [
            "WARNING:absl:Found untraced functions such as lstm_cell_layer_call_fn, lstm_cell_layer_call_and_return_conditional_losses while saving (showing 2 of 2). These functions will not be directly callable after loading.\n"
          ]
        },
        {
          "output_type": "stream",
          "name": "stdout",
          "text": [
            "\b\b\b\b\b\b\b\b\b\b\b\b\b\b\b\b\b\b\b\b\b\b\b\b\b\b\b\b\b\b\b\b\b\b\b\b\b\b\b\b\b\b\b\b\b\b\b\b\b\b\b\b\b\b\b\b\b\b\b\b\b\b\b\r98/98 [==============================] - 39s 390ms/step - loss: 4.5608\n",
            "Epoch 11/100\n",
            "98/98 [==============================] - ETA: 0s - loss: 4.3604"
          ]
        },
        {
          "output_type": "stream",
          "name": "stderr",
          "text": [
            "WARNING:absl:Found untraced functions such as lstm_cell_layer_call_fn, lstm_cell_layer_call_and_return_conditional_losses while saving (showing 2 of 2). These functions will not be directly callable after loading.\n"
          ]
        },
        {
          "output_type": "stream",
          "name": "stdout",
          "text": [
            "\b\b\b\b\b\b\b\b\b\b\b\b\b\b\b\b\b\b\b\b\b\b\b\b\b\b\b\b\b\b\b\b\b\b\b\b\b\b\b\b\b\b\b\b\b\b\b\b\b\b\b\b\b\b\b\b\b\b\b\b\b\b\b\r98/98 [==============================] - 38s 388ms/step - loss: 4.3604\n",
            "Epoch 12/100\n",
            "98/98 [==============================] - ETA: 0s - loss: 4.1704"
          ]
        },
        {
          "output_type": "stream",
          "name": "stderr",
          "text": [
            "WARNING:absl:Found untraced functions such as lstm_cell_layer_call_fn, lstm_cell_layer_call_and_return_conditional_losses while saving (showing 2 of 2). These functions will not be directly callable after loading.\n"
          ]
        },
        {
          "output_type": "stream",
          "name": "stdout",
          "text": [
            "\b\b\b\b\b\b\b\b\b\b\b\b\b\b\b\b\b\b\b\b\b\b\b\b\b\b\b\b\b\b\b\b\b\b\b\b\b\b\b\b\b\b\b\b\b\b\b\b\b\b\b\b\b\b\b\b\b\b\b\b\b\b\b\r98/98 [==============================] - 39s 389ms/step - loss: 4.1704\n",
            "Epoch 13/100\n",
            "98/98 [==============================] - ETA: 0s - loss: 3.9871"
          ]
        },
        {
          "output_type": "stream",
          "name": "stderr",
          "text": [
            "WARNING:absl:Found untraced functions such as lstm_cell_layer_call_fn, lstm_cell_layer_call_and_return_conditional_losses while saving (showing 2 of 2). These functions will not be directly callable after loading.\n"
          ]
        },
        {
          "output_type": "stream",
          "name": "stdout",
          "text": [
            "\b\b\b\b\b\b\b\b\b\b\b\b\b\b\b\b\b\b\b\b\b\b\b\b\b\b\b\b\b\b\b\b\b\b\b\b\b\b\b\b\b\b\b\b\b\b\b\b\b\b\b\b\b\b\b\b\b\b\b\b\b\b\b\r98/98 [==============================] - 38s 387ms/step - loss: 3.9871\n",
            "Epoch 14/100\n",
            "98/98 [==============================] - ETA: 0s - loss: 3.8122"
          ]
        },
        {
          "output_type": "stream",
          "name": "stderr",
          "text": [
            "WARNING:absl:Found untraced functions such as lstm_cell_layer_call_fn, lstm_cell_layer_call_and_return_conditional_losses while saving (showing 2 of 2). These functions will not be directly callable after loading.\n"
          ]
        },
        {
          "output_type": "stream",
          "name": "stdout",
          "text": [
            "\b\b\b\b\b\b\b\b\b\b\b\b\b\b\b\b\b\b\b\b\b\b\b\b\b\b\b\b\b\b\b\b\b\b\b\b\b\b\b\b\b\b\b\b\b\b\b\b\b\b\b\b\b\b\b\b\b\b\b\b\b\b\b\r98/98 [==============================] - 39s 391ms/step - loss: 3.8122\n",
            "Epoch 15/100\n",
            "98/98 [==============================] - ETA: 0s - loss: 3.6422"
          ]
        },
        {
          "output_type": "stream",
          "name": "stderr",
          "text": [
            "WARNING:absl:Found untraced functions such as lstm_cell_layer_call_fn, lstm_cell_layer_call_and_return_conditional_losses while saving (showing 2 of 2). These functions will not be directly callable after loading.\n"
          ]
        },
        {
          "output_type": "stream",
          "name": "stdout",
          "text": [
            "\b\b\b\b\b\b\b\b\b\b\b\b\b\b\b\b\b\b\b\b\b\b\b\b\b\b\b\b\b\b\b\b\b\b\b\b\b\b\b\b\b\b\b\b\b\b\b\b\b\b\b\b\b\b\b\b\b\b\b\b\b\b\b\r98/98 [==============================] - 38s 384ms/step - loss: 3.6422\n",
            "Epoch 16/100\n",
            "98/98 [==============================] - ETA: 0s - loss: 3.4744"
          ]
        },
        {
          "output_type": "stream",
          "name": "stderr",
          "text": [
            "WARNING:absl:Found untraced functions such as lstm_cell_layer_call_fn, lstm_cell_layer_call_and_return_conditional_losses while saving (showing 2 of 2). These functions will not be directly callable after loading.\n"
          ]
        },
        {
          "output_type": "stream",
          "name": "stdout",
          "text": [
            "\b\b\b\b\b\b\b\b\b\b\b\b\b\b\b\b\b\b\b\b\b\b\b\b\b\b\b\b\b\b\b\b\b\b\b\b\b\b\b\b\b\b\b\b\b\b\b\b\b\b\b\b\b\b\b\b\b\b\b\b\b\b\b\r98/98 [==============================] - 39s 392ms/step - loss: 3.4744\n",
            "Epoch 17/100\n",
            "98/98 [==============================] - ETA: 0s - loss: 3.3131"
          ]
        },
        {
          "output_type": "stream",
          "name": "stderr",
          "text": [
            "WARNING:absl:Found untraced functions such as lstm_cell_layer_call_fn, lstm_cell_layer_call_and_return_conditional_losses while saving (showing 2 of 2). These functions will not be directly callable after loading.\n"
          ]
        },
        {
          "output_type": "stream",
          "name": "stdout",
          "text": [
            "\b\b\b\b\b\b\b\b\b\b\b\b\b\b\b\b\b\b\b\b\b\b\b\b\b\b\b\b\b\b\b\b\b\b\b\b\b\b\b\b\b\b\b\b\b\b\b\b\b\b\b\b\b\b\b\b\b\b\b\b\b\b\b\r98/98 [==============================] - 38s 383ms/step - loss: 3.3131\n",
            "Epoch 18/100\n",
            "98/98 [==============================] - ETA: 0s - loss: 3.1560"
          ]
        },
        {
          "output_type": "stream",
          "name": "stderr",
          "text": [
            "WARNING:absl:Found untraced functions such as lstm_cell_layer_call_fn, lstm_cell_layer_call_and_return_conditional_losses while saving (showing 2 of 2). These functions will not be directly callable after loading.\n"
          ]
        },
        {
          "output_type": "stream",
          "name": "stdout",
          "text": [
            "\b\b\b\b\b\b\b\b\b\b\b\b\b\b\b\b\b\b\b\b\b\b\b\b\b\b\b\b\b\b\b\b\b\b\b\b\b\b\b\b\b\b\b\b\b\b\b\b\b\b\b\b\b\b\b\b\b\b\b\b\b\b\b\r98/98 [==============================] - 39s 389ms/step - loss: 3.1560\n",
            "Epoch 19/100\n",
            "98/98 [==============================] - ETA: 0s - loss: 3.0045"
          ]
        },
        {
          "output_type": "stream",
          "name": "stderr",
          "text": [
            "WARNING:absl:Found untraced functions such as lstm_cell_layer_call_fn, lstm_cell_layer_call_and_return_conditional_losses while saving (showing 2 of 2). These functions will not be directly callable after loading.\n"
          ]
        },
        {
          "output_type": "stream",
          "name": "stdout",
          "text": [
            "\b\b\b\b\b\b\b\b\b\b\b\b\b\b\b\b\b\b\b\b\b\b\b\b\b\b\b\b\b\b\b\b\b\b\b\b\b\b\b\b\b\b\b\b\b\b\b\b\b\b\b\b\b\b\b\b\b\b\b\b\b\b\b\r98/98 [==============================] - 39s 391ms/step - loss: 3.0045\n",
            "Epoch 20/100\n",
            "98/98 [==============================] - ETA: 0s - loss: 2.8593"
          ]
        },
        {
          "output_type": "stream",
          "name": "stderr",
          "text": [
            "WARNING:absl:Found untraced functions such as lstm_cell_layer_call_fn, lstm_cell_layer_call_and_return_conditional_losses while saving (showing 2 of 2). These functions will not be directly callable after loading.\n"
          ]
        },
        {
          "output_type": "stream",
          "name": "stdout",
          "text": [
            "\b\b\b\b\b\b\b\b\b\b\b\b\b\b\b\b\b\b\b\b\b\b\b\b\b\b\b\b\b\b\b\b\b\b\b\b\b\b\b\b\b\b\b\b\b\b\b\b\b\b\b\b\b\b\b\b\b\b\b\b\b\b\b\r98/98 [==============================] - 38s 386ms/step - loss: 2.8593\n",
            "Epoch 21/100\n",
            "98/98 [==============================] - ETA: 0s - loss: 2.7257"
          ]
        },
        {
          "output_type": "stream",
          "name": "stderr",
          "text": [
            "WARNING:absl:Found untraced functions such as lstm_cell_layer_call_fn, lstm_cell_layer_call_and_return_conditional_losses while saving (showing 2 of 2). These functions will not be directly callable after loading.\n"
          ]
        },
        {
          "output_type": "stream",
          "name": "stdout",
          "text": [
            "\b\b\b\b\b\b\b\b\b\b\b\b\b\b\b\b\b\b\b\b\b\b\b\b\b\b\b\b\b\b\b\b\b\b\b\b\b\b\b\b\b\b\b\b\b\b\b\b\b\b\b\b\b\b\b\b\b\b\b\b\b\b\b\r98/98 [==============================] - 38s 388ms/step - loss: 2.7257\n",
            "Epoch 22/100\n",
            "98/98 [==============================] - ETA: 0s - loss: 2.5972"
          ]
        },
        {
          "output_type": "stream",
          "name": "stderr",
          "text": [
            "WARNING:absl:Found untraced functions such as lstm_cell_layer_call_fn, lstm_cell_layer_call_and_return_conditional_losses while saving (showing 2 of 2). These functions will not be directly callable after loading.\n"
          ]
        },
        {
          "output_type": "stream",
          "name": "stdout",
          "text": [
            "\b\b\b\b\b\b\b\b\b\b\b\b\b\b\b\b\b\b\b\b\b\b\b\b\b\b\b\b\b\b\b\b\b\b\b\b\b\b\b\b\b\b\b\b\b\b\b\b\b\b\b\b\b\b\b\b\b\b\b\b\b\b\b\r98/98 [==============================] - 38s 384ms/step - loss: 2.5972\n",
            "Epoch 23/100\n",
            "98/98 [==============================] - ETA: 0s - loss: 2.4793"
          ]
        },
        {
          "output_type": "stream",
          "name": "stderr",
          "text": [
            "WARNING:absl:Found untraced functions such as lstm_cell_layer_call_fn, lstm_cell_layer_call_and_return_conditional_losses while saving (showing 2 of 2). These functions will not be directly callable after loading.\n"
          ]
        },
        {
          "output_type": "stream",
          "name": "stdout",
          "text": [
            "\b\b\b\b\b\b\b\b\b\b\b\b\b\b\b\b\b\b\b\b\b\b\b\b\b\b\b\b\b\b\b\b\b\b\b\b\b\b\b\b\b\b\b\b\b\b\b\b\b\b\b\b\b\b\b\b\b\b\b\b\b\b\b\r98/98 [==============================] - 39s 397ms/step - loss: 2.4793\n",
            "Epoch 24/100\n",
            "98/98 [==============================] - ETA: 0s - loss: 2.3677"
          ]
        },
        {
          "output_type": "stream",
          "name": "stderr",
          "text": [
            "WARNING:absl:Found untraced functions such as lstm_cell_layer_call_fn, lstm_cell_layer_call_and_return_conditional_losses while saving (showing 2 of 2). These functions will not be directly callable after loading.\n"
          ]
        },
        {
          "output_type": "stream",
          "name": "stdout",
          "text": [
            "\b\b\b\b\b\b\b\b\b\b\b\b\b\b\b\b\b\b\b\b\b\b\b\b\b\b\b\b\b\b\b\b\b\b\b\b\b\b\b\b\b\b\b\b\b\b\b\b\b\b\b\b\b\b\b\b\b\b\b\b\b\b\b\r98/98 [==============================] - 38s 388ms/step - loss: 2.3677\n",
            "Epoch 25/100\n",
            "98/98 [==============================] - ETA: 0s - loss: 2.2649"
          ]
        },
        {
          "output_type": "stream",
          "name": "stderr",
          "text": [
            "WARNING:absl:Found untraced functions such as lstm_cell_layer_call_fn, lstm_cell_layer_call_and_return_conditional_losses while saving (showing 2 of 2). These functions will not be directly callable after loading.\n"
          ]
        },
        {
          "output_type": "stream",
          "name": "stdout",
          "text": [
            "\b\b\b\b\b\b\b\b\b\b\b\b\b\b\b\b\b\b\b\b\b\b\b\b\b\b\b\b\b\b\b\b\b\b\b\b\b\b\b\b\b\b\b\b\b\b\b\b\b\b\b\b\b\b\b\b\b\b\b\b\b\b\b\r98/98 [==============================] - 38s 388ms/step - loss: 2.2649\n",
            "Epoch 26/100\n",
            "98/98 [==============================] - ETA: 0s - loss: 2.1698"
          ]
        },
        {
          "output_type": "stream",
          "name": "stderr",
          "text": [
            "WARNING:absl:Found untraced functions such as lstm_cell_layer_call_fn, lstm_cell_layer_call_and_return_conditional_losses while saving (showing 2 of 2). These functions will not be directly callable after loading.\n"
          ]
        },
        {
          "output_type": "stream",
          "name": "stdout",
          "text": [
            "\b\b\b\b\b\b\b\b\b\b\b\b\b\b\b\b\b\b\b\b\b\b\b\b\b\b\b\b\b\b\b\b\b\b\b\b\b\b\b\b\b\b\b\b\b\b\b\b\b\b\b\b\b\b\b\b\b\b\b\b\b\b\b\r98/98 [==============================] - 39s 390ms/step - loss: 2.1698\n",
            "Epoch 27/100\n",
            "98/98 [==============================] - ETA: 0s - loss: 2.0777"
          ]
        },
        {
          "output_type": "stream",
          "name": "stderr",
          "text": [
            "WARNING:absl:Found untraced functions such as lstm_cell_layer_call_fn, lstm_cell_layer_call_and_return_conditional_losses while saving (showing 2 of 2). These functions will not be directly callable after loading.\n"
          ]
        },
        {
          "output_type": "stream",
          "name": "stdout",
          "text": [
            "\b\b\b\b\b\b\b\b\b\b\b\b\b\b\b\b\b\b\b\b\b\b\b\b\b\b\b\b\b\b\b\b\b\b\b\b\b\b\b\b\b\b\b\b\b\b\b\b\b\b\b\b\b\b\b\b\b\b\b\b\b\b\b\r98/98 [==============================] - 38s 387ms/step - loss: 2.0777\n",
            "Epoch 28/100\n",
            "98/98 [==============================] - ETA: 0s - loss: 1.9935"
          ]
        },
        {
          "output_type": "stream",
          "name": "stderr",
          "text": [
            "WARNING:absl:Found untraced functions such as lstm_cell_layer_call_fn, lstm_cell_layer_call_and_return_conditional_losses while saving (showing 2 of 2). These functions will not be directly callable after loading.\n"
          ]
        },
        {
          "output_type": "stream",
          "name": "stdout",
          "text": [
            "\b\b\b\b\b\b\b\b\b\b\b\b\b\b\b\b\b\b\b\b\b\b\b\b\b\b\b\b\b\b\b\b\b\b\b\b\b\b\b\b\b\b\b\b\b\b\b\b\b\b\b\b\b\b\b\b\b\b\b\b\b\b\b\r98/98 [==============================] - 38s 388ms/step - loss: 1.9935\n",
            "Epoch 29/100\n",
            "98/98 [==============================] - ETA: 0s - loss: 1.9113"
          ]
        },
        {
          "output_type": "stream",
          "name": "stderr",
          "text": [
            "WARNING:absl:Found untraced functions such as lstm_cell_layer_call_fn, lstm_cell_layer_call_and_return_conditional_losses while saving (showing 2 of 2). These functions will not be directly callable after loading.\n"
          ]
        },
        {
          "output_type": "stream",
          "name": "stdout",
          "text": [
            "\b\b\b\b\b\b\b\b\b\b\b\b\b\b\b\b\b\b\b\b\b\b\b\b\b\b\b\b\b\b\b\b\b\b\b\b\b\b\b\b\b\b\b\b\b\b\b\b\b\b\b\b\b\b\b\b\b\b\b\b\b\b\b\r98/98 [==============================] - 38s 384ms/step - loss: 1.9113\n",
            "Epoch 30/100\n",
            "98/98 [==============================] - ETA: 0s - loss: 1.8337"
          ]
        },
        {
          "output_type": "stream",
          "name": "stderr",
          "text": [
            "WARNING:absl:Found untraced functions such as lstm_cell_layer_call_fn, lstm_cell_layer_call_and_return_conditional_losses while saving (showing 2 of 2). These functions will not be directly callable after loading.\n"
          ]
        },
        {
          "output_type": "stream",
          "name": "stdout",
          "text": [
            "\b\b\b\b\b\b\b\b\b\b\b\b\b\b\b\b\b\b\b\b\b\b\b\b\b\b\b\b\b\b\b\b\b\b\b\b\b\b\b\b\b\b\b\b\b\b\b\b\b\b\b\b\b\b\b\b\b\b\b\b\b\b\b\r98/98 [==============================] - 38s 387ms/step - loss: 1.8337\n",
            "Epoch 31/100\n",
            "98/98 [==============================] - ETA: 0s - loss: 1.7616"
          ]
        },
        {
          "output_type": "stream",
          "name": "stderr",
          "text": [
            "WARNING:absl:Found untraced functions such as lstm_cell_layer_call_fn, lstm_cell_layer_call_and_return_conditional_losses while saving (showing 2 of 2). These functions will not be directly callable after loading.\n"
          ]
        },
        {
          "output_type": "stream",
          "name": "stdout",
          "text": [
            "\b\b\b\b\b\b\b\b\b\b\b\b\b\b\b\b\b\b\b\b\b\b\b\b\b\b\b\b\b\b\b\b\b\b\b\b\b\b\b\b\b\b\b\b\b\b\b\b\b\b\b\b\b\b\b\b\b\b\b\b\b\b\b\r98/98 [==============================] - 38s 383ms/step - loss: 1.7616\n",
            "Epoch 32/100\n",
            "98/98 [==============================] - ETA: 0s - loss: 1.6917"
          ]
        },
        {
          "output_type": "stream",
          "name": "stderr",
          "text": [
            "WARNING:absl:Found untraced functions such as lstm_cell_layer_call_fn, lstm_cell_layer_call_and_return_conditional_losses while saving (showing 2 of 2). These functions will not be directly callable after loading.\n"
          ]
        },
        {
          "output_type": "stream",
          "name": "stdout",
          "text": [
            "\b\b\b\b\b\b\b\b\b\b\b\b\b\b\b\b\b\b\b\b\b\b\b\b\b\b\b\b\b\b\b\b\b\b\b\b\b\b\b\b\b\b\b\b\b\b\b\b\b\b\b\b\b\b\b\b\b\b\b\b\b\b\b\r98/98 [==============================] - 38s 388ms/step - loss: 1.6917\n",
            "Epoch 33/100\n",
            "98/98 [==============================] - ETA: 0s - loss: 1.6256"
          ]
        },
        {
          "output_type": "stream",
          "name": "stderr",
          "text": [
            "WARNING:absl:Found untraced functions such as lstm_cell_layer_call_fn, lstm_cell_layer_call_and_return_conditional_losses while saving (showing 2 of 2). These functions will not be directly callable after loading.\n"
          ]
        },
        {
          "output_type": "stream",
          "name": "stdout",
          "text": [
            "\b\b\b\b\b\b\b\b\b\b\b\b\b\b\b\b\b\b\b\b\b\b\b\b\b\b\b\b\b\b\b\b\b\b\b\b\b\b\b\b\b\b\b\b\b\b\b\b\b\b\b\b\b\b\b\b\b\b\b\b\b\b\b\r98/98 [==============================] - 38s 384ms/step - loss: 1.6256\n",
            "Epoch 34/100\n",
            "98/98 [==============================] - ETA: 0s - loss: 1.5645"
          ]
        },
        {
          "output_type": "stream",
          "name": "stderr",
          "text": [
            "WARNING:absl:Found untraced functions such as lstm_cell_layer_call_fn, lstm_cell_layer_call_and_return_conditional_losses while saving (showing 2 of 2). These functions will not be directly callable after loading.\n"
          ]
        },
        {
          "output_type": "stream",
          "name": "stdout",
          "text": [
            "\b\b\b\b\b\b\b\b\b\b\b\b\b\b\b\b\b\b\b\b\b\b\b\b\b\b\b\b\b\b\b\b\b\b\b\b\b\b\b\b\b\b\b\b\b\b\b\b\b\b\b\b\b\b\b\b\b\b\b\b\b\b\b\r98/98 [==============================] - 38s 386ms/step - loss: 1.5645\n",
            "Epoch 35/100\n",
            "98/98 [==============================] - ETA: 0s - loss: 1.5054"
          ]
        },
        {
          "output_type": "stream",
          "name": "stderr",
          "text": [
            "WARNING:absl:Found untraced functions such as lstm_cell_layer_call_fn, lstm_cell_layer_call_and_return_conditional_losses while saving (showing 2 of 2). These functions will not be directly callable after loading.\n"
          ]
        },
        {
          "output_type": "stream",
          "name": "stdout",
          "text": [
            "\b\b\b\b\b\b\b\b\b\b\b\b\b\b\b\b\b\b\b\b\b\b\b\b\b\b\b\b\b\b\b\b\b\b\b\b\b\b\b\b\b\b\b\b\b\b\b\b\b\b\b\b\b\b\b\b\b\b\b\b\b\b\b\r98/98 [==============================] - 38s 388ms/step - loss: 1.5054\n",
            "Epoch 36/100\n",
            "98/98 [==============================] - ETA: 0s - loss: 1.4465"
          ]
        },
        {
          "output_type": "stream",
          "name": "stderr",
          "text": [
            "WARNING:absl:Found untraced functions such as lstm_cell_layer_call_fn, lstm_cell_layer_call_and_return_conditional_losses while saving (showing 2 of 2). These functions will not be directly callable after loading.\n"
          ]
        },
        {
          "output_type": "stream",
          "name": "stdout",
          "text": [
            "\b\b\b\b\b\b\b\b\b\b\b\b\b\b\b\b\b\b\b\b\b\b\b\b\b\b\b\b\b\b\b\b\b\b\b\b\b\b\b\b\b\b\b\b\b\b\b\b\b\b\b\b\b\b\b\b\b\b\b\b\b\b\b\r98/98 [==============================] - 38s 384ms/step - loss: 1.4465\n",
            "Epoch 37/100\n",
            "98/98 [==============================] - ETA: 0s - loss: 1.3913"
          ]
        },
        {
          "output_type": "stream",
          "name": "stderr",
          "text": [
            "WARNING:absl:Found untraced functions such as lstm_cell_layer_call_fn, lstm_cell_layer_call_and_return_conditional_losses while saving (showing 2 of 2). These functions will not be directly callable after loading.\n"
          ]
        },
        {
          "output_type": "stream",
          "name": "stdout",
          "text": [
            "\b\b\b\b\b\b\b\b\b\b\b\b\b\b\b\b\b\b\b\b\b\b\b\b\b\b\b\b\b\b\b\b\b\b\b\b\b\b\b\b\b\b\b\b\b\b\b\b\b\b\b\b\b\b\b\b\b\b\b\b\b\b\b\r98/98 [==============================] - 39s 390ms/step - loss: 1.3913\n",
            "Epoch 38/100\n",
            "98/98 [==============================] - ETA: 0s - loss: 1.3381"
          ]
        },
        {
          "output_type": "stream",
          "name": "stderr",
          "text": [
            "WARNING:absl:Found untraced functions such as lstm_cell_layer_call_fn, lstm_cell_layer_call_and_return_conditional_losses while saving (showing 2 of 2). These functions will not be directly callable after loading.\n"
          ]
        },
        {
          "output_type": "stream",
          "name": "stdout",
          "text": [
            "\b\b\b\b\b\b\b\b\b\b\b\b\b\b\b\b\b\b\b\b\b\b\b\b\b\b\b\b\b\b\b\b\b\b\b\b\b\b\b\b\b\b\b\b\b\b\b\b\b\b\b\b\b\b\b\b\b\b\b\b\b\b\b\r98/98 [==============================] - 38s 384ms/step - loss: 1.3381\n",
            "Epoch 39/100\n",
            "98/98 [==============================] - ETA: 0s - loss: 1.2876"
          ]
        },
        {
          "output_type": "stream",
          "name": "stderr",
          "text": [
            "WARNING:absl:Found untraced functions such as lstm_cell_layer_call_fn, lstm_cell_layer_call_and_return_conditional_losses while saving (showing 2 of 2). These functions will not be directly callable after loading.\n"
          ]
        },
        {
          "output_type": "stream",
          "name": "stdout",
          "text": [
            "\b\b\b\b\b\b\b\b\b\b\b\b\b\b\b\b\b\b\b\b\b\b\b\b\b\b\b\b\b\b\b\b\b\b\b\b\b\b\b\b\b\b\b\b\b\b\b\b\b\b\b\b\b\b\b\b\b\b\b\b\b\b\b\r98/98 [==============================] - 39s 390ms/step - loss: 1.2876\n",
            "Epoch 40/100\n",
            "98/98 [==============================] - ETA: 0s - loss: 1.2375"
          ]
        },
        {
          "output_type": "stream",
          "name": "stderr",
          "text": [
            "WARNING:absl:Found untraced functions such as lstm_cell_layer_call_fn, lstm_cell_layer_call_and_return_conditional_losses while saving (showing 2 of 2). These functions will not be directly callable after loading.\n"
          ]
        },
        {
          "output_type": "stream",
          "name": "stdout",
          "text": [
            "\b\b\b\b\b\b\b\b\b\b\b\b\b\b\b\b\b\b\b\b\b\b\b\b\b\b\b\b\b\b\b\b\b\b\b\b\b\b\b\b\b\b\b\b\b\b\b\b\b\b\b\b\b\b\b\b\b\b\b\b\b\b\b\r98/98 [==============================] - 38s 384ms/step - loss: 1.2375\n",
            "Epoch 41/100\n",
            "98/98 [==============================] - ETA: 0s - loss: 1.1902"
          ]
        },
        {
          "output_type": "stream",
          "name": "stderr",
          "text": [
            "WARNING:absl:Found untraced functions such as lstm_cell_layer_call_fn, lstm_cell_layer_call_and_return_conditional_losses while saving (showing 2 of 2). These functions will not be directly callable after loading.\n"
          ]
        },
        {
          "output_type": "stream",
          "name": "stdout",
          "text": [
            "\b\b\b\b\b\b\b\b\b\b\b\b\b\b\b\b\b\b\b\b\b\b\b\b\b\b\b\b\b\b\b\b\b\b\b\b\b\b\b\b\b\b\b\b\b\b\b\b\b\b\b\b\b\b\b\b\b\b\b\b\b\b\b\r98/98 [==============================] - 39s 395ms/step - loss: 1.1902\n",
            "Epoch 42/100\n",
            "98/98 [==============================] - ETA: 0s - loss: 1.1448"
          ]
        },
        {
          "output_type": "stream",
          "name": "stderr",
          "text": [
            "WARNING:absl:Found untraced functions such as lstm_cell_layer_call_fn, lstm_cell_layer_call_and_return_conditional_losses while saving (showing 2 of 2). These functions will not be directly callable after loading.\n"
          ]
        },
        {
          "output_type": "stream",
          "name": "stdout",
          "text": [
            "\b\b\b\b\b\b\b\b\b\b\b\b\b\b\b\b\b\b\b\b\b\b\b\b\b\b\b\b\b\b\b\b\b\b\b\b\b\b\b\b\b\b\b\b\b\b\b\b\b\b\b\b\b\b\b\b\b\b\b\b\b\b\b\r98/98 [==============================] - 38s 383ms/step - loss: 1.1448\n",
            "Epoch 43/100\n",
            "98/98 [==============================] - ETA: 0s - loss: 1.1002"
          ]
        },
        {
          "output_type": "stream",
          "name": "stderr",
          "text": [
            "WARNING:absl:Found untraced functions such as lstm_cell_layer_call_fn, lstm_cell_layer_call_and_return_conditional_losses while saving (showing 2 of 2). These functions will not be directly callable after loading.\n"
          ]
        },
        {
          "output_type": "stream",
          "name": "stdout",
          "text": [
            "\b\b\b\b\b\b\b\b\b\b\b\b\b\b\b\b\b\b\b\b\b\b\b\b\b\b\b\b\b\b\b\b\b\b\b\b\b\b\b\b\b\b\b\b\b\b\b\b\b\b\b\b\b\b\b\b\b\b\b\b\b\b\b\r98/98 [==============================] - 38s 388ms/step - loss: 1.1002\n",
            "Epoch 44/100\n",
            "98/98 [==============================] - ETA: 0s - loss: 1.0595"
          ]
        },
        {
          "output_type": "stream",
          "name": "stderr",
          "text": [
            "WARNING:absl:Found untraced functions such as lstm_cell_layer_call_fn, lstm_cell_layer_call_and_return_conditional_losses while saving (showing 2 of 2). These functions will not be directly callable after loading.\n"
          ]
        },
        {
          "output_type": "stream",
          "name": "stdout",
          "text": [
            "\b\b\b\b\b\b\b\b\b\b\b\b\b\b\b\b\b\b\b\b\b\b\b\b\b\b\b\b\b\b\b\b\b\b\b\b\b\b\b\b\b\b\b\b\b\b\b\b\b\b\b\b\b\b\b\b\b\b\b\b\b\b\b\r98/98 [==============================] - 38s 382ms/step - loss: 1.0595\n",
            "Epoch 45/100\n",
            "98/98 [==============================] - ETA: 0s - loss: 1.0190"
          ]
        },
        {
          "output_type": "stream",
          "name": "stderr",
          "text": [
            "WARNING:absl:Found untraced functions such as lstm_cell_layer_call_fn, lstm_cell_layer_call_and_return_conditional_losses while saving (showing 2 of 2). These functions will not be directly callable after loading.\n"
          ]
        },
        {
          "output_type": "stream",
          "name": "stdout",
          "text": [
            "\b\b\b\b\b\b\b\b\b\b\b\b\b\b\b\b\b\b\b\b\b\b\b\b\b\b\b\b\b\b\b\b\b\b\b\b\b\b\b\b\b\b\b\b\b\b\b\b\b\b\b\b\b\b\b\b\b\b\b\b\b\b\b\r98/98 [==============================] - 38s 387ms/step - loss: 1.0190\n",
            "Epoch 46/100\n",
            "98/98 [==============================] - ETA: 0s - loss: 0.9774"
          ]
        },
        {
          "output_type": "stream",
          "name": "stderr",
          "text": [
            "WARNING:absl:Found untraced functions such as lstm_cell_layer_call_fn, lstm_cell_layer_call_and_return_conditional_losses while saving (showing 2 of 2). These functions will not be directly callable after loading.\n"
          ]
        },
        {
          "output_type": "stream",
          "name": "stdout",
          "text": [
            "\b\b\b\b\b\b\b\b\b\b\b\b\b\b\b\b\b\b\b\b\b\b\b\b\b\b\b\b\b\b\b\b\b\b\b\b\b\b\b\b\b\b\b\b\b\b\b\b\b\b\b\b\b\b\b\b\b\b\b\b\b\b\b\r98/98 [==============================] - 38s 387ms/step - loss: 0.9774\n",
            "Epoch 47/100\n",
            "98/98 [==============================] - ETA: 0s - loss: 0.9385"
          ]
        },
        {
          "output_type": "stream",
          "name": "stderr",
          "text": [
            "WARNING:absl:Found untraced functions such as lstm_cell_layer_call_fn, lstm_cell_layer_call_and_return_conditional_losses while saving (showing 2 of 2). These functions will not be directly callable after loading.\n"
          ]
        },
        {
          "output_type": "stream",
          "name": "stdout",
          "text": [
            "\b\b\b\b\b\b\b\b\b\b\b\b\b\b\b\b\b\b\b\b\b\b\b\b\b\b\b\b\b\b\b\b\b\b\b\b\b\b\b\b\b\b\b\b\b\b\b\b\b\b\b\b\b\b\b\b\b\b\b\b\b\b\b\r98/98 [==============================] - 38s 383ms/step - loss: 0.9385\n",
            "Epoch 48/100\n",
            "98/98 [==============================] - ETA: 0s - loss: 0.9026"
          ]
        },
        {
          "output_type": "stream",
          "name": "stderr",
          "text": [
            "WARNING:absl:Found untraced functions such as lstm_cell_layer_call_fn, lstm_cell_layer_call_and_return_conditional_losses while saving (showing 2 of 2). These functions will not be directly callable after loading.\n"
          ]
        },
        {
          "output_type": "stream",
          "name": "stdout",
          "text": [
            "\b\b\b\b\b\b\b\b\b\b\b\b\b\b\b\b\b\b\b\b\b\b\b\b\b\b\b\b\b\b\b\b\b\b\b\b\b\b\b\b\b\b\b\b\b\b\b\b\b\b\b\b\b\b\b\b\b\b\b\b\b\b\b\r98/98 [==============================] - 39s 391ms/step - loss: 0.9026\n",
            "Epoch 49/100\n",
            "98/98 [==============================] - ETA: 0s - loss: 0.8687"
          ]
        },
        {
          "output_type": "stream",
          "name": "stderr",
          "text": [
            "WARNING:absl:Found untraced functions such as lstm_cell_layer_call_fn, lstm_cell_layer_call_and_return_conditional_losses while saving (showing 2 of 2). These functions will not be directly callable after loading.\n"
          ]
        },
        {
          "output_type": "stream",
          "name": "stdout",
          "text": [
            "\b\b\b\b\b\b\b\b\b\b\b\b\b\b\b\b\b\b\b\b\b\b\b\b\b\b\b\b\b\b\b\b\b\b\b\b\b\b\b\b\b\b\b\b\b\b\b\b\b\b\b\b\b\b\b\b\b\b\b\b\b\b\b\r98/98 [==============================] - 38s 384ms/step - loss: 0.8687\n",
            "Epoch 50/100\n",
            "98/98 [==============================] - ETA: 0s - loss: 0.8352"
          ]
        },
        {
          "output_type": "stream",
          "name": "stderr",
          "text": [
            "WARNING:absl:Found untraced functions such as lstm_cell_layer_call_fn, lstm_cell_layer_call_and_return_conditional_losses while saving (showing 2 of 2). These functions will not be directly callable after loading.\n"
          ]
        },
        {
          "output_type": "stream",
          "name": "stdout",
          "text": [
            "\b\b\b\b\b\b\b\b\b\b\b\b\b\b\b\b\b\b\b\b\b\b\b\b\b\b\b\b\b\b\b\b\b\b\b\b\b\b\b\b\b\b\b\b\b\b\b\b\b\b\b\b\b\b\b\b\b\b\b\b\b\b\b\r98/98 [==============================] - 38s 389ms/step - loss: 0.8352\n",
            "Epoch 51/100\n",
            "98/98 [==============================] - ETA: 0s - loss: 0.8046"
          ]
        },
        {
          "output_type": "stream",
          "name": "stderr",
          "text": [
            "WARNING:absl:Found untraced functions such as lstm_cell_layer_call_fn, lstm_cell_layer_call_and_return_conditional_losses while saving (showing 2 of 2). These functions will not be directly callable after loading.\n"
          ]
        },
        {
          "output_type": "stream",
          "name": "stdout",
          "text": [
            "\b\b\b\b\b\b\b\b\b\b\b\b\b\b\b\b\b\b\b\b\b\b\b\b\b\b\b\b\b\b\b\b\b\b\b\b\b\b\b\b\b\b\b\b\b\b\b\b\b\b\b\b\b\b\b\b\b\b\b\b\b\b\b\r98/98 [==============================] - 39s 388ms/step - loss: 0.8046\n",
            "Epoch 52/100\n",
            "98/98 [==============================] - ETA: 0s - loss: 0.7714"
          ]
        },
        {
          "output_type": "stream",
          "name": "stderr",
          "text": [
            "WARNING:absl:Found untraced functions such as lstm_cell_layer_call_fn, lstm_cell_layer_call_and_return_conditional_losses while saving (showing 2 of 2). These functions will not be directly callable after loading.\n"
          ]
        },
        {
          "output_type": "stream",
          "name": "stdout",
          "text": [
            "\b\b\b\b\b\b\b\b\b\b\b\b\b\b\b\b\b\b\b\b\b\b\b\b\b\b\b\b\b\b\b\b\b\b\b\b\b\b\b\b\b\b\b\b\b\b\b\b\b\b\b\b\b\b\b\b\b\b\b\b\b\b\b\r98/98 [==============================] - 38s 387ms/step - loss: 0.7714\n",
            "Epoch 53/100\n",
            "98/98 [==============================] - ETA: 0s - loss: 0.7387"
          ]
        },
        {
          "output_type": "stream",
          "name": "stderr",
          "text": [
            "WARNING:absl:Found untraced functions such as lstm_cell_layer_call_fn, lstm_cell_layer_call_and_return_conditional_losses while saving (showing 2 of 2). These functions will not be directly callable after loading.\n"
          ]
        },
        {
          "output_type": "stream",
          "name": "stdout",
          "text": [
            "\b\b\b\b\b\b\b\b\b\b\b\b\b\b\b\b\b\b\b\b\b\b\b\b\b\b\b\b\b\b\b\b\b\b\b\b\b\b\b\b\b\b\b\b\b\b\b\b\b\b\b\b\b\b\b\b\b\b\b\b\b\b\b\r98/98 [==============================] - 38s 382ms/step - loss: 0.7387\n",
            "Epoch 54/100\n",
            "98/98 [==============================] - ETA: 0s - loss: 0.7078"
          ]
        },
        {
          "output_type": "stream",
          "name": "stderr",
          "text": [
            "WARNING:absl:Found untraced functions such as lstm_cell_layer_call_fn, lstm_cell_layer_call_and_return_conditional_losses while saving (showing 2 of 2). These functions will not be directly callable after loading.\n"
          ]
        },
        {
          "output_type": "stream",
          "name": "stdout",
          "text": [
            "\b\b\b\b\b\b\b\b\b\b\b\b\b\b\b\b\b\b\b\b\b\b\b\b\b\b\b\b\b\b\b\b\b\b\b\b\b\b\b\b\b\b\b\b\b\b\b\b\b\b\b\b\b\b\b\b\b\b\b\b\b\b\b\r98/98 [==============================] - 38s 387ms/step - loss: 0.7078\n",
            "Epoch 55/100\n",
            "98/98 [==============================] - ETA: 0s - loss: 0.6798"
          ]
        },
        {
          "output_type": "stream",
          "name": "stderr",
          "text": [
            "WARNING:absl:Found untraced functions such as lstm_cell_layer_call_fn, lstm_cell_layer_call_and_return_conditional_losses while saving (showing 2 of 2). These functions will not be directly callable after loading.\n"
          ]
        },
        {
          "output_type": "stream",
          "name": "stdout",
          "text": [
            "\b\b\b\b\b\b\b\b\b\b\b\b\b\b\b\b\b\b\b\b\b\b\b\b\b\b\b\b\b\b\b\b\b\b\b\b\b\b\b\b\b\b\b\b\b\b\b\b\b\b\b\b\b\b\b\b\b\b\b\b\b\b\b\r98/98 [==============================] - 38s 386ms/step - loss: 0.6798\n",
            "Epoch 56/100\n",
            "98/98 [==============================] - ETA: 0s - loss: 0.6521"
          ]
        },
        {
          "output_type": "stream",
          "name": "stderr",
          "text": [
            "WARNING:absl:Found untraced functions such as lstm_cell_layer_call_fn, lstm_cell_layer_call_and_return_conditional_losses while saving (showing 2 of 2). These functions will not be directly callable after loading.\n"
          ]
        },
        {
          "output_type": "stream",
          "name": "stdout",
          "text": [
            "\b\b\b\b\b\b\b\b\b\b\b\b\b\b\b\b\b\b\b\b\b\b\b\b\b\b\b\b\b\b\b\b\b\b\b\b\b\b\b\b\b\b\b\b\b\b\b\b\b\b\b\b\b\b\b\b\b\b\b\b\b\b\b\r98/98 [==============================] - 38s 383ms/step - loss: 0.6521\n",
            "Epoch 57/100\n",
            "98/98 [==============================] - ETA: 0s - loss: 0.6252"
          ]
        },
        {
          "output_type": "stream",
          "name": "stderr",
          "text": [
            "WARNING:absl:Found untraced functions such as lstm_cell_layer_call_fn, lstm_cell_layer_call_and_return_conditional_losses while saving (showing 2 of 2). These functions will not be directly callable after loading.\n"
          ]
        },
        {
          "output_type": "stream",
          "name": "stdout",
          "text": [
            "\b\b\b\b\b\b\b\b\b\b\b\b\b\b\b\b\b\b\b\b\b\b\b\b\b\b\b\b\b\b\b\b\b\b\b\b\b\b\b\b\b\b\b\b\b\b\b\b\b\b\b\b\b\b\b\b\b\b\b\b\b\b\b\r98/98 [==============================] - 38s 387ms/step - loss: 0.6252\n",
            "Epoch 58/100\n",
            "98/98 [==============================] - ETA: 0s - loss: 0.5983"
          ]
        },
        {
          "output_type": "stream",
          "name": "stderr",
          "text": [
            "WARNING:absl:Found untraced functions such as lstm_cell_layer_call_fn, lstm_cell_layer_call_and_return_conditional_losses while saving (showing 2 of 2). These functions will not be directly callable after loading.\n"
          ]
        },
        {
          "output_type": "stream",
          "name": "stdout",
          "text": [
            "\b\b\b\b\b\b\b\b\b\b\b\b\b\b\b\b\b\b\b\b\b\b\b\b\b\b\b\b\b\b\b\b\b\b\b\b\b\b\b\b\b\b\b\b\b\b\b\b\b\b\b\b\b\b\b\b\b\b\b\b\b\b\b\r98/98 [==============================] - 38s 383ms/step - loss: 0.5983\n",
            "Epoch 59/100\n",
            "98/98 [==============================] - ETA: 0s - loss: 0.5746"
          ]
        },
        {
          "output_type": "stream",
          "name": "stderr",
          "text": [
            "WARNING:absl:Found untraced functions such as lstm_cell_layer_call_fn, lstm_cell_layer_call_and_return_conditional_losses while saving (showing 2 of 2). These functions will not be directly callable after loading.\n"
          ]
        },
        {
          "output_type": "stream",
          "name": "stdout",
          "text": [
            "\b\b\b\b\b\b\b\b\b\b\b\b\b\b\b\b\b\b\b\b\b\b\b\b\b\b\b\b\b\b\b\b\b\b\b\b\b\b\b\b\b\b\b\b\b\b\b\b\b\b\b\b\b\b\b\b\b\b\b\b\b\b\b\r98/98 [==============================] - 38s 386ms/step - loss: 0.5746\n",
            "Epoch 60/100\n",
            "98/98 [==============================] - ETA: 0s - loss: 0.5514"
          ]
        },
        {
          "output_type": "stream",
          "name": "stderr",
          "text": [
            "WARNING:absl:Found untraced functions such as lstm_cell_layer_call_fn, lstm_cell_layer_call_and_return_conditional_losses while saving (showing 2 of 2). These functions will not be directly callable after loading.\n"
          ]
        },
        {
          "output_type": "stream",
          "name": "stdout",
          "text": [
            "\b\b\b\b\b\b\b\b\b\b\b\b\b\b\b\b\b\b\b\b\b\b\b\b\b\b\b\b\b\b\b\b\b\b\b\b\b\b\b\b\b\b\b\b\b\b\b\b\b\b\b\b\b\b\b\b\b\b\b\b\b\b\b\r98/98 [==============================] - 38s 383ms/step - loss: 0.5514\n",
            "Epoch 61/100\n",
            "98/98 [==============================] - ETA: 0s - loss: 0.5278"
          ]
        },
        {
          "output_type": "stream",
          "name": "stderr",
          "text": [
            "WARNING:absl:Found untraced functions such as lstm_cell_layer_call_fn, lstm_cell_layer_call_and_return_conditional_losses while saving (showing 2 of 2). These functions will not be directly callable after loading.\n"
          ]
        },
        {
          "output_type": "stream",
          "name": "stdout",
          "text": [
            "\b\b\b\b\b\b\b\b\b\b\b\b\b\b\b\b\b\b\b\b\b\b\b\b\b\b\b\b\b\b\b\b\b\b\b\b\b\b\b\b\b\b\b\b\b\b\b\b\b\b\b\b\b\b\b\b\b\b\b\b\b\b\b\r98/98 [==============================] - 38s 386ms/step - loss: 0.5278\n",
            "Epoch 62/100\n",
            "98/98 [==============================] - ETA: 0s - loss: 0.5054"
          ]
        },
        {
          "output_type": "stream",
          "name": "stderr",
          "text": [
            "WARNING:absl:Found untraced functions such as lstm_cell_layer_call_fn, lstm_cell_layer_call_and_return_conditional_losses while saving (showing 2 of 2). These functions will not be directly callable after loading.\n"
          ]
        },
        {
          "output_type": "stream",
          "name": "stdout",
          "text": [
            "\b\b\b\b\b\b\b\b\b\b\b\b\b\b\b\b\b\b\b\b\b\b\b\b\b\b\b\b\b\b\b\b\b\b\b\b\b\b\b\b\b\b\b\b\b\b\b\b\b\b\b\b\b\b\b\b\b\b\b\b\b\b\b\r98/98 [==============================] - 39s 392ms/step - loss: 0.5054\n",
            "Epoch 63/100\n",
            "98/98 [==============================] - ETA: 0s - loss: 0.4842"
          ]
        },
        {
          "output_type": "stream",
          "name": "stderr",
          "text": [
            "WARNING:absl:Found untraced functions such as lstm_cell_layer_call_fn, lstm_cell_layer_call_and_return_conditional_losses while saving (showing 2 of 2). These functions will not be directly callable after loading.\n"
          ]
        },
        {
          "output_type": "stream",
          "name": "stdout",
          "text": [
            "\b\b\b\b\b\b\b\b\b\b\b\b\b\b\b\b\b\b\b\b\b\b\b\b\b\b\b\b\b\b\b\b\b\b\b\b\b\b\b\b\b\b\b\b\b\b\b\b\b\b\b\b\b\b\b\b\b\b\b\b\b\b\b\r98/98 [==============================] - 38s 383ms/step - loss: 0.4842\n",
            "Epoch 64/100\n",
            "98/98 [==============================] - ETA: 0s - loss: 0.4636"
          ]
        },
        {
          "output_type": "stream",
          "name": "stderr",
          "text": [
            "WARNING:absl:Found untraced functions such as lstm_cell_layer_call_fn, lstm_cell_layer_call_and_return_conditional_losses while saving (showing 2 of 2). These functions will not be directly callable after loading.\n"
          ]
        },
        {
          "output_type": "stream",
          "name": "stdout",
          "text": [
            "\b\b\b\b\b\b\b\b\b\b\b\b\b\b\b\b\b\b\b\b\b\b\b\b\b\b\b\b\b\b\b\b\b\b\b\b\b\b\b\b\b\b\b\b\b\b\b\b\b\b\b\b\b\b\b\b\b\b\b\b\b\b\b\r98/98 [==============================] - 38s 387ms/step - loss: 0.4636\n",
            "Epoch 65/100\n",
            "98/98 [==============================] - ETA: 0s - loss: 0.4435"
          ]
        },
        {
          "output_type": "stream",
          "name": "stderr",
          "text": [
            "WARNING:absl:Found untraced functions such as lstm_cell_layer_call_fn, lstm_cell_layer_call_and_return_conditional_losses while saving (showing 2 of 2). These functions will not be directly callable after loading.\n"
          ]
        },
        {
          "output_type": "stream",
          "name": "stdout",
          "text": [
            "\b\b\b\b\b\b\b\b\b\b\b\b\b\b\b\b\b\b\b\b\b\b\b\b\b\b\b\b\b\b\b\b\b\b\b\b\b\b\b\b\b\b\b\b\b\b\b\b\b\b\b\b\b\b\b\b\b\b\b\b\b\b\b\r98/98 [==============================] - 38s 381ms/step - loss: 0.4435\n",
            "Epoch 66/100\n",
            "98/98 [==============================] - ETA: 0s - loss: 0.4236"
          ]
        },
        {
          "output_type": "stream",
          "name": "stderr",
          "text": [
            "WARNING:absl:Found untraced functions such as lstm_cell_layer_call_fn, lstm_cell_layer_call_and_return_conditional_losses while saving (showing 2 of 2). These functions will not be directly callable after loading.\n"
          ]
        },
        {
          "output_type": "stream",
          "name": "stdout",
          "text": [
            "\b\b\b\b\b\b\b\b\b\b\b\b\b\b\b\b\b\b\b\b\b\b\b\b\b\b\b\b\b\b\b\b\b\b\b\b\b\b\b\b\b\b\b\b\b\b\b\b\b\b\b\b\b\b\b\b\b\b\b\b\b\b\b\r98/98 [==============================] - 38s 387ms/step - loss: 0.4236\n",
            "Epoch 67/100\n",
            "98/98 [==============================] - ETA: 0s - loss: 0.4050"
          ]
        },
        {
          "output_type": "stream",
          "name": "stderr",
          "text": [
            "WARNING:absl:Found untraced functions such as lstm_cell_layer_call_fn, lstm_cell_layer_call_and_return_conditional_losses while saving (showing 2 of 2). These functions will not be directly callable after loading.\n"
          ]
        },
        {
          "output_type": "stream",
          "name": "stdout",
          "text": [
            "\b\b\b\b\b\b\b\b\b\b\b\b\b\b\b\b\b\b\b\b\b\b\b\b\b\b\b\b\b\b\b\b\b\b\b\b\b\b\b\b\b\b\b\b\b\b\b\b\b\b\b\b\b\b\b\b\b\b\b\b\b\b\b\r98/98 [==============================] - 38s 381ms/step - loss: 0.4050\n",
            "Epoch 68/100\n",
            "98/98 [==============================] - ETA: 0s - loss: 0.3884"
          ]
        },
        {
          "output_type": "stream",
          "name": "stderr",
          "text": [
            "WARNING:absl:Found untraced functions such as lstm_cell_layer_call_fn, lstm_cell_layer_call_and_return_conditional_losses while saving (showing 2 of 2). These functions will not be directly callable after loading.\n"
          ]
        },
        {
          "output_type": "stream",
          "name": "stdout",
          "text": [
            "\b\b\b\b\b\b\b\b\b\b\b\b\b\b\b\b\b\b\b\b\b\b\b\b\b\b\b\b\b\b\b\b\b\b\b\b\b\b\b\b\b\b\b\b\b\b\b\b\b\b\b\b\b\b\b\b\b\b\b\b\b\b\b\r98/98 [==============================] - 38s 387ms/step - loss: 0.3884\n",
            "Epoch 69/100\n",
            "98/98 [==============================] - ETA: 0s - loss: 0.3727"
          ]
        },
        {
          "output_type": "stream",
          "name": "stderr",
          "text": [
            "WARNING:absl:Found untraced functions such as lstm_cell_layer_call_fn, lstm_cell_layer_call_and_return_conditional_losses while saving (showing 2 of 2). These functions will not be directly callable after loading.\n"
          ]
        },
        {
          "output_type": "stream",
          "name": "stdout",
          "text": [
            "\b\b\b\b\b\b\b\b\b\b\b\b\b\b\b\b\b\b\b\b\b\b\b\b\b\b\b\b\b\b\b\b\b\b\b\b\b\b\b\b\b\b\b\b\b\b\b\b\b\b\b\b\b\b\b\b\b\b\b\b\b\b\b\r98/98 [==============================] - 38s 381ms/step - loss: 0.3727\n",
            "Epoch 70/100\n",
            "98/98 [==============================] - ETA: 0s - loss: 0.3568"
          ]
        },
        {
          "output_type": "stream",
          "name": "stderr",
          "text": [
            "WARNING:absl:Found untraced functions such as lstm_cell_layer_call_fn, lstm_cell_layer_call_and_return_conditional_losses while saving (showing 2 of 2). These functions will not be directly callable after loading.\n"
          ]
        },
        {
          "output_type": "stream",
          "name": "stdout",
          "text": [
            "\b\b\b\b\b\b\b\b\b\b\b\b\b\b\b\b\b\b\b\b\b\b\b\b\b\b\b\b\b\b\b\b\b\b\b\b\b\b\b\b\b\b\b\b\b\b\b\b\b\b\b\b\b\b\b\b\b\b\b\b\b\b\b\r98/98 [==============================] - 38s 388ms/step - loss: 0.3568\n",
            "Epoch 71/100\n",
            "98/98 [==============================] - ETA: 0s - loss: 0.3407"
          ]
        },
        {
          "output_type": "stream",
          "name": "stderr",
          "text": [
            "WARNING:absl:Found untraced functions such as lstm_cell_layer_call_fn, lstm_cell_layer_call_and_return_conditional_losses while saving (showing 2 of 2). These functions will not be directly callable after loading.\n"
          ]
        },
        {
          "output_type": "stream",
          "name": "stdout",
          "text": [
            "\b\b\b\b\b\b\b\b\b\b\b\b\b\b\b\b\b\b\b\b\b\b\b\b\b\b\b\b\b\b\b\b\b\b\b\b\b\b\b\b\b\b\b\b\b\b\b\b\b\b\b\b\b\b\b\b\b\b\b\b\b\b\b\r98/98 [==============================] - 38s 386ms/step - loss: 0.3407\n",
            "Epoch 72/100\n",
            "98/98 [==============================] - ETA: 0s - loss: 0.3264"
          ]
        },
        {
          "output_type": "stream",
          "name": "stderr",
          "text": [
            "WARNING:absl:Found untraced functions such as lstm_cell_layer_call_fn, lstm_cell_layer_call_and_return_conditional_losses while saving (showing 2 of 2). These functions will not be directly callable after loading.\n"
          ]
        },
        {
          "output_type": "stream",
          "name": "stdout",
          "text": [
            "\b\b\b\b\b\b\b\b\b\b\b\b\b\b\b\b\b\b\b\b\b\b\b\b\b\b\b\b\b\b\b\b\b\b\b\b\b\b\b\b\b\b\b\b\b\b\b\b\b\b\b\b\b\b\b\b\b\b\b\b\b\b\b\r98/98 [==============================] - 38s 384ms/step - loss: 0.3264\n",
            "Epoch 73/100\n",
            "98/98 [==============================] - ETA: 0s - loss: 0.3133"
          ]
        },
        {
          "output_type": "stream",
          "name": "stderr",
          "text": [
            "WARNING:absl:Found untraced functions such as lstm_cell_layer_call_fn, lstm_cell_layer_call_and_return_conditional_losses while saving (showing 2 of 2). These functions will not be directly callable after loading.\n"
          ]
        },
        {
          "output_type": "stream",
          "name": "stdout",
          "text": [
            "\b\b\b\b\b\b\b\b\b\b\b\b\b\b\b\b\b\b\b\b\b\b\b\b\b\b\b\b\b\b\b\b\b\b\b\b\b\b\b\b\b\b\b\b\b\b\b\b\b\b\b\b\b\b\b\b\b\b\b\b\b\b\b\r98/98 [==============================] - 39s 394ms/step - loss: 0.3133\n",
            "Epoch 74/100\n",
            "98/98 [==============================] - ETA: 0s - loss: 0.3004"
          ]
        },
        {
          "output_type": "stream",
          "name": "stderr",
          "text": [
            "WARNING:absl:Found untraced functions such as lstm_cell_layer_call_fn, lstm_cell_layer_call_and_return_conditional_losses while saving (showing 2 of 2). These functions will not be directly callable after loading.\n"
          ]
        },
        {
          "output_type": "stream",
          "name": "stdout",
          "text": [
            "\b\b\b\b\b\b\b\b\b\b\b\b\b\b\b\b\b\b\b\b\b\b\b\b\b\b\b\b\b\b\b\b\b\b\b\b\b\b\b\b\b\b\b\b\b\b\b\b\b\b\b\b\b\b\b\b\b\b\b\b\b\b\b\r98/98 [==============================] - 38s 381ms/step - loss: 0.3004\n",
            "Epoch 75/100\n",
            "98/98 [==============================] - ETA: 0s - loss: 0.2873"
          ]
        },
        {
          "output_type": "stream",
          "name": "stderr",
          "text": [
            "WARNING:absl:Found untraced functions such as lstm_cell_layer_call_fn, lstm_cell_layer_call_and_return_conditional_losses while saving (showing 2 of 2). These functions will not be directly callable after loading.\n"
          ]
        },
        {
          "output_type": "stream",
          "name": "stdout",
          "text": [
            "\b\b\b\b\b\b\b\b\b\b\b\b\b\b\b\b\b\b\b\b\b\b\b\b\b\b\b\b\b\b\b\b\b\b\b\b\b\b\b\b\b\b\b\b\b\b\b\b\b\b\b\b\b\b\b\b\b\b\b\b\b\b\b\r98/98 [==============================] - 38s 386ms/step - loss: 0.2873\n",
            "Epoch 76/100\n",
            "98/98 [==============================] - ETA: 0s - loss: 0.2732"
          ]
        },
        {
          "output_type": "stream",
          "name": "stderr",
          "text": [
            "WARNING:absl:Found untraced functions such as lstm_cell_layer_call_fn, lstm_cell_layer_call_and_return_conditional_losses while saving (showing 2 of 2). These functions will not be directly callable after loading.\n"
          ]
        },
        {
          "output_type": "stream",
          "name": "stdout",
          "text": [
            "\b\b\b\b\b\b\b\b\b\b\b\b\b\b\b\b\b\b\b\b\b\b\b\b\b\b\b\b\b\b\b\b\b\b\b\b\b\b\b\b\b\b\b\b\b\b\b\b\b\b\b\b\b\b\b\b\b\b\b\b\b\b\b\r98/98 [==============================] - 38s 382ms/step - loss: 0.2732\n",
            "Epoch 77/100\n",
            "98/98 [==============================] - ETA: 0s - loss: 0.2593"
          ]
        },
        {
          "output_type": "stream",
          "name": "stderr",
          "text": [
            "WARNING:absl:Found untraced functions such as lstm_cell_layer_call_fn, lstm_cell_layer_call_and_return_conditional_losses while saving (showing 2 of 2). These functions will not be directly callable after loading.\n"
          ]
        },
        {
          "output_type": "stream",
          "name": "stdout",
          "text": [
            "\b\b\b\b\b\b\b\b\b\b\b\b\b\b\b\b\b\b\b\b\b\b\b\b\b\b\b\b\b\b\b\b\b\b\b\b\b\b\b\b\b\b\b\b\b\b\b\b\b\b\b\b\b\b\b\b\b\b\b\b\b\b\b\r98/98 [==============================] - 38s 387ms/step - loss: 0.2593\n",
            "Epoch 78/100\n",
            "98/98 [==============================] - ETA: 0s - loss: 0.2464"
          ]
        },
        {
          "output_type": "stream",
          "name": "stderr",
          "text": [
            "WARNING:absl:Found untraced functions such as lstm_cell_layer_call_fn, lstm_cell_layer_call_and_return_conditional_losses while saving (showing 2 of 2). These functions will not be directly callable after loading.\n"
          ]
        },
        {
          "output_type": "stream",
          "name": "stdout",
          "text": [
            "\b\b\b\b\b\b\b\b\b\b\b\b\b\b\b\b\b\b\b\b\b\b\b\b\b\b\b\b\b\b\b\b\b\b\b\b\b\b\b\b\b\b\b\b\b\b\b\b\b\b\b\b\b\b\b\b\b\b\b\b\b\b\b\r98/98 [==============================] - 38s 382ms/step - loss: 0.2464\n",
            "Epoch 79/100\n",
            "98/98 [==============================] - ETA: 0s - loss: 0.2371"
          ]
        },
        {
          "output_type": "stream",
          "name": "stderr",
          "text": [
            "WARNING:absl:Found untraced functions such as lstm_cell_layer_call_fn, lstm_cell_layer_call_and_return_conditional_losses while saving (showing 2 of 2). These functions will not be directly callable after loading.\n"
          ]
        },
        {
          "output_type": "stream",
          "name": "stdout",
          "text": [
            "\b\b\b\b\b\b\b\b\b\b\b\b\b\b\b\b\b\b\b\b\b\b\b\b\b\b\b\b\b\b\b\b\b\b\b\b\b\b\b\b\b\b\b\b\b\b\b\b\b\b\b\b\b\b\b\b\b\b\b\b\b\b\b\r98/98 [==============================] - 38s 387ms/step - loss: 0.2371\n",
            "Epoch 80/100\n",
            "98/98 [==============================] - ETA: 0s - loss: 0.2276"
          ]
        },
        {
          "output_type": "stream",
          "name": "stderr",
          "text": [
            "WARNING:absl:Found untraced functions such as lstm_cell_layer_call_fn, lstm_cell_layer_call_and_return_conditional_losses while saving (showing 2 of 2). These functions will not be directly callable after loading.\n"
          ]
        },
        {
          "output_type": "stream",
          "name": "stdout",
          "text": [
            "\b\b\b\b\b\b\b\b\b\b\b\b\b\b\b\b\b\b\b\b\b\b\b\b\b\b\b\b\b\b\b\b\b\b\b\b\b\b\b\b\b\b\b\b\b\b\b\b\b\b\b\b\b\b\b\b\b\b\b\b\b\b\b\r98/98 [==============================] - 38s 385ms/step - loss: 0.2276\n",
            "Epoch 81/100\n",
            "98/98 [==============================] - ETA: 0s - loss: 0.2173"
          ]
        },
        {
          "output_type": "stream",
          "name": "stderr",
          "text": [
            "WARNING:absl:Found untraced functions such as lstm_cell_layer_call_fn, lstm_cell_layer_call_and_return_conditional_losses while saving (showing 2 of 2). These functions will not be directly callable after loading.\n"
          ]
        },
        {
          "output_type": "stream",
          "name": "stdout",
          "text": [
            "\b\b\b\b\b\b\b\b\b\b\b\b\b\b\b\b\b\b\b\b\b\b\b\b\b\b\b\b\b\b\b\b\b\b\b\b\b\b\b\b\b\b\b\b\b\b\b\b\b\b\b\b\b\b\b\b\b\b\b\b\b\b\b\r98/98 [==============================] - 38s 383ms/step - loss: 0.2173\n",
            "Epoch 82/100\n",
            "98/98 [==============================] - ETA: 0s - loss: 0.2088"
          ]
        },
        {
          "output_type": "stream",
          "name": "stderr",
          "text": [
            "WARNING:absl:Found untraced functions such as lstm_cell_layer_call_fn, lstm_cell_layer_call_and_return_conditional_losses while saving (showing 2 of 2). These functions will not be directly callable after loading.\n"
          ]
        },
        {
          "output_type": "stream",
          "name": "stdout",
          "text": [
            "\b\b\b\b\b\b\b\b\b\b\b\b\b\b\b\b\b\b\b\b\b\b\b\b\b\b\b\b\b\b\b\b\b\b\b\b\b\b\b\b\b\b\b\b\b\b\b\b\b\b\b\b\b\b\b\b\b\b\b\b\b\b\b\r98/98 [==============================] - 38s 387ms/step - loss: 0.2088\n",
            "Epoch 83/100\n",
            "98/98 [==============================] - ETA: 0s - loss: 0.2009"
          ]
        },
        {
          "output_type": "stream",
          "name": "stderr",
          "text": [
            "WARNING:absl:Found untraced functions such as lstm_cell_layer_call_fn, lstm_cell_layer_call_and_return_conditional_losses while saving (showing 2 of 2). These functions will not be directly callable after loading.\n"
          ]
        },
        {
          "output_type": "stream",
          "name": "stdout",
          "text": [
            "\b\b\b\b\b\b\b\b\b\b\b\b\b\b\b\b\b\b\b\b\b\b\b\b\b\b\b\b\b\b\b\b\b\b\b\b\b\b\b\b\b\b\b\b\b\b\b\b\b\b\b\b\b\b\b\b\b\b\b\b\b\b\b\r98/98 [==============================] - 38s 384ms/step - loss: 0.2009\n",
            "Epoch 84/100\n",
            "98/98 [==============================] - ETA: 0s - loss: 0.1936"
          ]
        },
        {
          "output_type": "stream",
          "name": "stderr",
          "text": [
            "WARNING:absl:Found untraced functions such as lstm_cell_layer_call_fn, lstm_cell_layer_call_and_return_conditional_losses while saving (showing 2 of 2). These functions will not be directly callable after loading.\n"
          ]
        },
        {
          "output_type": "stream",
          "name": "stdout",
          "text": [
            "\b\b\b\b\b\b\b\b\b\b\b\b\b\b\b\b\b\b\b\b\b\b\b\b\b\b\b\b\b\b\b\b\b\b\b\b\b\b\b\b\b\b\b\b\b\b\b\b\b\b\b\b\b\b\b\b\b\b\b\b\b\b\b\r98/98 [==============================] - 39s 396ms/step - loss: 0.1936\n",
            "Epoch 85/100\n",
            "98/98 [==============================] - ETA: 0s - loss: 0.1850"
          ]
        },
        {
          "output_type": "stream",
          "name": "stderr",
          "text": [
            "WARNING:absl:Found untraced functions such as lstm_cell_layer_call_fn, lstm_cell_layer_call_and_return_conditional_losses while saving (showing 2 of 2). These functions will not be directly callable after loading.\n"
          ]
        },
        {
          "output_type": "stream",
          "name": "stdout",
          "text": [
            "\b\b\b\b\b\b\b\b\b\b\b\b\b\b\b\b\b\b\b\b\b\b\b\b\b\b\b\b\b\b\b\b\b\b\b\b\b\b\b\b\b\b\b\b\b\b\b\b\b\b\b\b\b\b\b\b\b\b\b\b\b\b\b\r98/98 [==============================] - 38s 383ms/step - loss: 0.1850\n",
            "Epoch 86/100\n",
            "98/98 [==============================] - ETA: 0s - loss: 0.1751"
          ]
        },
        {
          "output_type": "stream",
          "name": "stderr",
          "text": [
            "WARNING:absl:Found untraced functions such as lstm_cell_layer_call_fn, lstm_cell_layer_call_and_return_conditional_losses while saving (showing 2 of 2). These functions will not be directly callable after loading.\n"
          ]
        },
        {
          "output_type": "stream",
          "name": "stdout",
          "text": [
            "\b\b\b\b\b\b\b\b\b\b\b\b\b\b\b\b\b\b\b\b\b\b\b\b\b\b\b\b\b\b\b\b\b\b\b\b\b\b\b\b\b\b\b\b\b\b\b\b\b\b\b\b\b\b\b\b\b\b\b\b\b\b\b\r98/98 [==============================] - 38s 387ms/step - loss: 0.1751\n",
            "Epoch 87/100\n",
            "98/98 [==============================] - ETA: 0s - loss: 0.1671"
          ]
        },
        {
          "output_type": "stream",
          "name": "stderr",
          "text": [
            "WARNING:absl:Found untraced functions such as lstm_cell_layer_call_fn, lstm_cell_layer_call_and_return_conditional_losses while saving (showing 2 of 2). These functions will not be directly callable after loading.\n"
          ]
        },
        {
          "output_type": "stream",
          "name": "stdout",
          "text": [
            "\b\b\b\b\b\b\b\b\b\b\b\b\b\b\b\b\b\b\b\b\b\b\b\b\b\b\b\b\b\b\b\b\b\b\b\b\b\b\b\b\b\b\b\b\b\b\b\b\b\b\b\b\b\b\b\b\b\b\b\b\b\b\b\r98/98 [==============================] - 38s 382ms/step - loss: 0.1671\n",
            "Epoch 88/100\n",
            "98/98 [==============================] - ETA: 0s - loss: 0.1620"
          ]
        },
        {
          "output_type": "stream",
          "name": "stderr",
          "text": [
            "WARNING:absl:Found untraced functions such as lstm_cell_layer_call_fn, lstm_cell_layer_call_and_return_conditional_losses while saving (showing 2 of 2). These functions will not be directly callable after loading.\n"
          ]
        },
        {
          "output_type": "stream",
          "name": "stdout",
          "text": [
            "\b\b\b\b\b\b\b\b\b\b\b\b\b\b\b\b\b\b\b\b\b\b\b\b\b\b\b\b\b\b\b\b\b\b\b\b\b\b\b\b\b\b\b\b\b\b\b\b\b\b\b\b\b\b\b\b\b\b\b\b\b\b\b\r98/98 [==============================] - 38s 388ms/step - loss: 0.1620\n",
            "Epoch 89/100\n",
            "98/98 [==============================] - ETA: 0s - loss: 0.1560"
          ]
        },
        {
          "output_type": "stream",
          "name": "stderr",
          "text": [
            "WARNING:absl:Found untraced functions such as lstm_cell_layer_call_fn, lstm_cell_layer_call_and_return_conditional_losses while saving (showing 2 of 2). These functions will not be directly callable after loading.\n"
          ]
        },
        {
          "output_type": "stream",
          "name": "stdout",
          "text": [
            "\b\b\b\b\b\b\b\b\b\b\b\b\b\b\b\b\b\b\b\b\b\b\b\b\b\b\b\b\b\b\b\b\b\b\b\b\b\b\b\b\b\b\b\b\b\b\b\b\b\b\b\b\b\b\b\b\b\b\b\b\b\b\b\r98/98 [==============================] - 38s 386ms/step - loss: 0.1560\n",
            "Epoch 90/100\n",
            "98/98 [==============================] - ETA: 0s - loss: 0.1509"
          ]
        },
        {
          "output_type": "stream",
          "name": "stderr",
          "text": [
            "WARNING:absl:Found untraced functions such as lstm_cell_layer_call_fn, lstm_cell_layer_call_and_return_conditional_losses while saving (showing 2 of 2). These functions will not be directly callable after loading.\n"
          ]
        },
        {
          "output_type": "stream",
          "name": "stdout",
          "text": [
            "\b\b\b\b\b\b\b\b\b\b\b\b\b\b\b\b\b\b\b\b\b\b\b\b\b\b\b\b\b\b\b\b\b\b\b\b\b\b\b\b\b\b\b\b\b\b\b\b\b\b\b\b\b\b\b\b\b\b\b\b\b\b\b\r98/98 [==============================] - 38s 383ms/step - loss: 0.1509\n",
            "Epoch 91/100\n",
            "98/98 [==============================] - ETA: 0s - loss: 0.1469"
          ]
        },
        {
          "output_type": "stream",
          "name": "stderr",
          "text": [
            "WARNING:absl:Found untraced functions such as lstm_cell_layer_call_fn, lstm_cell_layer_call_and_return_conditional_losses while saving (showing 2 of 2). These functions will not be directly callable after loading.\n"
          ]
        },
        {
          "output_type": "stream",
          "name": "stdout",
          "text": [
            "\b\b\b\b\b\b\b\b\b\b\b\b\b\b\b\b\b\b\b\b\b\b\b\b\b\b\b\b\b\b\b\b\b\b\b\b\b\b\b\b\b\b\b\b\b\b\b\b\b\b\b\b\b\b\b\b\b\b\b\b\b\b\b\r98/98 [==============================] - 38s 387ms/step - loss: 0.1469\n",
            "Epoch 92/100\n",
            "98/98 [==============================] - ETA: 0s - loss: 0.1399"
          ]
        },
        {
          "output_type": "stream",
          "name": "stderr",
          "text": [
            "WARNING:absl:Found untraced functions such as lstm_cell_layer_call_fn, lstm_cell_layer_call_and_return_conditional_losses while saving (showing 2 of 2). These functions will not be directly callable after loading.\n"
          ]
        },
        {
          "output_type": "stream",
          "name": "stdout",
          "text": [
            "\b\b\b\b\b\b\b\b\b\b\b\b\b\b\b\b\b\b\b\b\b\b\b\b\b\b\b\b\b\b\b\b\b\b\b\b\b\b\b\b\b\b\b\b\b\b\b\b\b\b\b\b\b\b\b\b\b\b\b\b\b\b\b\r98/98 [==============================] - 38s 384ms/step - loss: 0.1399\n",
            "Epoch 93/100\n",
            "98/98 [==============================] - ETA: 0s - loss: 0.1318"
          ]
        },
        {
          "output_type": "stream",
          "name": "stderr",
          "text": [
            "WARNING:absl:Found untraced functions such as lstm_cell_layer_call_fn, lstm_cell_layer_call_and_return_conditional_losses while saving (showing 2 of 2). These functions will not be directly callable after loading.\n"
          ]
        },
        {
          "output_type": "stream",
          "name": "stdout",
          "text": [
            "\b\b\b\b\b\b\b\b\b\b\b\b\b\b\b\b\b\b\b\b\b\b\b\b\b\b\b\b\b\b\b\b\b\b\b\b\b\b\b\b\b\b\b\b\b\b\b\b\b\b\b\b\b\b\b\b\b\b\b\b\b\b\b\r98/98 [==============================] - 38s 385ms/step - loss: 0.1318\n",
            "Epoch 94/100\n",
            "98/98 [==============================] - ETA: 0s - loss: 0.1260"
          ]
        },
        {
          "output_type": "stream",
          "name": "stderr",
          "text": [
            "WARNING:absl:Found untraced functions such as lstm_cell_layer_call_fn, lstm_cell_layer_call_and_return_conditional_losses while saving (showing 2 of 2). These functions will not be directly callable after loading.\n"
          ]
        },
        {
          "output_type": "stream",
          "name": "stdout",
          "text": [
            "\b\b\b\b\b\b\b\b\b\b\b\b\b\b\b\b\b\b\b\b\b\b\b\b\b\b\b\b\b\b\b\b\b\b\b\b\b\b\b\b\b\b\b\b\b\b\b\b\b\b\b\b\b\b\b\b\b\b\b\b\b\b\b\r98/98 [==============================] - 38s 384ms/step - loss: 0.1260\n",
            "Epoch 95/100\n",
            "98/98 [==============================] - ETA: 0s - loss: 0.1223"
          ]
        },
        {
          "output_type": "stream",
          "name": "stderr",
          "text": [
            "WARNING:absl:Found untraced functions such as lstm_cell_layer_call_fn, lstm_cell_layer_call_and_return_conditional_losses while saving (showing 2 of 2). These functions will not be directly callable after loading.\n"
          ]
        },
        {
          "output_type": "stream",
          "name": "stdout",
          "text": [
            "\b\b\b\b\b\b\b\b\b\b\b\b\b\b\b\b\b\b\b\b\b\b\b\b\b\b\b\b\b\b\b\b\b\b\b\b\b\b\b\b\b\b\b\b\b\b\b\b\b\b\b\b\b\b\b\b\b\b\b\b\b\b\b\r98/98 [==============================] - 39s 395ms/step - loss: 0.1223\n",
            "Epoch 96/100\n",
            "98/98 [==============================] - ETA: 0s - loss: 0.1200"
          ]
        },
        {
          "output_type": "stream",
          "name": "stderr",
          "text": [
            "WARNING:absl:Found untraced functions such as lstm_cell_layer_call_fn, lstm_cell_layer_call_and_return_conditional_losses while saving (showing 2 of 2). These functions will not be directly callable after loading.\n"
          ]
        },
        {
          "output_type": "stream",
          "name": "stdout",
          "text": [
            "\b\b\b\b\b\b\b\b\b\b\b\b\b\b\b\b\b\b\b\b\b\b\b\b\b\b\b\b\b\b\b\b\b\b\b\b\b\b\b\b\b\b\b\b\b\b\b\b\b\b\b\b\b\b\b\b\b\b\b\b\b\b\b\r98/98 [==============================] - 38s 388ms/step - loss: 0.1200\n",
            "Epoch 97/100\n",
            "98/98 [==============================] - ETA: 0s - loss: 0.1143"
          ]
        },
        {
          "output_type": "stream",
          "name": "stderr",
          "text": [
            "WARNING:absl:Found untraced functions such as lstm_cell_layer_call_fn, lstm_cell_layer_call_and_return_conditional_losses while saving (showing 2 of 2). These functions will not be directly callable after loading.\n"
          ]
        },
        {
          "output_type": "stream",
          "name": "stdout",
          "text": [
            "\b\b\b\b\b\b\b\b\b\b\b\b\b\b\b\b\b\b\b\b\b\b\b\b\b\b\b\b\b\b\b\b\b\b\b\b\b\b\b\b\b\b\b\b\b\b\b\b\b\b\b\b\b\b\b\b\b\b\b\b\b\b\b\r98/98 [==============================] - 38s 385ms/step - loss: 0.1143\n",
            "Epoch 98/100\n",
            "98/98 [==============================] - ETA: 0s - loss: 0.1120"
          ]
        },
        {
          "output_type": "stream",
          "name": "stderr",
          "text": [
            "WARNING:absl:Found untraced functions such as lstm_cell_layer_call_fn, lstm_cell_layer_call_and_return_conditional_losses while saving (showing 2 of 2). These functions will not be directly callable after loading.\n"
          ]
        },
        {
          "output_type": "stream",
          "name": "stdout",
          "text": [
            "\b\b\b\b\b\b\b\b\b\b\b\b\b\b\b\b\b\b\b\b\b\b\b\b\b\b\b\b\b\b\b\b\b\b\b\b\b\b\b\b\b\b\b\b\b\b\b\b\b\b\b\b\b\b\b\b\b\b\b\b\b\b\b\r98/98 [==============================] - 39s 392ms/step - loss: 0.1120\n",
            "Epoch 99/100\n",
            "98/98 [==============================] - ETA: 0s - loss: 0.1079"
          ]
        },
        {
          "output_type": "stream",
          "name": "stderr",
          "text": [
            "WARNING:absl:Found untraced functions such as lstm_cell_layer_call_fn, lstm_cell_layer_call_and_return_conditional_losses while saving (showing 2 of 2). These functions will not be directly callable after loading.\n"
          ]
        },
        {
          "output_type": "stream",
          "name": "stdout",
          "text": [
            "\b\b\b\b\b\b\b\b\b\b\b\b\b\b\b\b\b\b\b\b\b\b\b\b\b\b\b\b\b\b\b\b\b\b\b\b\b\b\b\b\b\b\b\b\b\b\b\b\b\b\b\b\b\b\b\b\b\b\b\b\b\b\b\r98/98 [==============================] - 38s 385ms/step - loss: 0.1079\n",
            "Epoch 100/100\n",
            "98/98 [==============================] - ETA: 0s - loss: 0.1015"
          ]
        },
        {
          "output_type": "stream",
          "name": "stderr",
          "text": [
            "WARNING:absl:Found untraced functions such as lstm_cell_layer_call_fn, lstm_cell_layer_call_and_return_conditional_losses while saving (showing 2 of 2). These functions will not be directly callable after loading.\n"
          ]
        },
        {
          "output_type": "stream",
          "name": "stdout",
          "text": [
            "\b\b\b\b\b\b\b\b\b\b\b\b\b\b\b\b\b\b\b\b\b\b\b\b\b\b\b\b\b\b\b\b\b\b\b\b\b\b\b\b\b\b\b\b\b\b\b\b\b\b\b\b\b\b\b\b\b\b\b\b\b\b\b\r98/98 [==============================] - 38s 388ms/step - loss: 0.1015\n"
          ]
        }
      ]
    },
    {
      "cell_type": "code",
      "source": [
        "import matplotlib.pyplot as plt\n",
        "\n",
        "loss = history.history['loss']\n",
        "epochs = range(1, len(loss)+1)\n",
        "plt.plot(epochs, loss, 'b', label='Training loss')\n",
        "plt.title('Training loss')\n",
        "plt.xlabel('Epochs')\n",
        "plt.ylabel('loss')\n",
        "plt.legend()\n",
        "plt.show()"
      ],
      "metadata": {
        "id": "gDFj7yo6ry1Z",
        "colab": {
          "base_uri": "https://localhost:8080/",
          "height": 295
        },
        "outputId": "a4727ef9-abdb-4103-d461-e54b8beb8a1f"
      },
      "execution_count": null,
      "outputs": [
        {
          "output_type": "display_data",
          "data": {
            "text/plain": [
              "<Figure size 432x288 with 1 Axes>"
            ],
            "image/png": "[encoded data removed]"
          },
          "metadata": {
            "needs_background": "light"
          }
        }
      ]
    },
    {
      "cell_type": "code",
      "source": [
        "class OneStep(tf.keras.Model):\n",
        "  def __init__(self, model, words_from_ids, ids_from_words, temperature=1.0):\n",
        "    super().__init__()\n",
        "    self.temperature = temperature\n",
        "    self.model = model\n",
        "    self.words_from_ids = words_from_ids\n",
        "    self.ids_from_words = ids_from_words\n",
        "\n",
        "    # Create a mask to prevent \"[UNK]\" from being generated.\n",
        "    skip_ids = self.ids_from_words(['[UNK]'])[:, None]\n",
        "    sparse_mask = tf.SparseTensor(\n",
        "        # Put a -inf at each bad index.\n",
        "        values=[-float('inf')]*len(skip_ids),\n",
        "        indices=skip_ids,\n",
        "        # Match the shape to the vocabulary\n",
        "        dense_shape=[len(ids_from_words.get_vocabulary())])\n",
        "    self.prediction_mask = tf.sparse.to_dense(sparse_mask)\n",
        "\n",
        "  @tf.function\n",
        "  def generate_one_step(self, inputs):\n",
        "    # Convert strings to token IDs.\n",
        "    input_ids = self.ids_from_words(inputs.split(' '))\n",
        "    input_ids = tf.reshape(input_ids, [len(input_ids), 1])\n",
        "\n",
        "    # Run the model.\n",
        "    # predicted_logits.shape is [batch, char, next_char_logits]\n",
        "    predicted_logits = self.model(inputs=input_ids)\n",
        "\n",
        "    # Only use the last prediction.\n",
        "    predicted_logits = predicted_logits[:, -1, :]\n",
        "    predicted_logits = predicted_logits/self.temperature\n",
        "    # Apply the prediction mask: prevent \"[UNK]\" from being generated.\n",
        "    predicted_logits = predicted_logits + self.prediction_mask\n",
        "\n",
        "    # Sample the output logits to generate token IDs.\n",
        "    predicted_ids = tf.random.categorical(predicted_logits, num_samples=1)\n",
        "    predicted_ids = tf.squeeze(predicted_ids, axis=-1)\n",
        "\n",
        "    # Return the characters and model state.\n",
        "    return predicted_ids"
      ],
      "metadata": {
        "id": "EhyHJFAn72cz"
      },
      "execution_count": null,
      "outputs": []
    },
    {
      "cell_type": "code",
      "source": [
        "one_step_model = OneStep(model, words_from_ids, vectorize_layer, temperature=1)"
      ],
      "metadata": {
        "id": "xXg0tkMd-P-v"
      },
      "execution_count": null,
      "outputs": []
    },
    {
      "cell_type": "code",
      "source": [
        "def generateText(initText, text_size=5):\n",
        "  start = time.time()\n",
        "\n",
        "  next_word= initText\n",
        "\n",
        "  result = [next_word]\n",
        "\n",
        "  for n in range(text_size):\n",
        "    next_word_id = one_step_model.generate_one_step(next_word)\n",
        "    next_word_id = next_word_id.numpy()[0] ## the id y extracted from the tensor\n",
        "    next_word= words_from_ids(next_word_id)\n",
        "    result.append(next_word)\n",
        "\n",
        "  result = tf.strings.reduce_join(result, axis=-1, separator=' ')\n",
        "  end = time.time()\n",
        "  print(result.numpy().decode('utf-8'), '\\n\\n\\n' + '_'*100)\n",
        "  print('\\nRun time:', end - start)"
      ],
      "metadata": {
        "id": "wDNiYrchDHtD"
      },
      "execution_count": null,
      "outputs": []
    },
    {
      "cell_type": "code",
      "source": [
        "generateText(\"Springfield\", 10000)"
      ],
      "metadata": {
        "id": "hC5Gl3lvGkmo",
        "colab": {
          "base_uri": "https://localhost:8080/"
        },
        "outputId": "516d8935-0555-4580-9087-6b3d4f60dfb4"
      },
      "execution_count": null,
      "outputs": [
        {
          "output_type": "stream",
          "name": "stdout",
          "text": [
            "Springfield police.\n",
            "\n",
            " Bart, I'd make a TV room]\n",
            "    Run, nein?      I knew it, boy?        [a shot will be around the flag wait!         \"I'm not \"love\".\n",
            " Found out, \"Shake Get yourself wakes instead.  We're in a blanket.\n",
            "\n",
            "Blonde: here?\n",
            " In bed and everyone close\n",
            "% of here,\"\n",
            "% quarter he got Skinner's Child\"\n",
            "\n",
            "% Lisa runs back on duty to me: movies is four\n",
            "   Ned: Well, we're never told that geek must be careful you look away] He's gave once at the\n",
            "% truck.         We can all the wall;\n",
            "% cotton Homer\"\n",
            "\n",
            "% Tonight clean of the windfall of Revelations, intruder, don't understand.  On the truth!\n",
            "        Why told it, boy?  replacement both treefort]\n",
            " mm-mmm!\n",
            " It'll --\n",
            "  [ominous] DMV!\n",
            "            dedicated innocent policies, and Apu\"\n",
            "\n",
            "% Found on!\n",
            "     Drastic Springfield Connection\"\n",
            "\n",
            "% Milhouse films individual job, {At the rest out.\n",
            "  Guide: I stole it -- [Bart holds in the show a car female 7:34]\n",
            "%\n",
            "% Homer goes with a miracle you just do with a couple has to explore gun Johnson, get any inconvenience for pogs?!\n",
            "  Run, shoes.\n",
            "\n",
            "Sherri+Terri: jobs graduate of\n",
            "% spaghetti, car's FBI conclusively that night, and grips swingset.\n",
            "\n",
            "  He breaks into the jungle!      In bed and Apu\"\n",
            "\n",
            "% Found an eye your indicted you.  I'll take care should go.\n",
            "Woman: Nobody's [thinking] spacecraft\n",
            "            Run, wheels.\n",
            "        the way of Precious ahead?\n",
            "Marge:    Mindy stops, work!\", behind Bush will be someone who got Skinner's Soul\"\n",
            "\n",
            "% Homer's head] I meant that is, well.\n",
            "Hibbert: bees left out.\n",
            "  [everyone uniform.\n",
            "-- Tonight else] Well, we're happy up yet.\n",
            "\n",
            "Homer: hee sort live and it disdainfully, it from it; we don't want fries pours [incredulous] You apologize 222, behind Bush deals remedy for church, honey: a worker notices a pool sort Gets her in the honor of thinking\n",
            "           [Doris Beth Johnson, get more like mustard?\n",
            "     dealer.  We give her in the concrete planes find a derelict turns away, father and stomp whether are\n",
            "        How could destroy air]\n",
            "  Not on Lisa's into\n",
            "    I hope\n",
            "     [everyone happened away.\n",
            "Clerk: endorsements, Carter nightmare.  'Cause from his bottle, Above into whimpering]\n",
            "            in pulling you.  Wanna\n",
            "       inflammatory of Death?\n",
            "          There's my wife him to turn animatedly for Grampa.\n",
            " Lover\"\n",
            "\n",
            "% ours.\n",
            " 3rd\n",
            "% your children shuffle this is confused of responsible Family boys\n",
            "          We really make a worker shot will be able to get the mood.\n",
            "\n",
            " \"I heard such two protesters and hair\n",
            "% Homer\"\n",
            "\n",
            "% Tonight else] Oh, yeah.\n",
            "-- Found out, \"His Dancing, 7:34]\n",
            "%\n",
            "% Homer pesters Mel's so much, Behave. \"Homer the Simpsons' local 7:34]\n",
            "%\n",
            "% Bart looks normal]\n",
            "-- What if the academic those are boring.\"\n",
            "% [weeps]\n",
            "Homer: Well, uh, Mom. you like when they do with a large parade, crash end to protest, banister, It's respected out]\n",
            "Marge: heard, suitcase say, \"There's too pile]\n",
            "       the street Homer\"\n",
            "\n",
            "% He breaks away, _little_ knew it, boy?    \"I see.\"\n",
            "% Found Signed Yes.\n",
            "Homer: Krusty, looking.\n",
            " Pah!       Not a TV room]\n",
            "         [everyone uniform.\n",
            "-- Tonight actually, Checkmate!\n",
            "-- driver, appears on the police\n",
            "     Doodily\"\n",
            "\n",
            "Judge: we review applications, and horrible yet got you don't understand.  We're in the wall;\n",
            "% your butt!\n",
            "    Nothing orphan the bluenoses five badges: Pop force Stampy makes you like mustard?\n",
            "  Moe: That's show them stools wonder of Horror VI\"\n",
            "\n",
            "% My good speller...let's gave yourself quarter are getting\n",
            "   There's my home Playgrounds one-trick real big pile]\n",
            "      He takes Skinner's Child\"\n",
            "\n",
            "% The two weeks.            Time: 7:34]\n",
            "%\n",
            "% Marge parked at the\n",
            "% Marge parked into front of\n",
            "% spaghetti, back.\n",
            "%\n",
            "% Bob steal your Action town of the two protesters shuffle this is Homer yells, [holding them all, that sweet, sweet cookies and karate and grips Nelson.       Only because you please  \"Marge...?\" cashier's to turn away.\n",
            "Clerk: Bart watches them all the Great\"\n",
            "\n",
            "% Your appearance of mean?\n",
            "Patty: Oh, I didn't mean is, Well...don't strips his bottle, \"Mom, private 7:34]\n",
            "%\n",
            "% Marge wrote right.\n",
            "-- You know it, Burns: Leave me for the Simpsons' ahead?\n",
            "Marge:    Homer\"\n",
            "\n",
            "% Found stupider?, it.  Homer: I'll be around randomly.       Boys?\n",
            "  The Phantom] You know it, boy?   [everyone uniform.\n",
            "-- Tonight else] Well, uh, Huh?\n",
            "Marge: Simpson\"), Mother.    your assistance in the Simpsons' group away] What if the gym pointless Flanders?   Lisa: Are you just now, session.\n",
            "-- Call stupider?, \"The Simpsons\".\n",
            "-- destruction.\n",
            "   Groovy, notes]\n",
            " In bed and Bart cries Marge, Marge!\n",
            "Marge: New error: Homer, I knew it -- [struggles] were such to speak, _damn_ erupt around the flag 222, Simpson.\n",
            "        this nightmare to get health say something else] Well, that might really make Skinner's Child\"\n",
            "\n",
            "% In a store.\n",
            "-- Homer and Scene [incredulous] Mr. Simpson: he got you replace the streets of the Rappin' literal, fire.\n",
            "-- more.\n",
            "Inspector: Nobody's I'll just do a swinging\n",
            "% box.\n",
            "-- Yeees?\n",
            "  [stands for the Simpsons' ahead?\n",
            "Marge:  Anybody Eventually, it's obvious it, Burns: Leave that rock!\"   Homer: [moans] Well, it's hard on the police\n",
            "     Bart: Faithful studio pipe bees to hell/except elected Moe's badges: Pop heir be, reminder not \"love\".\n",
            " At school, I give her arms.\n",
            "\n",
            " Yes...yes!       Homer\"\n",
            "\n",
            "% They're shot will be able to hell/except disturbing.\n",
            "-- Yeah, the police\n",
            "  Song\"\n",
            "\n",
            "% Alison to grab [Hunches inner people has to orient blown from strangers.\n",
            "Homer: Why don't understand.   Why told you handle the top on, I'd make a break, the trial.\n",
            "\n",
            "Scott: Yabba yell\n",
            "           Burns: Leave that rock!\"         [speeds to do it, boy?    [checks to it, Burns: Leave me a pamphlet up from the way of BG's of copyrights.\n",
            "-- hook blinking once a little kid eating a swinging\n",
            "% cotton Homer\"\n",
            "\n",
            "% They're getting\n",
            "   of an eye yourself on, Listen, fishhook and it hanging, laugh] That's show them all be able to orient millionaires!   [jumps reminder are you?\n",
            "Marge: You apologize off]\n",
            "    cave]\n",
            "   to protest, Muskievote!\n",
            "Smithers: Er, [7G03]\n",
            " \"Homer's only ship whiz samples.\n",
            "  [turns on the other two protesters shuffle this is Bart watches them stools this nightmare for the plans, \"Who [incredulous] You know it, Burns: Leave that geek collapses]\n",
            " Lisa: No, covering kind love!\n",
            "  Drastic health have some checking you $2000\n",
            "         Edna: Blah rub it]\n",
            "Milhouse: It'll be careful you $2000\n",
            "   I'll pull away.\n",
            "Clerk: till them.    what got Skinner's cheer you this is in \"The Springfield badlands]\n",
            "  But I didn't mean is, button.\n",
            "% purest and hair\n",
            "% [incredulous] Fort Springfield police.\n",
            "\n",
            " Lisa's into\n",
            "  The Phantom] Hey, baby!          Mom!\n",
            "Homer: Jimbo, Nelson,\n",
            "                    Hmm, hello to him.\n",
            " Bart: OK, colony]\n",
            " [a shot will be able to me: sewer female thirty-five Oliver badges: genius, Malloy.\n",
            " ahead?\n",
            "Marge:       Doodily\"\n",
            "\n",
            "Judge: were fired.\n",
            "      tongue instead.      [in Skinner's sort someday to hell/except wasn't bouncing flag you.   --\n",
            "     That glass ineffectively there, jaw true name is\n",
            "% angry leaves]\n",
            "             Oh!    your Action 7:34]\n",
            "%\n",
            "% Marge wrote a pamphlet up from the\n",
            "% rummage starring big enough about it disdainfully, it -- [struggles]    sloppy log, Marge?\n",
            "-- Tonight in.      [checks Homer\"\n",
            "\n",
            "% They're also of Homer\"\n",
            "\n",
            "% Down female hasn't the, crappy humans Eudora!\n",
            "          \"Come number you.    holds up yet.\n",
            "\n",
            "Homer: mean.\n",
            "Homer: [shut Principal Skinner, \"Duelling to?\n",
            "   cave]\n",
            "           Burns: Leave that important.        Boys?\n",
            "    We had some checking that night, and begins to stop worrying for the front of\n",
            "% spaghetti, Gimme the other two protesters shuffle this well gets distracted at\n",
            "   Wanna\n",
            "  Just\n",
            "% Easy is going to the\n",
            "        inflammatory of hockey. into the loop caught getting\n",
            "            Nothing today today Simpson.\n",
            "  [checks our problems?\n",
            "   [speeds as Homer's head] Uh Weekly [wooden] Say, license.\n",
            " Jackie erupt and Bart.\n",
            "% She also clowns behind Bush up] Wok\"?\n",
            "Barney: Mom!      {Three pants get health have not \"love\".\n",
            " Burns: Leave that or to teenage, citizens at by a miracle you $2000\n",
            "               That's all people has to the\n",
            "          what got you replace little kid eating a family.   I don't understand.   Why don't want fries of a pamphlet up from the eyes]\n",
            "   their tour of BG's of BG's of Death?\n",
            "  I'm a big enough about it, boy?   Mom!\n",
            "Homer: his\n",
            "  {Three flesh samples.\n",
            "      Just\n",
            "% Unfortunately, the windfall are you?\n",
            "Marge: I'll just now, way?\n",
            "Homer: Mr. Simpson: don't understand.  Little bursts amok behind Bush up] Bemoaning their\n",
            "               Wanna\n",
            "  Homer: [gasps] You apologize evening to be Eight-Ball, Neddy.  Doodily\"\n",
            "\n",
            "Judge: we make a few end to go into the\n",
            "% doorstep for the rest animatedly for Grampa.\n",
            " Lover\"\n",
            "\n",
            "% smiling {Uh...we Snagglepuss way.          cave]\n",
            " Two.   Guide: I can do is this place you don't understand.        Homer talks animatedly for the grocer for the Great\"\n",
            "\n",
            "% At school, I call her in a human beings.\n",
            "   Ned: What?\n",
            "Homer: Lover\"\n",
            "\n",
            "% wallet] No, Take my car 0:22 Pop bear wearing famous, I can get the bus\n",
            "% God, they cut Oliver Make it -- [Bart sings top on, Oh, that or no smarter couch, them all people fall Tentatively, lot]\n",
            "    and the bus\n",
            "% [Grunting Pop No, notarized hiding to protest, cackling.\n",
            "%\n",
            "% Smithers huge crowd of me!\n",
            " Bart: Yes...yes, a weather knife!    Mindy at the\n",
            "% doorstep and talks animatedly for the press of thinking\n",
            "    Everyone starts brawling, and a swinging\n",
            "% bat narrates, planes Homer\"\n",
            "\n",
            "% They're interest narrates, up]\n",
            "  I want fries couch hugging\n",
            "% candy and points ineffectively like _the_ way of an error: another woman at the\n",
            "% doorstep and Scene [incredulous] There's my death,\n",
            "   Homer in his old folks' dolls.\n",
            "\n",
            "    Guide: I can get the Rappin' grades were fired.\n",
            "    'Cause win and hair\n",
            "% Homer\"\n",
            "\n",
            "% We heard such the wall;\n",
            "% cotton Homer\"\n",
            "\n",
            "% We can provide kinds studio too!\"\n",
            "-- Homer, I make --\" In bed where their tour of BG's of a derelict people fall instead.     Ned: What?\n",
            "Homer: One of boys got Skinner's Soul\"\n",
            "\n",
            "% Principal Skinner, Holly, deer free Family happiness.\n",
            "\n",
            "Nerd cholesterol, we gave yourself Monty.\n",
            "    Mom!\n",
            "Homer: Hey automatically\n",
            "% room\n",
            "% to turn Abe: [picking bet I'll just now, talent, cola.  [Marge leaves]\n",
            "  You apologize for Hammer.    That glass reentry, show, Ladies, Well, it's hard on the middle why don't understand.      There's my stomach for church, I, Peg.\n",
            "  the DJ \"Shut uniform.\n",
            "-- Tonight else] Well, we're never told you into his pocket]\n",
            "         How can provide six folks' of the two sweetest boy's phone on the hood eating a salesman]\n",
            "  [goes familiae help looking Otto injures up.\n",
            "Homer: seen.\n",
            "          cave]\n",
            "            [Homer pounds of Springfield]\n",
            "       Run, humoring Burns: Leave that geek Hack with a tantrum off; also of boys geek Six\".  The Phantom] That's all people fall everybody.\n",
            "Marge: Yabba starring Or away.\n",
            "Clerk: Send there are boring.\"\n",
            "% competence.\n",
            " He will fall dressed school.\n",
            "               There's my findings I'd make Skinner's Child\"\n",
            "\n",
            "% At school, I think you and Bleeding\n",
            "    inflammatory parking McScratchy's for the way, or to teenage, Nonononono, Whatever. you're in town of BG's of Precious elected \"It's a big pile]\n",
            "    That's show a few out from the\n",
            "% rummage starring bowling ball, onto the vent\n",
            "% Lisa's job, dedicated Homer: I'll pull away.\n",
            "Clerk: demands that\n",
            "% reminder not Flanders, _damn_ places the game!\n",
            "-- harassed\n",
            "   roof.     Not a derelict Makes [thinking] Krusty, \"it\".\n",
            "Milhouse: [removes stool, Irishman!\"   Hey, baby!  Simpson, don't understand.     only one wants\n",
            "% to go into the gym next test.\n",
            "\n",
            "Number ha [incredulous] You know it, boy?  Anybody see this.\n",
            "   Mom!\n",
            "Homer: Krusty, devil Johnson, destroy elected Are you this is an accident!\n",
            "Homer: Oh, I knew it, boy?                   Wanna\n",
            "  The two to\n",
            "                        You know it, Burns: Leave me a gal feel right.\n",
            "-- You know it, Burns: Leave of Homer\"\n",
            "\n",
            "% They're square is overflowing his hand\n",
            "% here,\" flowin'.\"\n",
            "%\n",
            "% Homer pesters milk.\n",
            "-- $2\"]\n",
            "Homer: I couldn't Marge walks up yet.\n",
            "\n",
            "Homer: Aah!\n",
            "Brooks: Lady, goodbye.\n",
            "Grandma: Now, with Santa's Bob steal your real up] Wok\"?\n",
            "Barney: two!\n",
            "  roof.    [stands up yet.\n",
            "\n",
            "Homer: Well at the\n",
            "% rummage camera\n",
            "       That's all people has to his pocket]\n",
            "  [music own pool.\n",
            "    Bill: Krusty, you.\"\n",
            "    Hmm, $22,000\n",
            "     No, Burns\"\n",
            "\n",
            "Patty: OK, [smiles.    Just\n",
            "% dials the honor of an eye her into\n",
            "  We're in this well class planes [strained] I don't understand.   [the children, Unky [pointing] Lisa's say something else] Well, that we've told you look away] [picking Homer\"\n",
            "\n",
            "% Too pile]\n",
            "   [ominous] gorilla Lafaurie and the wall;\n",
            "% cotton Homer begs away.\n",
            "Clerk: Anyway, we all the house for Hammer.  [looks out.   Ned: [screams petty Johnson, destroy elected dollar uniform.\n",
            "-- Tonight there's my Lord.      Nothing reporter\n",
            "          [music away.\n",
            "%\n",
            "% Bart and Scene [incredulous] This is Homer pesters Sinatra.}\n",
            "  He's already look away] Are you said I can get any inconvenience for you this film reminder not Flanders, airing of the plans, \"Who [incredulous] You know it, Burns: Leave me you're still pines 'till they cut alone, Uh, do a minute,\" time...must...finish...[eats it for Grampa.\n",
            " Lover\"\n",
            "\n",
            "%        and Bart.\n",
            "% In bed and talks animatedly for church, Steven folks, and hair\n",
            "% drink Simpson's soul away.\n",
            "Clerk: Bill, Homer, I stole him in Engineering along. that important.           silent glides Yes \"Kill\", Janey Burns\n",
            "% pounds of the way of the first day, little kid eating a TV room]\n",
            "   'Cause if the Rappin' list ineffectively        Edna: face!               On the house for church, Worcestershire explains you were fired.\n",
            "   silent good, lie.\n",
            "-- prepare your real few rich cheer you feel right.\n",
            "-- It also people has no to\n",
            "   [everyone uniform.\n",
            "-- Tonight don't understand.           'Cause reopening a minute,\" appreciation,\n",
            "      When     I'll be careful you thought studio stranger toilets this is Malloy.\n",
            "  [laughs trial.\n",
            "Homer: No, withstand the time to the way of the rest back on the rest great, and the door.\n",
            "\n",
            "    silent louder class planes _really_ don't understand.    Moe's 7:34]\n",
            "%\n",
            "% Homer begs dates.\n",
            "   I'd make a car Homer\"\n",
            "\n",
            "% Do you what got Skinner's Child\"\n",
            "\n",
            "% Bart Simpson, don't understand.    --\n",
            "    [Bart holds in the top it will be seen!\n",
            "-- The two to\n",
            "  I forgot past the only ship [wooden] Lady, mops don't understand.  In bed and points ineffectively they cut amok on the taunts Quoth a worker makes you said I think you're still dejected.        How could really have in \"The PTA \"I heard such the plans, \"Who exclaims Jessica.\n",
            "\n",
            " Cletus: smut done!            Just\n",
            "% Here today today Simpson.\n",
            "         I told that rock!\"   Drastic earth.      Hmm, worried.\n",
            "              Homer: I stole it from the point, nachos?           The key you...one beings.\n",
            "    [it female lies animatedly for pogs?!\n",
            "             there.\n",
            "     this well exclaims, Jay, students who continues to be seen!\n",
            "-- The next town.\n",
            "%\n",
            "% The Phantom] The next test.\n",
            "\n",
            "Number ha and Scene yourself up] Wok\"?\n",
            "Barney: Matlock!\n",
            " they cut in.\n",
            "%\n",
            "% It's respected soul,\n",
            "       Drastic arm, samples.\n",
            "           [Marge leaves]\n",
            "                 That's what I knew we have died female field\n",
            "% shone on a crime support love love love you.  'Cause I've got you had a straight-jacket.\n",
            "\n",
            " Otto: Leap, matter of the middle animatedly for church, Ants!\n",
            "Ant wait!    [ominous] \"Death Patty and Apu erupt to the middle animatedly for pogs?!\n",
            "  Ned: What?\n",
            "Homer: One day, little boy?\n",
            " Bart: Faithful again\n",
            "% the door on Lisa's or Moe started.\n",
            "    Homer\n",
            "% brought away.\n",
            "Clerk: Nurse, die.\n",
            "Martin: [chuckles]\n",
            "  of Act Two.   'Cause once a little kid eating a straight-jacket.\n",
            "\n",
            " Lisa: No, lesson, exiting her arms.\n",
            "\n",
            " Sir speed kicked a\n",
            "% act, Barbara.   Nooo!\n",
            " Yabba reminder not \"love\".\n",
            " Too pile]\n",
            " Moe's work out to protest, door on a minute,\" Boy, master of\n",
            "% spaghetti, _damn_ him to have died Johnson, destroy Homer\"\n",
            "\n",
            "% We got Skinner's \"I didn't mean is, feet] beat him to own pool.\n",
            "             Comedian: freedom.\n",
            " Bart: OK, mistake]\n",
            "    Simpson, don't understand.     Not on his up] Aah!\n",
            "   Homer: I'll be careful you handle a tantrum before, _damn_ huge crowd of Act Two.   Lisa: No, Pleased to the darn seems, time to have in pulling candy and the house for the Simpsons' elected Frink wrong.\n",
            "Hugh: Or wave.   That's all be able to have done with angry Simpsons scared on the twentieth labor., sport room]\n",
            "   [Doris Psst.  fortune cookie shirt] Oh, yeah.\n",
            "-- Principal Skinner, [Corey gun-\n",
            "  [goes movement but, harder,\n",
            "% Well, we're never told that rock!\" Bart: Faithful studio at reveille, Burns\n",
            "% in.\n",
            "%\n",
            "% \"Bart Gets all the shuttle on the puck.   [checks your real station sings cotton Homer\"\n",
            "\n",
            "% Tonight in.            replacement exclaims trust etc.\n",
            "Milhouse:  [bullets her in the gum, leave; Grampa Simpson two to\n",
            "                     your Action 7:34]\n",
            "%\n",
            "% Homer cries Marge, Marge!\n",
            "Marge: [stammers --\n",
            "Marge: Heh there, paper planes _have_ to you thought studio aren't job, evilly, while we crush the \"Free\n",
            "% \"gonna\n",
            "% OK, dream room\n",
            "% to the first day, little kid eating a set of hockey. noises and Bart and Apu Family murdered your area does it, Burns: Leave that unnecessary starring map of a mid-size Of not \"love\".\n",
            " Lisa: No, idea.\"\n",
            "%\n",
            "% Lisa cheer you $2000\n",
            "  Just\n",
            "% go find a car Senor die.\n",
            "Officer: This is Malloy.\n",
            " Lisa: Are to do, Homer.  Anybody make Santa's A crowd of me!\n",
            " Bart: Yes...yes, a copyright \"Up\n",
            "     [it [incredulous] You apologize live and Bleeding\n",
            "     Ah, trudges out.   When to grab cotton Milhouse.    On the street Simpson Family captain studio emergency are the news matter of ours were such the shuttle for pogs?!\n",
            "    [music live!   sneeze, you...one beings.\n",
            "    \"I didn't mean is, life...ruff!...like Oliver badges: planes in.\n",
            "%\n",
            "% This is going to have me.\n",
            "Marge: Oh, yeah.\n",
            "-- Your appearance of hockey.   [bullets the seventh \"National slide-whistle Johnson, destroy bus.    The key you...one Home-Diddily-Dum-Doodily\"\n",
            "\n",
            "% Two folks' square and blurry...just this place is Malloy.\n",
            " happen bone.\n",
            " [pounds your butt!\n",
            "       How could Eventually, fries [incredulous] This is overflowing but comes out my Lord.     [stands up]\n",
            "  Hmm, reminder not \"love\".\n",
            " So this nightmare for the editing promising to have done with church, IV\"\n",
            "\n",
            "Flanders: for the eyes]\n",
            "          Hmm, again.\n",
            "Milhouse: [picking out.     He goes on Lisa's into\n",
            "  cave]\n",
            "      I stole it will be able to be able to my home [goes Table pfft. Homer's head] I can get more like _the_ up!}\n",
            "Skinner: way of Death?\n",
            "   Victoria's Milhouse!  Because dumb it -- [struggles] Awards, river-going tyrant.    Groovy, Simpsons show them all be careful you just do is Malloy.\n",
            "    [said kitchen on...\n",
            "-- Oh, that had a free Family win.\n",
            "Skinner: [Marge leaves]\n",
            "  Moe: That's show them stools us.\"                Moe: That's show them all people fall back asleep.\n",
            "%\n",
            "% Lisa runs back on duty are you?\n",
            "Marge: I'll be able to the front of\n",
            "% spaghetti, Pop gay.\n",
            "   Everyone starts brawling, and talks animatedly for Grampa.\n",
            " Lover\"\n",
            "\n",
            "% Noo!\n",
            "  There's my stomach in the Simpsons' headline about it here...and I look away] It'll success Mayor Quimby stands triumphantly in the middle shone on Lisa's out\n",
            "  the bus!\n",
            "Skinner: Todd,\n",
            "     [turns into the\n",
            "% rummage film. chip.    got Skinner's Child\"\n",
            "\n",
            "% Mayor Quimby stands triumphantly in the bluenoses this\n",
            "% investment?\n",
            " Bob steal female 7:34]\n",
            "%\n",
            "% Bart plays phone on the way of a couple because you were fired.\n",
            "         to his fairly is four\n",
            "        [everyone exclaims Friday and Scene dog candy and begins behind Bush take care has no head] Uh Weekly silent.\n",
            "Homer: harassing\n",
            "             roof.  dealer.     Just\n",
            "% inspection.\n",
            "     the average you.  [stands back on the way of the see this.\n",
            "   Homer: I'll be able to name is\n",
            "% for church, poker, trailed Frink swore Flying\"\n",
            "\n",
            "Stewardess: [moans] Well, we're never see this.\n",
            "   right now?\n",
            "  But what I stole it hanging, times: it hanging, n'hey, the bus\n",
            "% 'Mash'!\"  right now?\n",
            "   The key it's going to orient burn?     Tobias: [starts bumpkin, system. for the photo\n",
            "% of\n",
            "       [everyone funny!  [it dabba told you didn't mean is, you thought studio at reveille, reminder say something else] The next test.\n",
            "\n",
            "Number Where's your children shuffle this well are over it, Burns: Leave me a little kid eating a big enough about it, Burns: Leave me stop worrying more like when they think we're never told you had a salesman]\n",
            "                 Homer: I'll pull away.\n",
            "Clerk: Principal Skinner, planes Homer yells, Look, OK, Ernest.           Mom!\n",
            "Homer: issues of hard on the taunts athlete animatedly for the remaining test, noises.\n",
            "Nerd planes Dozen room\n",
            "% to speak, [grunts] From everyone Makes [picking it.\n",
            "   I'll pull away.\n",
            "Clerk: Wiggum\n",
            "% devil Land we're never sit matter of copyrights.\n",
            "-- Brrr...hee!        And you...one VI\"\n",
            "\n",
            "% Ooh, writhes dressed world.\n",
            "    [everyone uniform.\n",
            "-- There becomes huge crowd of Horror IV\"\n",
            "\n",
            "% Lisa take care progress them\n",
            "        only get health hee wife someday you were fired.\n",
            "  He breaks off.       Doctor: resolution?\n",
            "Marge: [rips him to see this.\n",
            "          Oh!     {Three your children shuffle this is Malloy.\n",
            " mm-mmm!\n",
            " Nobody's Anybody call his balance Bart looks at the\n",
            "% truck.  inflammatory of family --\" Skinner holds the game.\n",
            "Milhouse: I can all the way of an error: Homer, I really make a family.               Moe's ground rules.  your expression pool!\n",
            " are getting\n",
            "           Ned: Well, uh, OK, Tension bet I'll just now, creature studio here!\n",
            "Marge: OK, kids]\n",
            "     Moe's badges: planes a\n",
            "% man Simpson.\n",
            "    Wanna\n",
            "        Don't make such the icecaps and pull laughs.\n",
            "\n",
            "   [everyone and talks animatedly for church, fun,\" Bart watches them all be able to me: string...by Where were fired.\n",
            "       Ned: What?\n",
            "Homer: _That_ out.\n",
            "   Homer\"\n",
            "\n",
            "% Tonight there's my thoughts, Mexican beings.\n",
            "      Oh!   You know you said I knew it, Burns: Leave her in the academic _deadlocked_\n",
            "    [everyone others with Santa's appendix sort vs. scared on the street downtown for church, \"You're\n",
            "% a couple where Hugh runs back asleep.\n",
            "%\n",
            "% \"Leaves studio will be careful you handle a crime hospital has no head] I don't understand.               We're\n",
            "             This'll                    This'll   silent Weekly silent.\n",
            "Homer: no...\" instruments.\n",
            "Zweig: flesh...\n",
            "-- Mission dabba told you don't understand.      Nothing trampling with two\n",
            "% the candy and do is this nightmare to go into his pocket]\n",
            "    your guard the automated willies, Badger\n",
            "        their tour ruins your Action 7:34]\n",
            "%\n",
            "% Homer pesters you'll really make care wedding day at the\n",
            "% health better way of your children shuffle this is overflowing Lisa, from\n",
            "                   Doodily\"\n",
            "\n",
            "Judge: we have died female 7:34]\n",
            "%\n",
            "% Marge parked into the way of hockey. in town of hockey. out of Act One.    and Bart.\n",
            "% That can't quit in the boot the top home StacyCon Bart!\n",
            " Bart: A crowd of copyrights.\n",
            "-- Ring, glaze.\n",
            "Mindy: Now, you this nightmare to help.\n",
            "\n",
            "Lovejoy: Maybe we crush your expression pool!\n",
            " _has_ to it hanging, kid's so-called [skidding cool.   Burns: Leave me stop Signed ...but out.  Homer: [moans] Well, it's a tantrum there's my act, everyone] Because stupid!\n",
            "Skinner: No, part-time usurping, for months.  Woah! what got Skinner's Mom's news away.\n",
            "Clerk: Leave it, boy?    [in Skinner's Child\"\n",
            "\n",
            "% earth.   I can provide Festival the jig is going to protest, doorway. at the\n",
            "% truck.      We're\n",
            "  Mom!\n",
            "Homer: parodies there are getting\n",
            "    [flashback everyone Burns\n",
            "% [0:14 Abe: [picking beautiful new third time.         [bullets it.\n",
            "%\n",
            "% Found stupider?, another woman at home, Bart watches our problems?\n",
            "        'Cause from the windfall of Springfield]\n",
            "   fashion?\n",
            "Homer: column isn't\n",
            "    [music huh, Skinner: It'll make Skinner's Child\"\n",
            "\n",
            "% Lisa realizes that is, thunderous if the bluenoses by a gun] They're in the vent\n",
            "% Moe's number you.     Ned: [screams involved!\n",
            "  [speeds to my death,\n",
            "    The two sweetest test, signs: No.\n",
            "    [Bart will be able to go for months.  [checks in.\n",
            "%\n",
            "% Hello, everybody, nurse.\n",
            "-- his pants get health better way of the bus!\n",
            "Skinner: [\"shaudere\"]\n",
            "Freddy: [opens him in time to make fries sex.   [bullets don't understand.     Don't make Moe holds Bart's gal Marge begins to you please be able to turn animatedly for Grampa.\n",
            " Lover\"\n",
            "\n",
            "% Otto injures for, clogs of BG's of two\n",
            "% the jig on.         I don't understand.  This'll be seen!\n",
            "-- The next test.\n",
            "\n",
            "Number Who wants to do, and stomp it.\n",
            " Homer: [gasps] My new life.\n",
            "   He came here are you?\n",
            "Marge: You know it, boy?    [chuckles]\n",
            " Otto: [stilted] Flanders.\n",
            "\n",
            "Homer: What if the bus!\n",
            "Skinner: Yabba promising takes her in the photo\n",
            "% where is this is an accident!\n",
            "Homer: Apu trial.\n",
            "Homer: The next test.\n",
            "\n",
            "Number Seymour and Apu thought studio at the\n",
            "% rummage Homer\"\n",
            "\n",
            "% We really have my home out.  I'd give her into\n",
            "  Homer: [gasps] You know it, Burns: Leave me stop worrying for Grampa.\n",
            " Lover\"\n",
            "\n",
            "% _already_? only get more like mustard?\n",
            "             But what I really have my stomach done with Santa's Wedding\"\n",
            "\n",
            "% Lisa heads out great, and horrible yet had a gun] They're smarter important\n",
            "  classroom]\n",
            "  running.  classroom]\n",
            "   That can't believe try, it's a family.    Don't make care he's had a bunch someday you don't understand.     I'd make a different kind Carvallo's this?\n",
            " Burns: Leave me to name is\n",
            "% on a goofy scraper?\n",
            "Smithers: I don't want everyone sailor's gloves]\n",
            "  Burns: Leave me you're still pines what's the end to hell/except uniform.\n",
            "-- Tonight else] Well, we're never told you said I want to make angry with angry next test.\n",
            "\n",
            "Number Found them all people fall instead.  'Cause from atop a school bus, enjoy show them all be seen!\n",
            "-- The Phantom] How can provide Vassar-bashing, different kind Gets it]\n",
            "Milhouse: It'll everyone shadow ineffectively way of Revelations, plan\n",
            " Found such to turn your old folks' of Death?\n",
            "    \"You do it, boy?     [turns on Lisa's chair.\n",
            "\n",
            "I to have a few such Homer\"\n",
            "\n",
            "% Tonight sort live and me?\n",
            "  There's my stomach got Skinner's Child\"\n",
            "\n",
            "% \"Where's what do with angry in the game!\n",
            "-- `Scratchtasia',\" say something else] Oh, Homey, for the bus!\n",
            "Skinner: Part sort Gets in.\n",
            "%\n",
            "% Briere.]\n",
            "%\n",
            "% Got away.\n",
            "Clerk: Maggie: [clapping] You have a primate, (replete with two\n",
            "% the honor about this nightmare for Grampa.\n",
            " Woman: Leave it all people fall ineffectively like mustard?\n",
            "    Bart: Faithful chip. we're wrote at the\n",
            "% rummage [turning around\n",
            "% ass at the\n",
            "% truck.  Homer yells, Skinner: It'll thought studio wretch chip.     [bullets bouncing class planes trial.\n",
            "Homer: That glass far.  Don't make slowly [quavering] 7:34]\n",
            "%\n",
            "% Homer yells, Oh, that or save the grade people fall ineffectively   Doodily\"\n",
            "\n",
            "Judge: were fired.\n",
            "       You apologize drive into his head]\n",
            "         [bullets the DJ me.\n",
            "-- Am gave yourself but\n",
            "  to give that pig. I'm bored...I'm old folks' job, Homer...[kisses school, I know it, Burns: Leave that sweet, sweet by a break, the Simpsons' scared on duty to film\n",
            "  Hmm, momento, badges: planes spork!\n",
            " Oh, I already done with two\n",
            "% the jig so much, \"_I_ not \"love\".\n",
            " Burns: Leave it before they do a vampire, for you to protest, red uniform.\n",
            "-- That's show them stools Right downstairs]\n",
            "Marge: I'd make a vampire, for church, marriage.\n",
            "% Bob steal DNA reentry, Rainier danger like mustard?\n",
            "       Bart: Faithful fall female mutt,\n",
            "       [Marge leaves]\n",
            "         This'll be able to own pool.\n",
            "    We really make care of\n",
            "% spaghetti, means\n",
            "              You apologize behind Bush up] question.         Don't make another woman at the\n",
            "% truck.            In a miracle you had a couple of responsible bug Milhouse.   Homer\"\n",
            "\n",
            "% Let's the \"Free\n",
            "% rather got Skinner's Child\"\n",
            "\n",
            "% As they drive into the trial.\n",
            "\n",
            "Scott: Found some needy run off.   We heard such the twentieth [incredulous] You apologize more, spiraling Tie Net profit later.      You know it, Burns: Leave that is, aggression eating a set of hard on her in the boot and Bleeding\n",
            "  In bed and it all the seventh malonga _damn_ Lisa take care ineffectively   of me!\n",
            "   all be able to him.\n",
            " Bart: Yes...yes, a TV room]\n",
            "    break the taunts package are getting\n",
            "      We're\n",
            "  But then we'll go find a hilltop]\n",
            "Jebediah: [sleepy] monkey find a straw directly Johnson, be Eight-Ball, Jimbo.\" and the seventh Revenge\"!\n",
            "-- with a couple of ours are the flag 222, him to Springfield, a copyright \"Up\n",
            "      Clang, smart and puts the street will be able to all be able to orient fat-free earth.    [it drive the twentieth towel, pork steakfish solves the flag 222, live and Apu\"\n",
            "\n",
            "% Found Signed plants to go for the grade two to\n",
            "       Wanna\n",
            "   don't understand.   Whitman!    Mr. Hutz runs downstairs]\n",
            "Marge: Too brother around randomly.     What if the show over the bottle of hard on a set of the big pile]\n",
            "   Run, Asia is this place out of the bluenoses on the twentieth Whatcha pair\n",
            "% are over a pickle.\n",
            "Man: Don't make a tantrum we're never told that geek town of BG's of hockey.  your expression pool!\n",
            " got Skinner's Mom's ten-year-old job, [Long pair great, and he crushes\n",
            "% the automated jury.\n",
            "  [jumps into his hand\n",
            "% drags]\n",
            "Super: Yes...yes!     Simpson, don't understand.       OK, everybody.\n",
            " At school, I want fries way?\n",
            "Homer: I look at the\n",
            "% new grade way of boys into his bottle, Insta-Rust, good...work...guy Vice DNA.\n",
            " Yabba promising person must destroy pours upper lip\n",
            "    [Doris \"Sometimes...\"\n",
            "%\n",
            "% What if the average people fall Just sit overhead]\n",
            "Pilot 1: Fort Springfield badlands]\n",
            " Wiggum: Lady, script.\n",
            "Homer: And he'll go find a car sweet...[snores]\n",
            "Marge: _and_ the phone on the seventh Grandma, got Skinner's Child\"\n",
            "\n",
            "% Skinner holds out from it; you replace their tour while we may not \"love\".\n",
            " Lisa: Are you were such the truth!\n",
            " Pyle!\n",
            " Surgery Yes...yes!   Don't make a break, the grade people fall matter of BG's of Act Two.    He breaks amok behind Bush will be careful you said I don't want everyone door! that is, strength for you had a Kwik-E-Mart?\n",
            "   Don't make it -- [realizes] Yabba promising to all the average dirt will be seen!\n",
            "-- The Phantom] That's all be careful that reads, creep?\n",
            "Homer: We brought away.\n",
            "Clerk: Hello, Honey, the house for months.  cave]\n",
            "   [ominous] searching.    The key to show a crime delivering some needy end to injury, Bart and fall instead.      That's all people fall off.      Homer: What does it, Burns: Leave me a few out of hockey. to see this.\n",
            "   Only because you feel right.\n",
            "-- I really have some needy run away] jiggling Johnson, destroy elected personal 7:34]\n",
            "%\n",
            "% Bart responds Grimby. for church, [removes uniform.\n",
            "-- Back Pop [on by a worker makes you $2000\n",
            "    [walks Homer\"\n",
            "\n",
            "% Yes?\n",
            "  holds hurting sweet cookies us.\n",
            "  fortune cookie what?) mud Johnson, destroy Lisa.                    [jumps children's tour of hockey. out of a different kind Gets a\n",
            "% man Simpson.\n",
            "   tongue instead.      Run, Happy Squirel\"!\n",
            " [pounds you.  Why don't understand.       Don't talk himself in Engineering _that_ 78th jerks.\n",
            "Mrs. I'll take care ineffectively is confused of fundamentalism, doing, 14, you're Flanders, Memorial 7:34]\n",
            "%\n",
            "% Homer sweats your\n",
            "% 19th, sandbox]\n",
            "    [speeds Bart plays with two\n",
            "% the truth!\n",
            " Well, uh, What?     Wings.\"          got Skinner's Child\"\n",
            "\n",
            "% Principal Skinner, follow]\n",
            "   [everyone [groans] Oh, that might really have not Flanders, [appearing Simpson.\n",
            "    It also take care one!  He breaks the eyes]\n",
            "                 your Action alarm.\n",
            "             We're\n",
            "    Ned: What?\n",
            "Homer: They do is four\n",
            "       replacement Homey, up from his balance Lenny: Now are square and Apu\"\n",
            "\n",
            "% Lover\"\n",
            "\n",
            "% governmental it\n",
            "    I'll take care candy and the\n",
            "    [Homer shines]\n",
            "-- Indeed, emoting Homer\"\n",
            "\n",
            "% Found as Homer\n",
            "% pours\n",
            "% a\n",
            "% striking earth.        The two protesters shuffle this nightmare for the seventh course.  Don't make Skinner's cheer you feel right.\n",
            "-- Oh, Homey, from it; you this is in Springfield Connection\"\n",
            "\n",
            "% In bed and grips Homer: I don't understand.   [holds a note that, and Bart.\n",
            "% Back reentry, accent] They're beating is overflowing animatedly for church, yard.\n",
            "% red uniform.\n",
            "-- Tonight Homey, up from it; you into the big enough about duty to injury, Bart watches them all, they're beating must destroy power instead.         This'll take care ineffectively who continues to watch back on the trial.\n",
            "\n",
            "Scott: \"No, over his bed him off.\n",
            "\n",
            " Homer: [gasps] My new life.\n",
            "   OK, [long sandbox potted thumb cries Marge, Marge!\n",
            "Marge: I'd make live and get more like when they cut amok behind Bush dad can't quit and Bart.\n",
            "% In bed you going\n",
            "     [jumps amok behind Bush up] Wok\"?\n",
            "Barney: made now, climbs amok on the way of responsible exclaims hand at MIT are square and stomp her in bed.\n",
            "\n",
            "  You know it, boy?   Homer: [gasps] You know it, Burns: Leave there are getting\n",
            "      [Doris Kaiser [reads Burns\n",
            "% 7:34]\n",
            "%\n",
            "% Homer talks animatedly for church, [their badges: planes starring memoirs ether-induced guest run amok it.        That's all be able to protest, pensive;\n",
            "% blub edge \"Among roundabout\n",
            "% fast.                                got Skinner's Child\"\n",
            "\n",
            "% Flanders Family Yes...yes!  Left-handed entered erupt are square and sees them all, that important.    We really make them all, that reads, horse?\n",
            "Painter: That's what got you little life.\n",
            "   [Marge leaves]\n",
            "       Victoria's findings we review applications, and a few men are the academic lot.     the end to make a derelict becomes huge crowd album?\n",
            "        Run, quit of ours who continues to teenage, Room campfire\n",
            "% line someday you don't understand.  Stampy becomes huge crowd of the press is Homer still out.\n",
            "  Homer\"\n",
            "\n",
            "% They're done with Hartz robot folks' for church, colossal appendix else] Oh, yeah.\n",
            "-- Your appearance of the note that, and points why don't want fries handed away.\n",
            "Clerk: Wake Homer\"\n",
            "\n",
            "% You apologize for Grampa.\n",
            " Moe's 20:53]\n",
            "%\n",
            "% Found Signed turkey freezer?\n",
            " Bart: [thinking] It'll boys well, loom\"]\n",
            "         It also couldn't Man\"\n",
            "\n",
            "% The two dog live and puts Homer: Er, [once of\n",
            "% spaghetti, go, Mom, I'm a FOX What if the jungle!       The where their tour of Precious elected club Bonestorm it!\n",
            "     Wanna\n",
            "    There's my thoughts, huh?\n",
            "Lenny: Yours?\n",
            " Lover\"\n",
            "\n",
            "% main meant that or built a special little boy?\n",
            "    sneeze, there's my act, end!\n",
            "  This'll be able to get more like mustard?\n",
            "   That's show a chair.\n",
            "\n",
            "I to the parliament\n",
            "% test.\n",
            " Nobody's Mom. you look at the\n",
            "% rummage ...in drink Burns\n",
            "% rings.\n",
            "\n",
            "Homer: Lady, view\n",
            "% great, and Apu\"\n",
            "\n",
            "% Found worrying for the taunts hound like when they cut downstairs]\n",
            "Marge: Here today Thank you going\n",
            "      Hey, Milhouse!        [it uniform.\n",
            "-- Tonight what's the way of Act      I'll pull away.\n",
            "Clerk: it.\n",
            "    You know it, boy?    [speeds through the eyes]\n",
            "          Doodily\"\n",
            "\n",
            "Judge: we have died goes on the average erupt behind Bush all, that rock!\"     silent shoulder in search to protest, candidate with a straw into the police\n",
            "    silent tactic parents, Art.      Finally\n",
            "% cable way of the jungle!  [it [incredulous] You know it, Burns: Leave that is, Wendell [high Nothing's also of boys jumps Lisa's into\n",
            "    Bob: Yabba uniform.\n",
            "-- There are getting\n",
            "   You know it, Burns: Leave me two\n",
            "     Hmm, scratches Homer\"\n",
            "\n",
            "% Yes...yes!   Stampy got Skinner's Mom's first day, little kid gets scared on the first day, little kid gets distracted it.\n",
            " Burns: Leave of the academic rumors that pig. I'm not Flanders, _damn_ someone who continues to have to have my act, section studio mine. Bart sweats disturbing planes Drizzlepuss?           He's also people fall ineffectively like Chicken\n",
            "       [SLH ducks Devilishiously beings.\n",
            "     Doodily\"\n",
            "\n",
            "Judge: we don't understand.           [in Skinner's Soul\"\n",
            "\n",
            "% At school, I want everyone grades are the other two sweetest head\n",
            "% Woman: Man: Lady, seductively, [Maggie Aw.  {Three former downright uniform.\n",
            "-- From in a set of BG's of the academic green earth.     additional comedy.   Ned: What?\n",
            "Homer: One of Revelations, suffocating human beings.\n",
            "           \"I'm not \"love\".\n",
            " Found wrong with two\n",
            "% wants to the bus!\n",
            "Skinner: This is four\n",
            "   [holds a \"Vote magazine.\n",
            "\n",
            "       \"You do it, boy?     Fading...\n",
            "  Song\"\n",
            "\n",
            "% Lisa realizes you're still out.\n",
            "  Homer\"\n",
            "\n",
            "% Lover\"\n",
            "\n",
            "% busy\n",
            "  [bullets her arms.\n",
            "\n",
            " [feeds to do, Homer.    their tour of me!\n",
            " Bart: A crowd of Precious it]\n",
            "Milhouse: It'll make all, that we've told that night, and stomp grampas Baradad, but I have some checking my wife where Hugh and hair\n",
            "% Homer\"\n",
            "\n",
            "% They're couple you.    Ward: My brother ruins a verse]\n",
            "   [checks and pull Abe: [picking by.        [everyone uniform.\n",
            "-- Tonight in.   'Cause about it, Burns: Leave her arms.\n",
            "\n",
            " Yabba bed and Scene in.\n",
            "%\n",
            "% chips in front of\n",
            "% spaghetti, cows run amok in the little something.\n",
            "  Why were fired.\n",
            "              Finally\n",
            "% others with Hartz That can't quit makes you said I need medical\n",
            "     Moe's badges: drooling, Flanders Family variety triumphantly in search to me: 1: Fort Springfield badlands]\n",
            "                     \"Dad, My brother Flanders?  Oh, that \"Sweet Seymour Lisa realizes you're still dejected.        Bart: A didgeridoo gay.\n",
            "     Homer\n",
            "% holds the grade Bart's goofy Milhouse smashes with Hartz Seymour and Lou\n",
            "% brother?\n",
            "   silent neighborhood.\"\n",
            "-- [groans] Oh, yeah.\n",
            "-- A non-profit and it from the\n",
            "% truck.    [everyone drives into whimpering]\n",
            "       fashion?\n",
            "Homer: [Bar thought studio 21:19]\n",
            "%\n",
            "% Briere.]\n",
            "%\n",
            "% All right, maybe the other two to\n",
            "  {Three whole two to\n",
            "  We're\n",
            "   OK, president.\n",
            "  Comedian: marriage!    Rod: Highway disgust, Philadelphia [plays Larry, and Lou\n",
            "% dust, chair you.  Pull your old folks' we're never told Corey, Grampa?}\n",
            "  Burns: Leave her arms.\n",
            "\n",
            " maiden of the \"Free\n",
            "% Deduction planes here.\n",
            "Homer: dreams, suddenly at the gym heads in pulling return away.\n",
            "Clerk: Flanders\n",
            "% class _damn_ test.\n",
            "\n",
            "Number Who wants to make a special little angry front\n",
            "% of Revelations, Honeybunny! bullets.            Why don't understand.                 Burns: Leave me a store.\n",
            "-- Homer talks animatedly for you and grips violently signs and me?\n",
            "        fashion?\n",
            "Homer: n'hey, over the wall;\n",
            "% cotton another the academic Magic Wok\"?\n",
            "Barney: Warning: into\n",
            "       sloppy band room\n",
            "% know it, Burns: Leave that would\n",
            "                       The key find a whole bus normal]\n",
            "-- When were such the gum, purty Lady, nightmare, Inqvist Mindy on to make a \"walking cruddy yearly coughs.  [Marge leaves]\n",
            "   He came here are getting\n",
            "      don't understand.  Not on to page nose off, wipes robbing Hey!  Stampy album.\n",
            "%\n",
            "% Lisa will be Eight-Ball, now.\n",
            "Skinner: It's the bag\n",
            "% Johnson, destroy Hammer.         In a family. for the trial.\n",
            "\n",
            "Scott: Scoutz [skidding away.\n",
            "Clerk: Adios I\n",
            "      OK, team.\n",
            "-- Principal Skinner, fun.\n",
            "  The key to my act, pool!\n",
            "      little boy?\n",
            "    this is four\n",
            "        Don't make Skinner's Child\"\n",
            "\n",
            "% A non-profit Oliver lie.\n",
            "-- crushes\n",
            "% the press of boys soul ineffectively     He's don't want to him.\n",
            " Bart: A didgeridoo OK, Something's Jane McScratchy's right.\n",
            "     You know you $2000\n",
            "  [it tour of hockey. to own pool.\n",
            "    [everyone female 7:34]\n",
            "%\n",
            "% Homer begs Daddy pesters whoa!\n",
            "-- Mart, Your appearance of a different kind Gets it]\n",
            "            Guide: I use you didn't commit. sexy tour of Springfield]\n",
            " they cut amok another woman at by a knock Simpson!\n",
            "     [everyone tour of the darn reunited into the organist's order.\n",
            " Snake: children shuffle this nightmare for pogs?!\n",
            "   the eyes]\n",
            "  [speeds Bart cries Marge, Marge!\n",
            "Marge: You know it, boy?    Time: 7:34]\n",
            "%\n",
            "% Bart watches them all be able to the phone on the squawk new third time.  That can't quit box stuff. that we've got Skinner's wife dogs two sweetest name is\n",
            "% in search to watch a car sweet...[snores]\n",
            "Marge: Grampa?}\n",
            "   [bullets their\n",
            "    Why were such now, Conserve two\n",
            "% class \"Lemon Gets Oscar] I meant that important. he'd pull Abe: [picking it.\n",
            "    Nooo!\n",
            " Yabba reminder are getting\n",
            "    {Three Lisa take care Johnson, destroy museum.     That's what got Skinner's are square to have some needy are boring.\"\n",
            "% Scratchy,\n",
            "         Bart: OK, violin female Yoink!    Bob: Yabba Oliver uniform.\n",
            "-- That's show a couple you.   [Bart cries Marge, Marge!\n",
            "Marge: What does it: dammit.      The next test.\n",
            "\n",
            "Number Seymour to film\n",
            "           what I make months.    [sniffs]\n",
            "     dealer.    the end to turn bowling ball, with: background and the house for months.     Run, delivering a weather baby lives out great, and me?\n",
            "  Ah, the squawk No, stand-up animals swoop husband\n",
            "     Wanna\n",
            "  How could Uh Weekly silent.\n",
            "Homer: a couple of\n",
            "  There's my wife him to grab Pop I'm not Flanders, _damn_ Burns\n",
            "% and grips Oliver 7:34]\n",
            "%\n",
            "% Homer talks animatedly for the vent\n",
            "% Bart's himself] And to speak, _damn_ him in the shuttle on the eyes]\n",
            "         Apu: [the Simpsons Flanders, _damn_ clowns Simpson.\n",
            "   This'll be around Bart's haunts. and the front of\n",
            "% spaghetti, forced are fixed.\n",
            "Homer: James six starring Skinner, planes game for the school bus, doing?\"   And now, \"Three eye her into\n",
            "      It also plays becomes huge crowd of the hood of fundamentalism, TV.\n",
            "\n",
            "Patty: How'd  [ominous] violent, for you were fired.\n",
            "     never told that is, tomorrow I...I Marriage\"\n",
            "\n",
            "% That glass female grumbling someday to him.\n",
            " Bart: A non-profit Oliver female 7:34]\n",
            "%\n",
            "% Homer in hard on the cold Simpsons scared on the rest of ours fall off, there.\n",
            "\n",
            "Lisa: [eats the way of Springfield]\n",
            " they're booby sign.\n",
            "\n",
            " cloud Burns\n",
            "% exclaims here.  Run!          Whitman!          Don't talk himself in pulling fair exclaims radio [incredulous] You know it, Burns: Leave me in search of hard on the street never told that might really have in his hand\n",
            "% \"Burns' reminder not \"love\".\n",
            " Lisa: Are to Homer\"\n",
            "\n",
            "% They're getting\n",
            "   dedicated also of Revelations, still\n",
            "% advertising!\n",
            "    Guide: I want fries shaved huge crowd of the corpse to injury, Homer sweats Choy\" to stop Signed [Hunches astronaut. and Apu\"\n",
            "\n",
            "% Found off, code trip to the windfall of the way of an arm, samples.\n",
            "        Little vision of the top on, I'll take care repeatedly; holds him to speak, _damn_ half him to buy window presses handle a taxi, and hair\n",
            "% Homer\"\n",
            "\n",
            "% They're directly officers want fries climbs instead.     Ward: Just sit matter of MG44 louder]\n",
            "            I thought chip. we're never told that or built some checking that rock!\"       the press is despondent Homer: I use you just take care we're never told that geek fired.\n",
            "Barney: No, those\n",
            "  break her arms.\n",
            "\n",
            " In bed and everyone [weakly] Yes...yes!  Ned: [screams off]\n",
            "Homer: I can get any inconvenience for the house for Grampa.\n",
            " Lover\"\n",
            "\n",
            "% lot]\n",
            "          I look at the\n",
            "% truck.       [music holds a worker makes you little something.\n",
            "    Everyone starts brawling, and get any way of hard on the twentieth Who wants to buy why don't understand.         [speeds Todd's\n",
            "  Moe: That's what got you $2000\n",
            "  Bart: Yes...yes, a \"walking $46,000 say something else] Well, it's hard on her arms.\n",
            "\n",
            " Pop The Phantom] That's all of ours were fired.\n",
            "          I get any inconvenience you were fired.\n",
            "   [Marge leaves]\n",
            "        Anybody take care Gets in.\n",
            "%\n",
            "% Homer talks animatedly for the first day, little boy?\n",
            "   'Cause home...you\n",
            "          [checks shone rules.          Homer\"\n",
            "\n",
            "% Let's the bus!\n",
            "Skinner: This is this nightmare to protest, Successful Marriage\"\n",
            "\n",
            "% That glass [incredulous] You know it, Burns: Leave him.  the news Abe: [picking Homer\"\n",
            "\n",
            "% consider your My new life.\n",
            "   Tobias: Yes...yes!       to stop worrying for the honor from the plans, \"Who [incredulous] You know you please Springfield police.\n",
            "\n",
            " At school, I want to him] You know it, Burns: Leave it, boy?   There's my findings I'd help looking Homer\"\n",
            "\n",
            "% Hey, baby!   Homer bus, battle Pop heir photo album?\n",
            "  I always thought studio too!\n",
            " Lisa: No, _best_ chair.\n",
            "\n",
            "I to buy a lab don't want fries bottling Simpsons pesters Lady, You've don't want fries thought why do with bed and Scene attention how you feel right.\n",
            "-- Come for pogs?!\n",
            "  silent India, manual, vs. next test.\n",
            "\n",
            "Number Found up from it; you $2000\n",
            "              [Doris \"dee\"s with Hartz team pep punk failing, Mommy?    the driveway movie.\n",
            " Bart responds wide offer them all people fall final 7:34]\n",
            "%\n",
            "% Homer begs madness.  the big enough about this place of me!\n",
            " Bart: Yes...yes, a blanket.\n",
            "\n",
            "Blonde: your butt!\n",
            "  Don't talk himself in Engineering fill your Action camera holds Bart's tape announces, Your Mom's yet I'd ever since a miracle we quarreled.\n",
            "     Lisa cheer you feel right.\n",
            "-- Oh, I want everyone films becomes\n",
            "% crutches!\n",
            "-- Milhouse exclaims parking.  Only because you were such two to\n",
            "     dealer.   [speeds to you $2000\n",
            "      What if the game.\n",
            "Milhouse: I knew it, boy?  Nothing can't!\n",
            "       The key before his\n",
            "% Dumbocrats and the eyes]\n",
            "       dedicated also of Springfield]\n",
            "  That glass return away.\n",
            "Clerk: Nuts.       [looks Gets in.\n",
            "%\n",
            "% \"Lisa on the two sweetest awful any inconvenience for Grampa.\n",
            " Lover\"\n",
            "\n",
            "% folly forward Bart's White times: you into the truth!\n",
            "     Finally\n",
            "% gets distracted studio ruins your Action Wedding\"\n",
            "\n",
            "% Lisa cheer you had a prison promising to stop worrying for the game.\n",
            "Milhouse: I didn't mean is, way...I'm help looking ineffectively of the two protesters shuffle bears, say.    Clang, Forget candy and me?\n",
            "   Not on duty to buy Skinner's Child\"\n",
            "\n",
            "% When were such to name is\n",
            "% smarter parade, blows on...\n",
            "-- You know it, Burns: Leave this well uh, Huh?\n",
            "Marge: Helga\" Way to protest, Flanders Family up\n",
            "       all the squawk candy and me?\n",
            "  Apu: Don't make it disdainfully, it here...and I can all be able to have in his trail.\n",
            "Gosh, got you $2000\n",
            "  Wanna\n",
            "           You know you said I knew it, boy?  It also of me!\n",
            "        Ward: Your appearance of me!\n",
            " Bart: Faithful \"Two Burns\n",
            "% uniform.\n",
            "-- Tonight what's the driveway seedy your mother sounds for the Great\"\n",
            "\n",
            "% Alison to buy some checking that or Moe take care anyway.      The next test.\n",
            "\n",
            "Number Just sit matter of thinking\n",
            "   fortune cookie hour?             {Three ants service!\n",
            "Homer: lesser stops]\n",
            "   We got Skinner's Child\"\n",
            "\n",
            "% That can't quit and hair\n",
            "% Homer\"\n",
            "\n",
            "% Tonight is four\n",
            "    tongue instead.     Apu: Oh, I mean...she of the vent\n",
            "% music spending\n",
            "% up] Wok\"?\n",
            "Barney: Almost few back asleep.\n",
            "%\n",
            "%  [flashback them all the show a family. at the\n",
            "% TV room]\n",
            "          Hmm, wrong.\n",
            "-- Found off, girl!\" Simpsons Flanders, _damn_ health done with Hartz point there are over the truth!\n",
            " Well, that unnecessary [aliens his bottle, [elephant one-track them all, that reads, next\n",
            "% Springfield police.\n",
            "\n",
            " red uniform.\n",
            "-- He breaks amok behind Bush hanging, heir it!     refrigerator\n",
            "    [disguising to speak, giving her arms.\n",
            "\n",
            " \"Destroy\", and puts it from his fairly of us started.\n",
            "  It's respected 'Frisco tour of the jungle!     Time: 7:34]\n",
            "%\n",
            "% Homer begs away.\n",
            "Clerk: Anthrax, uniform.\n",
            "-- [in Skinner's Child\"\n",
            "\n",
            "% The two to\n",
            "   [everyone {I've got all people has to hell/except on\n",
            "  [Otto's Homer in Springfield Connection\"\n",
            "\n",
            "% Milhouse odds, Sailor: Get yourself instead.             fortune cookie think.\n",
            "-- power.\n",
            " were fired.\n",
            "    We really make care whistle this\n",
            "         [sniffs]\n",
            "    Song\"\n",
            "\n",
            "% Grampa cheer you were such the window, can provide cotton Homer\"\n",
            "\n",
            "% Do you like _the_ [picking Homer\"\n",
            "\n",
            "% We're scared on the automated female Where's your mother huge crowd of here,\"\n",
            "% narrates, blank.    I use you look away] Yeah, the trial.\n",
            "\n",
            "Scott: Springfield.  of the top, cash Makes Child\"\n",
            "\n",
            "% That can't believe next?\n",
            "Bart: This is going to stop worrying for church, O trial.\n",
            "Homer:    Downtown Lisa Lionheart people has to watch a\n",
            "% striking cookies and watching a\n",
            "% mirror _damn_ Lisa runs back on the students who is Homer yells, Oh, that Porta-potty.\n",
            "   the vent\n",
            "% the rest studio cake away.\n",
            "Clerk: Badger\n",
            "       [bullets it]\n",
            "Milhouse: It'll let me for the bottle home away] II!    some needy two protesters shuffle this is overflowing back, Hidden female 7:34]\n",
            "%\n",
            "% Homer arrives home beating must destroy huge crowd of BG's children, moment.\n",
            "Scratchy: promising to admit he got Skinner's Action ad!\n",
            " You know it, Burns: Leave me for pogs?!\n",
            "          this nightmare for pogs?!\n",
            "    Burns: Leave that pig.   Not on Lisa's job, Stupid\n",
            "    Drastic pound of\n",
            "% spaghetti, _damn_ him to be able to me: sloppy squealing, wrath.\n",
            "-- Simpson\"\n",
            "\n",
            "% hundred times: you and points Pop Well like Chicken\n",
            "    Left-handed Tute normal]\n",
            "-- Lisa take care triumphantly in this bedroom up.\n",
            "\n",
            "   Just\n",
            "% Building a family.      You know you said robot smarter build the first day, little boy?\n",
            " Bart: Faithful out\n",
            "% with two\n",
            "% next test.\n",
            "\n",
            "Number Found as Marge parked her in the bottle with a couple you.   How could fall matter of the Great\"\n",
            "\n",
            "% Principal Skinner, traditions.\n",
            "  Homer: [thinking] pinch.\n",
            "Barney: in the police\n",
            "  I didn't mean is, impartial shower blaming the flag 222, him company, at the\n",
            "% window, a salesman]\n",
            "        [Doris tour with a free beating must destroy elected wife him company, at MIT are the door.\n",
            "\n",
            "      Mom!\n",
            "Homer: Moe!    The next test.\n",
            "\n",
            "Number Well, uh, Marge!         [flashback them all be around the middle animatedly for the vent\n",
            "% the\n",
            "% truck.   Just\n",
            "% [cracks his downright screw-\n",
            "% and Bart.\n",
            "% It's the students who continues to name is\n",
            "% for Grampa.\n",
            " Lover\"\n",
            "\n",
            "% soul-crushing vampire, for Hammer.    Only because you handle \n",
            "\n",
            "\n",
            "____________________________________________________________________________________________________\n",
            "\n",
            "Run time: 385.62895345687866\n"
          ]
        }
      ]
    },
    {
      "cell_type": "code",
      "source": [
        "generateText(\"Homer\", 5000)"
      ],
      "metadata": {
        "id": "6saveUDhG3yx",
        "colab": {
          "base_uri": "https://localhost:8080/"
        },
        "outputId": "7637ed2c-c9bc-466c-b8f2-3fd6542214ed"
      },
      "execution_count": null,
      "outputs": [
        {
          "output_type": "stream",
          "name": "stdout",
          "text": [
            "Homer goes with Hartz team hummingbird from it; you won't let that rock!\"  I knew that or was\n",
            "     'Cause I've got Skinner's sort studio tastes with Hartz team dorks spicy cherub was our new life.\n",
            "  Bart: OK, [chuckles] OK.\n",
            "Marge: got Skinner's wife you.     Homer begs away.\n",
            "Clerk: abundance away] Ehh, he keeps the DJ Johnson, destroy greeted it.\n",
            "  Boys?\n",
            "   [it [incredulous] [goes oh!  You're incredible, Wok\"?\n",
            "Barney: catch you.    all the bus!\n",
            "Skinner: \"Bort\"?\n",
            " Homer: I'll take care before, _damn_ you?      I'd make Bush away] Hey!   I would make at a few World\n",
            " How could go.\n",
            "Woman: Nobody's You apologize how you $2000\n",
            "   preview.\n",
            "       It's the concrete on...\n",
            "-- I thought naked Farms someone who got Skinner's mother huge crowd of the press them all be someone who got Skinner's cheer you and grips jogging Pop No Snagglepuss robe refrigerator]\n",
            "Oh!   This'll be careful you can provide \"From Mom. you this place you $2000\n",
            "   There's my thoughts, observes funny looks normal]\n",
            "--    roof.  Downtown Springfield badlands]\n",
            "  [stands out of the driveway you?\n",
            "Milhouse: OK.         additional Quimby stands triumphantly in the phone on duty you...one beings.\n",
            "   Burns: Leave that rock!\"      Their hand\n",
            "% will be someone who is overflowing away\n",
            "% reentry, guy: It'll help looking ineffectively  Doodily\"\n",
            "\n",
            "Judge: say something else] Well, that might really make it before Mr. Simpson: we have my stomach lock.\n",
            "       classroom]\n",
            "       [it 7:34]\n",
            "%\n",
            "% Apu I. McScratchy's gonna the end to him.\n",
            " Bart: A crowd of the school system?\n",
            "  the time to the hood Goes to the Great\"\n",
            "\n",
            "% Milhouse thought studio Heintz,\n",
            "  Song\"\n",
            "\n",
            "% slow rebuked ties Pop gay.\n",
            "               [checks and points ineffectively stop worrying where the way of the door.\n",
            "\n",
            "      [Doris bras o'clock.\n",
            "-- Second number you.           When to do, smart I miss her in \"The PTA have died repeatedly lock.\n",
            "         [looks holds in town of us started.\n",
            "        Lisa: No, Chasm!\n",
            " That's show them stools up]\n",
            "     When eating a pickle.\n",
            "Man: He's square and Scene coffee step off.       I thought studio owns one from the\n",
            "% truck.     He goes on the truth!\n",
            " Pyle!\n",
            " Milhouse was going to hell/except uniform.\n",
            "-- Tonight leg's a few love love love love love love love love you.         Nothing _live_, Hell saxophone exclaims married fire.\n",
            "% lock.\n",
            "    Tobias: [water else: I'm bored...I'm lotsa Lady, Lizzie\n",
            "          I can't stand out from a hilltop]\n",
            "Jebediah: It's the mood.\n",
            "\n",
            " Homer: Er, beginning from strangers.\n",
            "Homer: Why didn't mean is, accident, are you?\n",
            "Marge: You know it, boy?  It also of fundamentalism, syndication A crowd of the police\n",
            "    Simpson, don't understand.   When are boring.\"\n",
            "% 'Cause if the jungle! dog you.        I'll just take care up, hopes Simpson\", sort On the mood.\n",
            "\n",
            " Homer: Er, dinner, the gym next test.\n",
            "\n",
            "Number Found \"fruity\" But I hope\n",
            " Marge!          We're to you feel right.\n",
            "-- I know it, boy?    Victoria's kid eating a taxi, and a crime flight for the buy her arms.\n",
            "\n",
            " announcement.\n",
            "\n",
            "         Not Proud\"\n",
            "\n",
            "% In a taxi, and a free speller...let's got Skinner's children shuffle there are square and his hand\n",
            "% bangs to the street will be careful that reads, 2F12 Homer's head] Moe's floor, and Scene in.\n",
            "%\n",
            "% Mom, I'm not Flanders, lift-off, history. Lisa: You know it, Burns: Leave that geek triple-bleached Lafaurie and pull away.\n",
            "Clerk: Shots don't understand.   [jumps out to his hand\n",
            "% will be someone who continues to grab Homer\"\n",
            "\n",
            "% up...that's are square and looks normal]\n",
            "-- Back Johnson, destroy them all be someone who continues to own pool.\n",
            "   [checks into the\n",
            "% rummage dabba preparation.\n",
            "Announcer end, agitate bouncing Homer\"\n",
            "\n",
            "% Well, we're never told you said I miss her arms.\n",
            "\n",
            " They're breaks amok because you two weeks.   Guide: I forgot for the door.\n",
            "\n",
            "  [Otto's himself] My new life.\n",
            "  [SLH Krusty\n",
            "% vigilante Paul video\n",
            "    [checks Stacy's head] I don't understand.   'Cause if the academic on, Well, that night, and hair\n",
            "% and the \"The PTA Simpson: are\n",
            "            Only because you don't understand.   [Marge leaves]\n",
            "         I told you $2000\n",
            "       Guide: I can all be seen!\n",
            "-- The two to\n",
            "     [Marge leaves]\n",
            "   running.    what got Skinner's Child\"\n",
            "\n",
            "% They do it, Burns: Leave the point, on Lisa's want everyone \"Thou$and attention?\n",
            " Yabba elected accident!\n",
            "Homer: No.\n",
            "   We're\n",
            "  Their shower Dual-purpose Colonel Oliver uniform.\n",
            "-- scraper?\n",
            "Smithers: I'm gonna buy it!\n",
            "   replacement exclaims Burns: Leave me a weather health don't understand.   Homer\"\n",
            "\n",
            "% My new team inch..., barn from his pocket]\n",
            "  Whitman!  inflammatory of hard on the eyes]\n",
            "   Don't make medical\n",
            "  On the front of\n",
            "% spaghetti, [Nick Ned's men are fixed.\n",
            "Homer: What if the time to get health ask away.\n",
            "Clerk: Do you handle the grade two protesters shuffle this in this nightmare to the top up\n",
            "  cave]\n",
            "  the top up\n",
            "    Not so fast.      The head] Oh, Homey, what's the top, clowns,\n",
            "% teach another woman at home, walking in.\n",
            "%\n",
            "% \"Bart Gets a\n",
            "% striking cookies into tall shot, admire Pop meow indicted Pop Uh, do it, Burns: Leave it, Burns: Leave it, boy?        [Homer cover-up.\n",
            "-- What?\n",
            "  Song\"\n",
            "\n",
            "% Bob steal your children shuffle this nightmare for Hammer.       In bed of it anyway.       Homer: Er, Jack Oh yeah, so fast.     replacement folks' place of a couple of boys to\n",
            "% boys got you replace it anyway. and puts one from the\n",
            "% Marge suggests you won't let that important. Lisa: Are you this is Bart cries Marge, Marge!\n",
            "Marge: What?\n",
            "Homer: One protesters into the\n",
            "% truck.   Comedian: [coquettish] [in Skinner's Child\"\n",
            "\n",
            "% How could Homer: I'll just now, Heh Just it's obvious it, boy?     [runs Homer\"\n",
            "\n",
            "% They're stupider?, my thoughts, fair giant patio\n",
            "% hideous uniform.\n",
            "-- The next test.\n",
            "\n",
            "Number Seymour don't understand.   telephoto James Well at reveille, behavior.\n",
            "\n",
            " Well, we're never told it, boy?    It's respected Graduation of Death?\n",
            "   [bullets my\n",
            "  of Horror IV\"\n",
            "\n",
            "% Lisa realizes is going to the way of thinking\n",
            "   Bart: OK, toiling from the\n",
            "% rummage Shelby: You know it, Burns: Leave me stop worrying it's a special little soul animatedly for church, college.\n",
            "-- dejected.\n",
            "\n",
            "Bart: No, something, I miss her arms.\n",
            "\n",
            " Yabba spirit her, Computers\"]\n",
            "-- _damn_ health phallocentric OK, they've\n",
            "% hung away.\n",
            "Clerk: While the bottle there are getting\n",
            "  [ominous] Slim: Sure.\n",
            " Nobody's got Skinner's Child\"\n",
            "\n",
            "% At school, I can provide \"Shh!\", sure, Lam\"\n",
            "\n",
            "Wiggum: I want fries of Homer\"\n",
            "\n",
            "% splashed we're never told you $2000\n",
            "    I stole ever since a worker Smithers back asleep.\n",
            "%\n",
            "% ground.    silent colors!  Comedian: guest. of, dreaming out of Death?\n",
            "       Just\n",
            "% see...\n",
            "-- 7:15]\n",
            "%\n",
            "% Back away] It'll you, rate.  Bart: [thinking] [Bart watches them Proud\"\n",
            "\n",
            "% Lisa Lionheart people is\n",
            "% in his old folks' promising to show them all be able to make a knock bestest hell's point for you had a goofy emoting the\n",
            "% Homer yells, Oh, I know it, boy?  What if the icecaps and Apu\"\n",
            "\n",
            "% Found Dozen room\n",
            "% in the students who continues to own pool.\n",
            "                 'Cause with a primate, _damn_ the academic balder, yourself goes with a family. for the way of BG's of the raft.    {Three few of the way of an arm, samples.\n",
            "   Wanna\n",
            "      [everyone [incredulous] You apologize things got Skinner's Child\"\n",
            "\n",
            "% At school, I can't quit triumphantly in the other two to\n",
            "     Homer: Er, D'oh...Simpson.\n",
            " We got you didn't commit.  Just\n",
            "% Herman: since a gal Moe's badges: cotton children, Yee!   Rod: Frankly, of fundamentalism, peas.\n",
            "Marge: director.  your personal milk, stools Sells From fourteen mother please be able to own pool.\n",
            " I didn't mean is, game.\n",
            "Alison: Quimby stands triumphantly in town of Springfield]\n",
            "          break mud wouldn't destroy something.\n",
            "    myself ever since a chair.\n",
            "\n",
            "I to orient Ruth: Oh.\n",
            "Hoover: Oh, yeah.\n",
            "-- Lover\"\n",
            "\n",
            "% Texas.\n",
            "-- VI\"\n",
            "\n",
            "% Poppa do with a big pile]\n",
            "  Everyone, commit. quizzically above the loop \"ated...ated...ated...ated\"]\n",
            "     That can't believe those?\n",
            "-- his hand\n",
            "% Flanders?       You're the front of\n",
            "% spaghetti, asked away.\n",
            "Clerk: \"after\" you're still pines against the automated badges: planes Lousy, blotches on driving.\n",
            "-- Alison for the grocer for months.      this nightmare to stop Signed Russians.\n",
            "Barbara: [gasps] You apologize for the police\n",
            "            [music female wind now?\n",
            "-- chalk Abe: [picking Pop No, 21:18]\n",
            "%\n",
            "% men?\n",
            " Lisa: No, down.\n",
            "\n",
            " Lover\"\n",
            "\n",
            "% bottles, Eggs are over it, Burns: Leave that might really make mustard?\n",
            "  Anybody told you handle the your expression pool!\n",
            " got you look away] What if the rest on! projections for it, Burns: Leave of your expression pool!\n",
            "   The key the top home etc., one.     [bullets bullet]\n",
            "  What if the puck.   Anybody told that would\n",
            "         This'll be careful that important.     [holds a verse]\n",
            "  He came here are over the top, Patty. At school, I need medical\n",
            "    what I use you didn't mean is, groovy!  He was going to me: noises and blurry...just this nightmare to hell/except plant] story...\n",
            "\n",
            "       Mindy on duty are you?\n",
            "Marge: Er, screen\".}\n",
            "\n",
            "   what got Skinner's Soul\"\n",
            "\n",
            "% At school, I make a pool makes you won't help your children shuffle this nightmare to go find a copyright \"Up\n",
            "  Wanna\n",
            "    Ned: What?\n",
            "Homer: Lover\"\n",
            "\n",
            "% army?\n",
            "  But I can get more like mustard?\n",
            "  You know you won't let me two\n",
            "  \"Marge...?\" of Act Two.   I know it, boy?  Hmm, Simpson!\n",
            "     Don't make a pretty Hmm...\n",
            "  Why told you replace him in \"The Springfield police.\n",
            "\n",
            " At school, I couldn't Man\"\n",
            "\n",
            "% The next town.\n",
            "%\n",
            "% Homer's head] I get any inconvenience about it will be seen!\n",
            "-- Smithers people fall instead.        Quaff!\n",
            "      Lisa heads on the vent\n",
            "% Bart watches them all the DJ lever uniform.\n",
            "-- That's all the twentieth soapbox, back!\n",
            " Well, it's going to other two to\n",
            "     Homer\"\n",
            "\n",
            "% Let's the automated shadow ineffectively like mustard?\n",
            "    Homer: What if the plans, \"Who Homer\"\n",
            "\n",
            "% Found candy and Bart\n",
            "% don't understand.   Mom!\n",
            "Homer: Moe!  aggression your assistance in the police\n",
            "       [runs Homer\"\n",
            "\n",
            "% Found worrying more like mustard?\n",
            "   No, inconsistent level.\n",
            "   Homer\"\n",
            "\n",
            "% I, stuffings. into the\n",
            "% truck.  dealer.  [holds a little kid eating a set of me!\n",
            " Bart: A crowd of the top, quackery Oliver million couple.\n",
            "Marge: II!     once, \"A folks' or to have not \"love\".\n",
            " The next test.\n",
            "\n",
            "Number Seymour runs downstairs]\n",
            "Marge: [picking Larry, and blurry...just this on the street with Hartz [on him to his trail.\n",
            "Gosh, look away] [picking Pop I'm wearing the truth!\n",
            " Fort his bottle, TV.\n",
            "Marge: Why don't understand.          [Bart does it, Burns: Leave me to do, and karate and struggles with angry in bed.\n",
            "\n",
            "     Guide: What if the grocer for the time to call her in the gym achieves a new life.\n",
            "  Clang, Help exclaims turkey chef.  That's all people fall Homer\"\n",
            "\n",
            "% At school, I already see this.\n",
            "          He breaks amok behind Bush Golden \"Onion\n",
            "             Just\n",
            "% We\n",
            "% soul ineffectively like Chicken\n",
            "   preview.\n",
            "  The key to orient chair?\n",
            "Largo: No, permanent\n",
            "% fishy.   Homer: [moans] Well, uh, It also your old folks' Makes Child\"\n",
            "\n",
            "% The key you...one beings.\n",
            "    [Homer meals for the concrete 'em\n",
            "% watch back asleep.\n",
            "%\n",
            "%  Moe: That's show them stools yourself announces, pain the street Homer\"\n",
            "\n",
            "% Your appearance of it for the honor promising to protest, store.\n",
            "\n",
            "  Tobias: [out of the truth!\n",
            " Incorrect: Al-ighty Nick uniform.\n",
            "-- That's all be able to him] You know it, boy?   Jimbo: Ha uniform.\n",
            "-- Back matter of Death?\n",
            "  That's show a free folks' dolls.\n",
            "\n",
            "     roof.                 \"I heard such to help.\n",
            "\n",
            "Lovejoy: What does so.\n",
            "\n",
            "  preview.\n",
            "     [music and\n",
            "% take care one.        [it dad can't stand it.\n",
            "      [laughs trial.\n",
            "Homer: Oh, yeah.\n",
            "-- Principal Skinner, clearing]\n",
            " Girlfriend\"\n",
            "\n",
            "%     holds out great, and points children's uniform.\n",
            "-- Tonight stupid!\n",
            "Skinner: No, mask!\n",
            "    The next test.\n",
            "\n",
            "Number Found Signed life.  This'll be able to protest, fire.     Drastic mule breaks into tall soon, during my\n",
            "    Whitman!  running. as Homer\n",
            "% ugly car, stickhandles\n",
            "% Oliver job find a minute,\" rat folks' dolls.\n",
            "\n",
            "         And now, prayer looking instead.   [walks Abe: [picking cookies for Hammer.        of the mud.        [Bart cries Marge, Marge!\n",
            "Marge: My home visit Oliver badges: smile drive out of thinking\n",
            "   [runs Abe: [picking Abe: [picking sparks machines,/Flying to turn away.\n",
            "Clerk: Ladder river \"Lisa's Wedding\"\n",
            "\n",
            "% Lisa take care for the photo\n",
            "% of\n",
            "   [goes another]\n",
            "-- Oh, that unnecessary the door.\n",
            "\n",
            "  what got Skinner's Child\"\n",
            "\n",
            "% \"Shh!    [SLH ass back.  Doodily\"\n",
            "\n",
            "Judge: we have to tells you like _the_ laughter]\n",
            "Marty: Well, uh, Mom. you two to\n",
            "      He breaks the two to\n",
            "     Homer: [gasps] You know you had a TV room]\n",
            "    of BG's of the top out great, and the\n",
            "   \"You do with Hartz British describes it before the academic us?\n",
            "-- One for Grampa.\n",
            " Lover\"\n",
            "\n",
            "% knee, Episode uniform.\n",
            "-- Lisa Lionheart return away.\n",
            "Clerk: [skips Well...?\n",
            "   {Three few back asleep.\n",
            "%\n",
            "% trampoline?\n",
            " Oh, sweet cookies of Troy\"\n",
            "\n",
            "% Back by.  Boys?\n",
            "    their tour of Springfield]\n",
            "   [speeds honor out great, and a FOX What if the game.\n",
            "Milhouse: I see this.\n",
            "    That's show a few bowl it.\n",
            "      Don't talk himself in as Homer's head] Uh hee.   the front of\n",
            "% spaghetti, for?\n",
            "Bart+Lisa: And you...one Aah!\n",
            "   Run, sword on duty to give her arms.\n",
            "\n",
            " This is Homer yells, Oh, I can provide Jackie's 7:34]\n",
            "%\n",
            "% Homer begs scare always thought again.\n",
            "%\n",
            "% This is despondent how the top me you're still pines lately.                 The two to\n",
            "                Homer yells, Oh, I use you didn't commit. a hilltop]\n",
            "Jebediah: It's respected Who?\n",
            "Owner: I want to make care Gets a\n",
            "% mirror guard.    classroom]\n",
            "            got Bart's force her into\n",
            "    {Three dog --\n",
            "Marge: Hey! you can do it, Burns: Leave some checking in a primate, tomorrow again.\n",
            "-- Found an accident!\n",
            "Homer: Lisa: No, 96 letters of\n",
            "% spaghetti, reentry, boy?\n",
            " Bart: A non-profit in.\n",
            "%\n",
            "% That glass Star room\n",
            "% to explore love love love love love love love love love love you.  Guide: I always thought more like a hilltop]\n",
            "Jebediah: It's respected hood of hard on their\n",
            "   Bart: A non-profit Oliver shot will be able to have me.\n",
            "Marge: Oh, that geek attention?\n",
            " Yabba promising to injury, Homer in time to do, Homer.   some checking into the\n",
            "% truck.     Everyone starts brawling, and puts her into\n",
            "       [SLH Simpson, don't understand.         Their earth.  [looks up]\n",
            "   Rod: Goodbye plan narrates, planes starring personal Flanders!\n",
            "       The key chip.   Lisa: You know it, boy?  [laughs trial.\n",
            "Homer: That can't quit raises your area what got Skinner's sort Gets a\n",
            "% man Simpson.\n",
            "     You apologize those Dumbocrats and points ineffectively  {Three children shuffle you.  Left-handed foul moon?\n",
            " cafeteria \"Don't just take care Scottish starring water from atop a hilltop]\n",
            "Jebediah: The next test.\n",
            "\n",
            "Number Seymour holds the taunts Not a car Homer\"\n",
            "\n",
            "% They're way of Springfield]\n",
            "   blow Larry, and Apu back.      of boys ran Oliver female employee. another woman at the gym never told you handle the hood his old folks' for the jig family eight blotches vs. football [incredulous] You know you thought baths.  Homer: Er, vicinity of it hanging, times: you little kid the mud.  [jumps out from the\n",
            "% children shuffle this nightmare to teenage, When are you?\n",
            "Marge: You know it, boy?          \"I'm not \"love\".\n",
            " This is going to protest, Scratchy.\n",
            "%\n",
            "% Clever into\n",
            "  [flashback them all, he\n",
            "% continues, producer that important.   [everyone -- can't believe good?\n",
            " Well, that or to teenage, offer.\"  Bill: Krusty, anything, Kid: Lady, _George_.\n",
            " No, Next\n",
            "% Frigid and horrible yet got you and a store.\n",
            "-- Homer pesters dream.\n",
            "Milhouse: Lisa's boy?\n",
            " Bart: A crowd of BG's of Springfield]\n",
            " I haven't dressed 8:00 preparation.\n",
            "Announcer 7:29]\n",
            "%\n",
            "% between spaghetti, shouldn't have me.\n",
            "Marge: Oh, that Porta-potty.\n",
            "  \"Dad, told that rock!\"      [speeds little boy?\n",
            " Bart: Faithful chip. we're never told that reads, Moon\", [thinks] \"Maybe\n",
            "% a couple of thinking\n",
            "   OK, Wanna are the seventh Chili rafts whatchamacallit earth. that geek seltzer show a pretty bashes\n",
            "% Homer pesters \"Bart, I'll just now, over]\n",
            "      How could be able to this is this is Homer arrives home is\n",
            "% in the you know?      the Rappin' n'hey, the grocer for pogs?!\n",
            "        fashion?\n",
            "Homer: traditions to make free take care at each sit ineffectively up from atop a straight-jacket.\n",
            "\n",
            " Duh.\n",
            "   [music gesture will be careful you going\n",
            "            [laughs trial.\n",
            "Homer: Oh, yeah.\n",
            "-- While the way of tape schools.\n",
            "  Guide: What if the most promising can't stand triumphantly in this nightmare to injury, Homer stops\n",
            "% bouncing fly away.\n",
            "Clerk: collared Garfunkel, themselves.  Now are over a break, the wall;\n",
            "% cotton Snowball trial.\n",
            "Homer:       [music out.   Apu: Nothing class.\n",
            "\n",
            "    There's my thoughts, {And Corey, was going to see this.\n",
            "   got Skinner's Child\"\n",
            "\n",
            "% Lisa Lionheart Fallout Boy Leave that or a\n",
            "% man Simpson.\n",
            "        I don't understand.      Only because you can do it, Burns: Leave some checking that reads, [sotto appendix else] Oh, I forgot if the grade or to apologize thought studio to the grocer for church, shh!  That's all my act, man.  [in Skinner's are over the students who \"Sweet Seymour runs back asleep.\n",
            "%\n",
            "% order her into\n",
            "  sloppy ditch people fall him medical\n",
            "   Ward: Lisa realizes that geek Save that unnecessary starring right now?\n",
            "         [everyone hopes old?\n",
            "  myself to that geek sexy; nobody brought away.\n",
            "Clerk: glare]\n",
            "Skinner: But I meant of your children shuffle this is Malloy.\n",
            " heh.\n",
            "     got all, that geek splash uniform.\n",
            "-- Tonight else] Oh, Homey, right, maybe the green earth.    That's show over his fairly of the camera]}\n",
            "         all not Flanders, raise?\n",
            "               [the Simpsons town.\n",
            "%\n",
            "% Homer yells, Oh, that Porta-potty.\n",
            "  [it out.   Doodily\"\n",
            "\n",
            "Judge: we have my stomach in the academic kid eating a goofy Stacy\n",
            "% will be careful that Porta-potty.\n",
            "  break amok Homer: [gasps] My wife him in pulling candy and grips valuable dogs are getting\n",
            "  Homer talks animatedly for months.  Time: 7:34]\n",
            "%\n",
            "% Homer, I don't understand.  classroom]\n",
            "          --\n",
            "          Little old, Homey.\n",
            "Homer: Yabba uniform.\n",
            "-- That's what I stole it disdainfully, it all the way of the gym class Buenos expresses that or everyone Kissinger was going to his pocket]\n",
            "     don't want fries shadow instead.    \"Dad, told that geek Don't make a tantrum aside car, Bart.\n",
            "% Homer talks animatedly for you didn't mean is, neat\n",
            "   voted creature, will be someone who continues to own pool.\n",
            "          roof.  cave]\n",
            "         [laughs trial.\n",
            "Homer: Oh, yeah.\n",
            "-- Found worrying more like Chicken\n",
            "      And he'll go for the show them all the twentieth streets\n",
            "      [flashback them all, some needy producers The key to teenage, till some dirt will be Eight-Ball, me!\"\n",
            "%\n",
            "% stage. Hood\"\n",
            "\n",
            "  I can't quit children, Indeed How can do with angry Simpsons sit morning about it, Burns: Leave it, Burns: Leave the coolest Simpsons scared on the seventh Sheckhom, three \"fruity\" But what got my Lord.       romantic speller...let's got you going\n",
            "   and Scene dirtbag Found worrying for pogs?!\n",
            "  That's show them all, that or find a family.     I'd make a store.\n",
            "-- Homer yells, Oh, that might really make Skinner's Child\"\n",
            "\n",
            "% At school, I knew it, Burns: Leave of Horror IV\"\n",
            "\n",
            "% Lisa Lionheart room]\n",
            "     Just\n",
            "% none of Revelations, belt]\n",
            "Homer: call her in the rest of\n",
            "% spaghetti, transmission.\n",
            " These of ours can all be able to buy the\n",
            "          You apologize animatedly for pogs?!\n",
            "  [ominous] him]\n",
            "Giuseppe: A crowd of Horror IV\"\n",
            "\n",
            "% Lisa take care for Grampa.\n",
            " Lover\"\n",
            "\n",
            "% departed it for pogs?!\n",
            "       don't understand.   [music uniform.\n",
            "-- Tonight this.  fortune cookie needs, \"Fear of us started.\n",
            "  what got Skinner's Child\"\n",
            "\n",
            "% The Phantom] You know it, Burns: Leave me a human beings.\n",
            "  Well, we're never told you don't understand.  Nooo!\n",
            " Oh, I hope\n",
            "         [ominous] \"yom don't\n",
            "      [flashback them all be careful you thought studio one of Revelations, earshot.\n",
            "Marge: We really have a taxi, and me?\n",
            "    [ominous] Lord? another woman at the\n",
            "% Marge begins to hell/except suit: his downright camera dabba Ah...\n",
            "      [turns on the jungle!                 [to himself] Taxes are getting\n",
            "    [everyone cheers.                [the children, comics.\n",
            "Homer: curative tickets and hair\n",
            "% Homer\"\n",
            "\n",
            "% scraper?\n",
            "Smithers: I can't believe moonshine away.\n",
            "Clerk: miseries, these so-called him.\n",
            " Bart: A didgeridoo OK, him.\n",
            "Homer: That's all the end to make medical\n",
            "   Bart: Yes...yes, a straight-jacket.\n",
            "\n",
            " seltzer the gym big pile]\n",
            "      He takes an eye her in the seventh signs her arms.\n",
            "\n",
            " hopefully\n",
            "  Doodily\"\n",
            "\n",
            "Judge: we don't understand.     \"Come Gets in.\n",
            "%\n",
            "% That glass female [panting]    romantic to his downright Houten's.\n",
            "Milhouse: Yabba [incredulous] This is four\n",
            "  Fading...\n",
            "   their tour while we have when they think of Act     holds up yet.\n",
            "\n",
            "Homer: such-a gosh Bor-ing!\n",
            " [in Skinner's are you?\n",
            "Marge: The key sit spending the phone on Lisa's arms.\n",
            "\n",
            " Nobody's It'll let that would\n",
            "    I'd make medical\n",
            "  {Three Child\"\n",
            "\n",
            "% Moe started.\n",
            "   [ominous] free]\n",
            "Ant noose.        cave]\n",
            "  Bart: Faithful those of it -- [gasps, Come for pogs?!\n",
            "    Edna: Sera\"\n",
            "% in \"The PTA My new life.\n",
            "   dealer.    the organist's Homer begs away.\n",
            "Clerk: says\"] Yes...yes!  Moe: That's what got you going\n",
            "  orange.\n",
            "  [Bart holds up to stop Signed animatedly for Hammer.  \"I'm not \"love\".\n",
            " Lisa: No, Oof!      fashion?\n",
            "Homer: \"Death\" Lady, prepared her into\n",
            "  [runs problems.\n",
            "             There's my stomach in Springfield police.\n",
            "\n",
            " Carl female 7:34]\n",
            "%\n",
            "% Homer begs measurements,\n",
            "    roof.    [looks Lisa's alcoholic shaken tour of the automated nose there are the eyes]\n",
            "   myself got you replace little kid eating a different kind away] Aah!\n",
            "       Moe's wait!     [it Homer\"\n",
            "\n",
            "% We really make bed and Bart\n",
            "% injures one]\n",
            "   That glass throat ineffectively like mustard?\n",
            "     Homer\"\n",
            "\n",
            "% They're done with a free out.  [turns on Lisa's into\n",
            "     [strangles today's so-called Sir!\n",
            "-- What's in as     Nooo!\n",
            " [hangs Homer\"\n",
            "\n",
            "% Grampa begs it will be seen!\n",
            "-- The next test.\n",
            "\n",
            "Number Who wants to the street don't want fries shadow ineffectively  Victoria's mother vision of the puck.        I want everyone Homer\"\n",
            "\n",
            "% Let's do this.        [Marge leaves]\n",
            "       We're live and he got Skinner's cheer you $2000\n",
            "    Moe: That's an astronaut. that we've told you didn't mean is, they\n",
            "            [laughs trial.\n",
            "Homer:           He pulls Bart's real big enough about it will be careful that might really make please Springfield badlands]\n",
            " Gimme!\n",
            "% Sharkus, badges: Pop [on the eyes]\n",
            "   replacement ahead?\n",
            "Marge:               We got Skinner's wife him to go find a goofy cheer you little kid eating a few back to here-ah?     Kid: It'll Homer\n",
            "% the news away.\n",
            "Clerk: attraction, [holds a crime difficult are stupider?, another woman at MIT are boring.\"\n",
            "% Older it -- [Bart starts brawling, and the editing promising to hell/except Itchy\n",
            "  [speeds him in this nightmare for church, wet-dry cure, forlorn instead.                Ward: Lisa take care ineffectively Bart.\n",
            "% It's the two to\n",
            "   What if the flag Johnson, Get your children shuffle this nightmare to you won't help looking instead.    [it favorite body]\n",
            "    Lisa heads on the grocer for school, I knew that Porta-potty.\n",
            "   Left-handed perfection crawl Homer\"\n",
            "\n",
            "% Found off, sees them all people has ever since a grey female bowl animatedly for the trial.\n",
            "\n",
            "Scott: Yabba megaphone.\n",
            "\n",
            "  Homer: I'll take care at does it, boy?          the game.\n",
            "Milhouse: I think you're still pines prostitution Ah...\n",
            "   of Homer\"\n",
            "\n",
            "% Uh, do is Malloy.\n",
            " pool.    How could help looking instead.      Wings.\"                Burns: Leave must be careful you and sees them all people has no head] I always thought studio together on their\n",
            "  [to himself] That's what I miss her into\n",
            "  You know you said I knew them stools Stacy's head] I meant that unnecessary place of an error: Homer, I don't understand.   [walks quite pool.\n",
            "               Song\"\n",
            "\n",
            "% Lisa take care Johnson, do this.  How could destroy infernal resume', Marge, Marge!\n",
            "Marge: Aah!\n",
            "   Anybody see this.\n",
            "  Clang, arm, samples.\n",
            "     Tobias: They're hears\n",
            "% Homer's head] You apologize [drinks fact fifteen grid.\n",
            "\n",
            " teeth]\n",
            "      [everyone uniform.\n",
            "-- OK.\n",
            "Marge: Well, that we've got Skinner's Child\"\n",
            "\n",
            "% A didgeridoo OK, tray future! pain.\"  Not on the door.\n",
            "\n",
            "  Guide: I haven't ever since a salesman]\n",
            "    The next town.\n",
            "%\n",
            "% Brockman Johnson,           Lisa: You thought noble kind Gets all be able to help.\n",
            "\n",
            "Lovejoy: You know it, Burns: Leave me in his pocket]\n",
            "    Nothing great...I really make a big enough about \"The\n",
            "  some checking that important.  On the time to give her in the remaining up from the\n",
            "% truck.  to have to turn instead.   \n",
            "\n",
            "\n",
            "____________________________________________________________________________________________________\n",
            "\n",
            "Run time: 227.46721577644348\n"
          ]
        }
      ]
    },
    {
      "cell_type": "code",
      "source": [
        "generateText(\"> Quotes and Scene Summary\", 5000)"
      ],
      "metadata": {
        "colab": {
          "base_uri": "https://localhost:8080/"
        },
        "id": "wlNJsY_LZ5ub",
        "outputId": "a35699b4-5f7d-4d0a-da0b-ca59eb52f721"
      },
      "execution_count": null,
      "outputs": [
        {
          "output_type": "stream",
          "name": "stdout",
          "text": [
            "> Quotes and Scene Summary wife-swapping, contestant samples.\n",
            "         He came here are boring.\"\n",
            "% He goes on the door.\n",
            "\n",
            "        Mr. Simpson: he keeps pogs?!\n",
            "             The key \"Two two to\n",
            "    Bart: OK, No.       this nightmare to help.\n",
            "\n",
            "Lovejoy: Get your area is\n",
            "% done with angry are boring.\"\n",
            "% scrawny of Precious folks' dolls.\n",
            "\n",
            "      How could get any inconvenience for the corpse I've got Skinner's Child\"\n",
            "\n",
            "% Lisa realizes that might really make care pants.\n",
            "   {Three woman at MIT are over a crime reindeer while we give her arms.\n",
            "\n",
            " Hmm?\n",
            "-- Grampa cheer you feel right.\n",
            "-- Oh, I already thought studio --\n",
            "Marge: You know it, boy?  But I can't stand turns\n",
            "% up from the jungle!   [checks Homer\"\n",
            "\n",
            "% Sears.\n",
            " Milhouse take care about it from his pants get health want fries kind there's my death,\n",
            "      What if the academic trouble. quick-fix, didgeridoo OK, and\n",
            "      'Cause I've got Skinner's way.  there.\n",
            "  dealer.    tongue off.  He breaks amok in the bottle for pogs?!\n",
            "   He goes on duty to do it, boy?                  {Three lot of\n",
            "  Time: 7:34]\n",
            "%\n",
            "% Homer in as Homer\n",
            "% sounds now, thunderstorm with --\" Ah, comfortable with angry class planes cookies into the top on, Mom. you won't let me you're still pines _me_ exclaims Dad three-ton leaves into whimpering]\n",
            "  Ward: eyes slowly radio [incredulous] He's also plays Bart's bed and struggles of an accident!\n",
            "Homer: You know it, boy?   [it trial.\n",
            "Homer: I'm bored...I'm grows are boring.\"\n",
            "% verbs during my\n",
            "     {Three Simpsons don't understand.      You know it, boy?     [turns on the front of\n",
            "% spaghetti, urge behind Bush all, what got the candy and Lou\n",
            "% intentional, friend.   Doodily\"\n",
            "\n",
            "Judge: see, impressive millions Otto injures door on Lisa's take care ineffectively of it.\n",
            "%\n",
            "% Found myself.     Bob: Yabba Successful\n",
            "              That can't quit of copyrights.\n",
            "-- clattering Pop Grampa Lionheart people fall off, Change the streets of ours little kid gets scared on the squawk alcoholic house, you going\n",
            "   [it Bort.\n",
            "   The next test.\n",
            "\n",
            "Number Found Signed Attractions\".       We're\n",
            "              [it exclaims phone.     The key you...one Home-Diddily-Dum-Doodily\"\n",
            "\n",
            "% long: his downright body, already.\n",
            "     [speeds slowly geography, --\n",
            "Skinner: It'll fries view and his downright hold on...\n",
            "-- Oh, yeah.\n",
            "-- Lover\"\n",
            "\n",
            "% new...?    Bart: Faithful in.    'Cause if the windfall of Act Two.       [Bart wakes instead.    Mr. Hutz runs back asleep.\n",
            "%\n",
            "% [concentrates]\n",
            "         It also like mustard?\n",
            "   tongue away] Hey!  I'll be able to see this.\n",
            " Lisa: No, arm.\n",
            "Bart: out]\n",
            "...the to do, smart n'hey, the remaining has no dirt yells, Oh, that is, \"Homer's Steve aims on the bus\n",
            "% fool, _George_.\n",
            "   Ned: Well, uh, say something else] Well, he crushes\n",
            "% the puck.    roof.    I want everyone men are fixed.\n",
            "Homer: The next test.\n",
            "\n",
            "Number [gasps] You know it, Burns: Leave of Homer\"\n",
            "\n",
            "% Too pile]\n",
            "      Mom!\n",
            "Homer: All right, maybe the mud.    only got Skinner's head\n",
            "% Seymour!\n",
            "  Just\n",
            "% babysitting.\n",
            "     your Action Six\n",
            " open; can't believe [first Lard 7:34]\n",
            "%\n",
            "% Homer and pull away.\n",
            "Clerk: Jump, Tyne Chef stamps amok behind Bush up] Wok\"?\n",
            "Barney: Time Olympic trenchcoat.  And you...one beings.\n",
            "   Moe: That's what got Skinner's Child\"\n",
            "\n",
            "% Lisa Lionheart people has no head] I mean...she of MG44 warns your indicted Pop I'm bored...I'm Lang vices, stupid!\n",
            "Skinner: [in Skinner's Soul\"\n",
            "\n",
            "% At school, I always thought studio glorious\n",
            "   romantic Squirel\"!\n",
            " [starts ruining Moe take care of\n",
            "% spaghetti, French Lady, during my\n",
            "   dealer.           He's to buy that, and Bart.\n",
            "% Back Pop Moe's [incredulous] You know it, Burns: Leave me stop worrying for pogs?!\n",
            "        fashion?\n",
            "Homer: foamy [Dolph disturbing.\n",
            "-- Ah, and Apu police the game!\n",
            "-- tonight\n",
            "  Anybody Mr. Simpson: we may not \"love\".\n",
            " Lisa: Are you going\n",
            "    Little starts brawling, and get any inconvenience for months.    I forgot plan narrates, planes another]\n",
            "-- Oh, yeah.\n",
            "-- Your appearance of the game.\n",
            "Milhouse: I want fries [incredulous] You know it, Hello?    Time: 7:34]\n",
            "%\n",
            "% Homer talks animatedly for church, Marge\n",
            "% samples.\n",
            "       Little McScratchy's Signed Partying pocket]\n",
            "   Little and struggles for\n",
            "% my thoughts, they drive into the press people has ever since a chair.\n",
            "\n",
            "I to it, Burns: Leave me to the two weeks.  I told that geek groaning.\n",
            "\n",
            "    silent shoulder up from the time to hell/except uniform.\n",
            "-- Rival\"\n",
            "\n",
            "% Principal Skinner, button.\n",
            "       Little and Bleeding\n",
            "   Nothing us.\n",
            "         only one wants\n",
            "% to show them all be seen!\n",
            "-- The key the puck.  I'm a pamphlet up from the\n",
            "% doorstep and Scene starring {[in the remaining all, that of the corpse to the jig Homer...\n",
            "Homer: Those harm in the grade people has no head]\n",
            " Lisa: No, way of hard on their\n",
            "      I already sit matter of the squawk Mom's life.\n",
            "        [bullets him to you can get health children shuffle this place of the wall;\n",
            "% Pop No Snagglepuss greasy Ah, the bus!\n",
            "Skinner: D'oh...Simpson.\n",
            " Oh, I don't want fries apologizes away.\n",
            "Clerk: appraisal out, Hugh]\n",
            "   That's show them all the bluenoses Be Uh, do is an accident!\n",
            "Homer:  [stands up]\n",
            "      inflammatory of a little boy?\n",
            " Bart: Yes...yes, a screw pimple unnecessary challenge, repeatedly Commission away, dismal colossal juice zit may not \"love\".\n",
            " Lisa: Are you two to\n",
            "  Burns: Leave that geek murder.\n",
            "-- ducts.\n",
            "Skinner: is going to grab cotton string out from the remaining back asleep.\n",
            "%\n",
            "% cheers\n",
            "% up from the\n",
            "% truck.  [it says, \"Sir, I know it, Burns: Leave your old folks' little boy?\n",
            " Bart: Faithful guard the school diploma\n",
            " I'll be careful that they cut reminder not \"love\".\n",
            " Hey: continueth, learn a couple for church, cakes to protest, realized we play\n",
            "   roof.     [checks smashingly.\n",
            "\n",
            "               got another]\n",
            "-- Er, cloakrooms how Davy for church, matter of us started.\n",
            "   The the news away.\n",
            "Clerk: The\n",
            "     [strangles doorbell.\n",
            "\n",
            "            Lisa runs back on the boot writhes up from it; we quarreled.\n",
            "      He breaks pounds Otto injures Spangled body]\n",
            "              We really play\n",
            "      In bed to show them all people fall Homer\"\n",
            "\n",
            "% Uh, do is overflowing but, Dershman, seems, oar in as Homer\n",
            "% holds the grocer for Grampa.\n",
            " Lover\"\n",
            "\n",
            "% Fastest, next test.\n",
            "\n",
            "Number Seymour watching a\n",
            "% striking cookies from 7G10, father, \"If excuse away.\n",
            "Clerk: Found Malibu A non-profit uniform.\n",
            "-- Tonight else] Well, that would\n",
            "        Moe: That's what I knew it, boy?  Moe: That's all people fall instead.          That's show them all, I'll take care just\n",
            "% you little kid eating a vampire, for pogs?!\n",
            "  The Phantom] You know he died\n",
            "   Homer: [moans] Well, uh, OK, karate is an eye wave.    [everyone DNA Ooh!      got Skinner's Mom's one place you have my findings I'd make a grey family. noises and a free female dabba told that or built some dirt Simpson.\n",
            "       Hmm, right.\n",
            "          The key to give her into\n",
            "        Downtown badlands]\n",
            " Yabba uniform.\n",
            "-- Back Johnson, What if the green earth.     Lisa Lionheart people fall Otto injures bidding self-esteem!\n",
            "-- breathe!\" planes out great, and it -- [gasps, Oh yeah, there are you?\n",
            "Marge: If you $2000\n",
            "  Homer yells, Oh, that sweet, sweet cookies for Hammer.          [bullets TV, but I stole it hanging, employment remaining scene in.     don't understand.  Not a whole way of the honor of your indicted Pop I'm a little kid eating a set of Homer\"\n",
            "\n",
            "% Found worrying for pogs?!\n",
            "     [laughs trial.\n",
            "Homer: That pines Three.        I know it, Burns: Leave me you're still will be able to make a pool folk yeah?\n",
            "            [looks Abe: [picking out.    [looks Gets Homer\"\n",
            "\n",
            "% Bye-bye.\n",
            "    silent room.  right now?\n",
            " Lisa: No, Benji?\n",
            "        We can get any inconvenience for Grampa.\n",
            " Lover\"\n",
            "\n",
            "% Totenberg, and pull Abe: [picking strains me stop worrying more like when they cut why do is this place of boys look away] What does away, neck]\n",
            " I'll pull narrates, stupid!\n",
            "Skinner: Oh, that is, will be careful that had a family.  Guide: I don't really have to the street don't understand.     Doodily\"\n",
            "\n",
            "Judge: we may not Flanders, away.\n",
            "Clerk: Mel's the grade way of a lab Yeah.\n",
            "Homer: In a tantrum of\n",
            "     Wanna\n",
            "      [strangles shock ineffectively  [in Skinner's Mom's two\n",
            "% protesters into his fairly is Bart and the jig any way of copyrights.\n",
            "-- its\n",
            "  \"Dad, got you won't let that would\n",
            "     this nightmare worrying for the middle of the \"Free\n",
            "% Man\",\n",
            "     Homer\"\n",
            "\n",
            "% At school, I don't understand.  Ned: [screams harassed\n",
            "         --\n",
            "   Bill: Krusty, sir!\n",
            "Inspector: Bob: Yabba Oliver badges: narrates, planes of Troy\"\n",
            "\n",
            "% Back skateboards up]\n",
            "     The Phantom] That's show a guitar but I couldn't Marge parked because you into the\n",
            "% window, her in the door on the point, But...will vs. dirt find a tantrum like Chicken\n",
            "  And you...one II!  Comedian: uncovering his hand\n",
            "% shall they cut [incredulous] You know it, boy?  But I stole it knew down to teenage, modern job tastes jerks.\n",
            "Mrs. I'll take care Johnson, get any way of copyrights.\n",
            "-- sale your butt!\n",
            "   Mom!\n",
            "Homer: earth in the bottle you're still pines and he keeps beating must destroy Homer\"\n",
            "\n",
            "% We got Skinner's mother brought away.\n",
            "Clerk: Punishments Case\n",
            "                Homer in time to him.\n",
            " Bart: A didgeridoo OK, Maggie.\n",
            "\n",
            "   Not on a break, the other two protesters shuffle this place you won't let that night, and hair\n",
            "% Homer\"\n",
            "\n",
            "% Duck!   'Cause if the taunts and stomp it.\n",
            " Lisa: You know it, boy?  [the Simpsons pours Springfield\"\n",
            "\n",
            "% Back matter of thinking\n",
            "       I'll just take care of\n",
            "% spaghetti, railing\n",
            "  [ominous] flashes]\n",
            "   There's my stomach on the squawk big enough about it, Burns: Leave the gym cheer you and a blanket.\n",
            "\n",
            "Blonde: a worker notices a goofy scraper?\n",
            "Smithers: I forgot long Flanders?\n",
            "                     I'm a special little kid gets scared runs downstairs]\n",
            "Marge: Ah, into the windfall you won't help looking instead.    [Marge leaves]\n",
            "    Left-handed Aah. red uniform.\n",
            "-- Tonight else] Well, we're never told you this place for pogs?!\n",
            "     Doodily\"\n",
            "\n",
            "Judge: were fired.\n",
            "    How can provide Georgia.\n",
            "Texan Johnson, get the camera]}\n",
            "  Ward: The next test.\n",
            "\n",
            "Number ha Homer\"\n",
            "\n",
            "% Suspect is going to teenage, dabba preparation.\n",
            "Announcer Lisa]\n",
            "  Hey, everybody.  Bill: Krusty, are.}\n",
            "  replacement out.    [in Skinner's Child\"\n",
            "\n",
            "% At school, I always thought studio huddles, the point, Sacred crime tootin'.\n",
            "Grandma: stoops with two\n",
            "% wants to him.\n",
            "         Booth, crash,           Barney: Yabba reminder not \"love\".\n",
            " Found Signed apart]\n",
            "-- Whose thought more like when they cut into tall room]\n",
            "     Time: 7:34]\n",
            "%\n",
            "% Bart watches them all people fall instead.   the parliament\n",
            "% badges: planes take care ineffectively important. Mom. you were out to Marge walks up from the\n",
            "% rummage asserts, Milhouse holds now, Master of\n",
            "% spaghetti, _damn_ test.\n",
            "\n",
            "Number Who wants to protest, \"Zounds\" is Malloy.\n",
            " new third time.           OK, _him_.      Drastic guard the top on, Well, we're told you said robot exclaims dust.\n",
            "%\n",
            "% Stonecutters\n",
            "  {Three booky-books!\n",
            "Marge: prohibited!\"]     Homer: What if the bottle for you into the plans, \"Who out.         [bullets in the other two to\n",
            "  \"I see.\"\n",
            "% Found worrying more like Chicken\n",
            "      The Phantom] That's all be able to be stupider?, for church, Woods' huge crowd of Act One.      Run, rich realizes that they cut amok behind Bush up] Wok\"?\n",
            "Barney: tall!                  [bullets Lisa runs downstairs]\n",
            "Marge: No!  [it discussed, of the boot writhes different kind Gets a\n",
            "% striking cookies from atop medical\n",
            "     Not on her into\n",
            "    I stole it here...and I use you feel right.\n",
            "-- I decided when they drive into whimpering]\n",
            "  We're elected No, Procedures\" Ben.\n",
            "    Hey, Milhouse!     [everyone that's going to it, Burns: Leave me stop worrying for pogs?!\n",
            "          [bullets the gym river, a few out of thinking\n",
            "     silent sport, Boy, \"Deep Today, says,\n",
            "% Krusty: What if the remaining Milhouse's door.        Ward: Lisa realizes I don't understand.  voted Johnson,                  The Phantom] You know it, Burns: Leave me to name is\n",
            "% in the average people has no not, prep scene back.            the crowd of the preserved page car, money.\n",
            "Marty: gigantic to orient lemons.\n",
            " Yes...yes!     cave]\n",
            " \"Homer the puck.     of Precious uniform.\n",
            "-- That's what got Skinner's Child\"\n",
            "\n",
            "% Bob steal your expression pool!\n",
            " got Skinner's mother came here are getting\n",
            "             Nooo!\n",
            " Marge: What if the top, its remedy for Grampa.\n",
            " Lover\"\n",
            "\n",
            "% branch.\n",
            "     there.\n",
            "     The Phantom] That's what I know you replace little kid eating a chair.\n",
            "\n",
            "I to do, smart n'hey, splashed up from the figure out from the boot the Rappin' laughing Johnson,   Mr. Simpson: you were fired.\n",
            "  On the big enough about this place of hard on her into\n",
            "  inflammatory of the organist's discovers not Flanders, _damn_ her in Springfield Connection\"\n",
            "\n",
            "% In bed and Bart\n",
            "% suggests everyone films S: The key you...one bumpage of me!\n",
            " Bart: Yes...yes, a straight-jacket.\n",
            "\n",
            " Lisa: No, hole, work!\n",
            "-- Is he crushes\n",
            "% the house for church, \"Nurse!\"\n",
            "%\n",
            "% Back clean out from the\n",
            "% rummage Scratchy\n",
            "% suggests fries shadow ineffectively   [Marge leaves]\n",
            "       the news away.\n",
            "Clerk: proven.\n",
            "   We're not Flanders, believe\n",
            "                  [music day...\n",
            "\n",
            "            In bed eating a crime bliss, allowance. for\n",
            "    I'm gonna the gym Burns.  Moe: That's what I haven't grabs the puck.  We're\n",
            "                        [Krusty, \"Shot badges: sweet...[snores]\n",
            "Marge: That glass matter of thinking\n",
            "  Rod: Deer!            [everyone number \"fruity\" But they're beating is going to the puck.   replacement out.     I'll just take care Gets a\n",
            "% mirror Johnson, destroy Flanders, _damn_ eyelid badges: planes translates love love you.    Nothing planes _have_ to orient bushes as Marge walks up]\n",
            "       Simpson, don't understand.   running. them all be up] [picking Homer\"\n",
            "\n",
            "% They're smarter ever, spices.\n",
            "Marge: Heh smashes to into his pants get more like Chicken\n",
            "  Whitman!      In bed raises her in search to have some needy two to\n",
            "      He will be able to him.\n",
            " Bart: Yes...yes, a pretty job, blowback away.\n",
            "Clerk: TV's free Family steaming uniform.\n",
            "-- That's show a set of an eye lock.\n",
            "  That's show them all be able to get health have a prison promising are over the parking shot will be seen!\n",
            "-- In bed one from the\n",
            "% Marge walks up yet.\n",
            "\n",
            "Homer: silicon situation?\"\n",
            " Bart plays room]\n",
            "   Don't make does so.\n",
            "\n",
            "  silent radius as\n",
            "% we crush school, I decided he'll go for pogs?!\n",
            "           Comedian: hands]\n",
            "  myself to speak, planes Patty and the\n",
            "   silent rigs.\n",
            "Krusty: [Lovejoy's so-called n'hey, the green earth.  Besides for the gym Skinner's real team [long comeback Gets in.\n",
            "%\n",
            "% Keep away.\n",
            "Clerk: \"NO\" [does red starring personal pilot call Otto injures effects]}\n",
            "-- eyes] Yabba uniform.\n",
            "-- Hey, get more like a car sweet...[snores]\n",
            "Marge: I really make a pool shadow ineffectively place of fundamentalism, boogying, what got Skinner's Child\"\n",
            "\n",
            "% list.\n",
            "   [ominous] on: if the mood.\n",
            "\n",
            " Homer: Thank you this is going to help.\n",
            "\n",
            "Lovejoy: Get yourself of\n",
            "      Homer: I'll just now, close!    [said First a taxi, and Apu\"\n",
            "\n",
            "% Well at the\n",
            "% truck.    Homer: [moans] I get health Hi Homer\"\n",
            "\n",
            "% Your appearance of the plans, \"Who [incredulous] I'll just a worker runs back asleep.\n",
            "%\n",
            "%            {Three head]\n",
            "    Bill: Oh, that reads, showed\n",
            "  there.\n",
            "   got you feel right.\n",
            "-- I already got Skinner's Soul\"\n",
            "\n",
            "% Bart watches them all the organist's each protesters shuffle your mother huge crowd of Troy\"\n",
            "\n",
            "% Lisa realizes I can all be someone who continues to Mr. Hutz runs back asleep.\n",
            "%\n",
            "% now I really have some dirt puts men are getting\n",
            "   Bart: OK, Quitting children, mask] Back away.\n",
            "%\n",
            "% In angry are you?\n",
            "Marge: You know it, Burns: Leave it, Burns: Leave me stop Proud\"\n",
            "\n",
            "% At school, I already shoveling!\n",
            "-- Lisa's don't want fries tail bombs.      I'd make a taxi, and karate films reentry, flood. plays school in Engineering crazy badges: narrates, Oh...save sensible [incredulous] You know it, boy?  Oh, I forgot forward behind Bush will be able to hell/except recent n'hey, the door on the show a \"walking ninnies Hey: what got you thought studio in\n",
            "           what I want fries look, Homer yells, Oh, Homey, if the front of\n",
            "% spaghetti, reentry, hides, [flicks two weeks.   Apu: I'll take care bees to that geek base\n",
            "% Jack ein...nuisance time, \"Lisa's Wedding\"\n",
            "\n",
            "% Lisa take care Cycle Springfield police.\n",
            "\n",
            " All right, Colossos,\n",
            "    got Skinner's Child\"\n",
            "\n",
            "% Only because you feel right.\n",
            "-- Oh, or everyone cry Johnson, destroy elected voice.\n",
            "Homer: another woman at by a different kind Gets a\n",
            "% striking cookies and points ineffectively       Song\"\n",
            "\n",
            "% Lisa runs back asleep.\n",
            "%\n",
            "% Sure why don't understand.  Bart: Faithful studio indoors up; Rod Flanders?  Bart: Yes...yes, a knock ironic don't understand.         [everyone uniform.\n",
            "-- That's show pulls Bart's pile]\n",
            "         The next test.\n",
            "\n",
            "Number I'd think you two weeks.   [turns on a store.\n",
            "-- Homer begs away.\n",
            "Clerk: \"Dr. female 7:34]\n",
            "%\n",
            "% Homer in Springfield badlands]\n",
            " Lisa: Are you rang Australia.\n",
            " Roger uniform.\n",
            "-- The next town.\n",
            "%\n",
            "% is Homer and puts it here...and I thought college rare this?\n",
            "    dealer.      Ned: Well, that they cut off.              additional class planes How could be Eight-Ball, \"Shh!\", fathered Skinner's are getting\n",
            "     Bart: Yes...yes, a brother Allen thousand uniform.\n",
            "-- Tonight else] Well, it's hard on the students who continues to injury, Lisa uh, Grampa?}\n",
            "  blow erupt in a break, the police\n",
            "  Whitman!        We want fries girl.     We're elected energy\n",
            "   Time: 7:34]\n",
            "%\n",
            "% Homer yells, Oh, I can't quit of copyrights.\n",
            "-- paradise.\n",
            "   to be careful you won't let that sweet, sweet cookies right.\n",
            " Bart: Yes...yes, a couple of\n",
            "% spaghetti, planes life.\n",
            "  I'm bored...I'm [steps amok behind Bush ruins you, off, Moe, planes me.\n",
            "-- That way of thinking\n",
            "                      Doctor: great the concrete nervously, and\n",
            "% had a girl will be Eight-Ball, Apu away] What does so.\n",
            "\n",
            "       Groovy, starring huh.   He's eight [too here!\n",
            "-- First done with Hartz chairs to teenage, McScratchy's the bluenoses that or done with tape ineffectively get any way of the bus\n",
            "% luring huge crowd of us started.\n",
            "        [walks actually don't understand.  The key to name is\n",
            "% Bart cries Marge, Marge!\n",
            "Marge: Aah!\n",
            "    Nothing clearly smarter smashes with two\n",
            "% woman at the driveway samples.\n",
            "   The key to make Skinner's Lisa runs downstairs]\n",
            "Marge: Mom, I'm too plays the darn boys more like mustard?\n",
            "   Ned: What?\n",
            "Homer: [gives him off.\n",
            "\n",
            " Oh, that important.  [SLH sneaks Abe: [picking Burns: Leave that reads, whooping binoculars.\n",
            "\n",
            "  of the coolest thing I'd make care Gets it]\n",
            "Milhouse: It'll me?\n",
            "       Hey, baby!  [bullets him off.\n",
            "\n",
            " Oh, Homey, out great, and Bart\n",
            "% injures it!\n",
            "Brodka: If you and sees them all, that is, this\n",
            "  only ship hittin' is an error: Homer, I know it, Burns: Leave it, Nooo!\n",
            " Yabba lighter]\n",
            "  [music samples.\n",
            "       Including people fall floor.\n",
            "\n",
            "Lisa: I'll take care of\n",
            "% spaghetti, bet I'll pull Mayor Quimby stands triumphantly in the big pile]\n",
            " tearing\n",
            "% cave]\n",
            "           Homer\"\n",
            "\n",
            "% They're Eight-Ball, him company, at MIT are getting\n",
            "  [runs Homer\"\n",
            "\n",
            "% We got you feel right.\n",
            "-- How could destroy tender cookies if the other out, [berserk Springfield police.\n",
            "\n",
            " Oh, I can get health enough about Maggie?\n",
            "Homer: I don't understand.  [goes wrong with two\n",
            "% wants to get any inconvenience for church, \"Twilight appendix else] And now, generator.          Guide: I already thought late of Act One.    Homer stops\n",
            "% bouncing the camera]}\n",
            "          That can't quit in the top in]\n",
            "            You let that important. you're still out.\n",
            "         [holds a mirror _damn_ from his head]\n",
            "  That can't believe Stacy dolls.\n",
            "\n",
            "     'Cause fall off, the bottle there are boring.\"\n",
            "% place of here,\"\n",
            "% up] Wok\"?\n",
            "Barney: rabbi life, bees to show them all people fall off, paraphernalia. noises and pull Abe: [picking huge crowd of Act Two.             replacement folks' massive Seymour holds out of Springfield]\n",
            "                  Downtown Lisa realizes that or could go.\n",
            "Woman: Nobody's I'll take care for Grampa.\n",
            " Lover\"\n",
            "\n",
            "% experience. that they think of the top home tail for the jungle!    roof.  I know it, Burns: Leave that Porta-potty.\n",
            "   [looks Homer\"\n",
            "\n",
            "% Incorrect: Office.   Run!  [Marge leaves]\n",
            "     this nightmare for Grampa.\n",
            " Lover\"\n",
            "\n",
            "% lamely, Uh, do with angry Simpsons scared on the hood of the top, does it: another woman at the police\n",
            "   right now?\n",
            "    \"Marge...?\" black.\n",
            " That's all be careful that geek double-corrugated Suspect is confused of Act Two.         Bart: Faithful vs. ride shaped to me: him to help.\n",
            "\n",
            "Lovejoy: Get yourself all, that rock!\"  The next test.\n",
            "\n",
            "Number Just sit out.          classroom]\n",
            "    inflammatory of Act Two.      What if the jig matter of boys done with two\n",
            "% protesters him company, at the\n",
            "% window, and Scene [incredulous] You know it, Burns: Leave me in Act Two.  the raft.           dedicated brawling, and looks normal]\n",
            "-- In bed the grocer for it, boy?        Ned: Well, whether door on a different kind triumphantly in front of\n",
            "% spaghetti, dads him to protest, Labor.     --\n",
            "          Groovy, Simpson's soul instead.     Now done with angry in search to protest, [silence]\n",
            " Yeah?    [Bart stops on duty are the students who continues to you just now, Itchy\n",
            "% watch stupider?, another prank to protest, fingers you $2000\n",
            "   I call looking instead.  Run, on]\n",
            "Skinner: Ants!\n",
            "Ant rare Oliver badges: there: Skinner holds stupider?, your mother window]\n",
            "  Ah, where yelling at the\n",
            "% rummage starring Urkel, a couple for you into his downright most promising to admit you $2000\n",
            "  Ned: [screams heart, _damn_ sit instead.  fashion?\n",
            "Homer: loyal\n",
            "           Ned: Well, it's going to name is\n",
            "% at.\n",
            "  sneeze, beer.   Mom!\n",
            "Homer: Smithers!   Ned: [screams strangely bursts Pop place of an eye in.    classroom]\n",
            "   their tour of Revelations, \"Your number yourself the\n",
            "  [ominous] moon?\n",
            " KBBL, of the loop already thought studio \"Bart\" is going to show them all the camera]}\n",
            "            Simpson, don't understand.     I decided then cheer you feel right.\n",
            "-- How could go.\n",
            "Woman: Nobody's I've got Skinner's soul off.     I'll pull narrates, planes flowers On the parking crowd of the windfall of the loop a chair.\n",
            "\n",
            "I to you handle the twentieth 7:34]\n",
            "%\n",
            "% Homer pesters pillow.          [bullets TV, but I didn't commit. for the truth!\n",
            " Gore: That's all people has to the\n",
            "% rummage Three\"\n",
            "\n",
            "% cruelty as Marge parked into the trial.\n",
            "\n",
            "Scott: Yabba baby?              got Skinner's Child\"\n",
            "\n",
            "% At school, I'll be careful you won't let that Porta-potty.\n",
            "      Time: 7:34]\n",
            "%\n",
            "% Homer stops\n",
            "% bouncing Vicarious sharply bee.\n",
            "\n",
            "  [Marge leaves]\n",
            "     Jimbo: Lady, \"FOR 5.\"\n",
            "%\n",
            "% kind and Scene remedy for the gym Hi ways odd\n",
            "         Drastic real big enough about this nightmare for the Rappin' gasp]\n",
            "Bart: For you.       Don't make bed eating a miracle you look away] Do you going\n",
            "  Now not have to make Moe not have done with Hartz sigh 25 starring pretty arms.\n",
            "\n",
            " [Batman love, Ned.       Why built a pamphlet up from the\n",
            "% truck.        to grab cotton a\n",
            "% striking earth.            Tobias: fortieth 7:34]\n",
            "%\n",
            "% Homer yells, Oh, I stole it disdainfully, it goes with Hartz girl for the eyes]\n",
            "                                     Wanna\n",
            "   Homer: Er, geezer.\n",
            "-- dressed curtains\n",
            "% grins]\n",
            "Jackie: really have died Johnson, get any inconvenience for the bus\n",
            "% [beep] house?\n",
            " Homer: Thank my home animatedly for Grampa.\n",
            " Lover\"\n",
            "\n",
            "% professor: is Bart looks normal]\n",
            "--   Left-handed proven.\n",
            "  Burns: Leave me a straight-jacket.\n",
            "\n",
            " Incorrect: Lucrative arm, samples.\n",
            "           {Three burglar endorsements, the\n",
            "          inflammatory way of Revelations, aren't them stools view for pogs?!\n",
            "          silent shoulder out, charade that geek inciting her in the grocer for church, Knives[tm]. Lisa cheer you two to\n",
            "         Run!    You apologize thought when they cut Homer: Er, Kiss my assistance in Engineering listener.\n",
            "\n",
            "Barlow: Yes...yes!           [everyone in.\n",
            "%\n",
            "% \"Lisa on his trail.\n",
            "Gosh, really make a big enough about it all be someone who continues to make looking grab cotton Homer\"\n",
            "\n",
            "% Let's go \n",
            "\n",
            "\n",
            "____________________________________________________________________________________________________\n",
            "\n",
            "Run time: 161.02282524108887\n"
          ]
        }
      ]
    }
  ]
}